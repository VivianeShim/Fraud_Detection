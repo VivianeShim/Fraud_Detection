{
 "cells": [
  {
   "cell_type": "markdown",
   "metadata": {},
   "source": [
    "# <b> Train transaction\n",
    "## 1. Threshold (when missing values are more than 90%)\n",
    "## 2. Convert Float64, Int 64\n",
    "## 3. Find categorical columns, Convert categorical values to numerical values\n",
    "## (For email column, Find top 5 then covert to 1~5, others to 6) Fill missing values for categorical columns\n",
    "## 4. Fill missing values for numerical columns"
   ]
  },
  {
   "cell_type": "code",
   "execution_count": 3,
   "metadata": {},
   "outputs": [],
   "source": [
    "import numpy as np   # import numpy\n",
    "import pandas as pd  # import pandas\n",
    "import os\n",
    "import gc   # for gabage collection\n",
    "import seaborn as sns  # data visualization lib\n",
    "import matplotlib.pyplot as plt\n",
    "import glob\n",
    "#from tqdm import tqdm\n",
    "%matplotlib inline"
   ]
  },
  {
   "cell_type": "code",
   "execution_count": 4,
   "metadata": {},
   "outputs": [],
   "source": [
    "DATA_PATH = r'C:\\Users\\YAE WEON SHIM\\CEBD 1260'"
   ]
  },
  {
   "cell_type": "code",
   "execution_count": 5,
   "metadata": {},
   "outputs": [
    {
     "data": {
      "text/plain": [
       "'C:\\\\Users\\\\YAE WEON SHIM\\\\CEBD 1260\\\\train_transaction.csv'"
      ]
     },
     "execution_count": 5,
     "metadata": {},
     "output_type": "execute_result"
    }
   ],
   "source": [
    "file_name = os.path.join(DATA_PATH,r'train_transaction.csv')\n",
    "file_name"
   ]
  },
  {
   "cell_type": "code",
   "execution_count": 6,
   "metadata": {},
   "outputs": [],
   "source": [
    "df= pd.read_csv(file_name)"
   ]
  },
  {
   "cell_type": "code",
   "execution_count": 7,
   "metadata": {},
   "outputs": [
    {
     "data": {
      "text/plain": [
       "(590540, 394)"
      ]
     },
     "execution_count": 7,
     "metadata": {},
     "output_type": "execute_result"
    }
   ],
   "source": [
    "df.shape"
   ]
  },
  {
   "cell_type": "code",
   "execution_count": 7,
   "metadata": {},
   "outputs": [
    {
     "data": {
      "text/html": [
       "<div>\n",
       "<style scoped>\n",
       "    .dataframe tbody tr th:only-of-type {\n",
       "        vertical-align: middle;\n",
       "    }\n",
       "\n",
       "    .dataframe tbody tr th {\n",
       "        vertical-align: top;\n",
       "    }\n",
       "\n",
       "    .dataframe thead th {\n",
       "        text-align: right;\n",
       "    }\n",
       "</style>\n",
       "<table border=\"1\" class=\"dataframe\">\n",
       "  <thead>\n",
       "    <tr style=\"text-align: right;\">\n",
       "      <th></th>\n",
       "      <th>TransactionID</th>\n",
       "      <th>isFraud</th>\n",
       "      <th>TransactionDT</th>\n",
       "      <th>TransactionAmt</th>\n",
       "      <th>ProductCD</th>\n",
       "      <th>card1</th>\n",
       "      <th>card2</th>\n",
       "      <th>card3</th>\n",
       "      <th>card4</th>\n",
       "      <th>card5</th>\n",
       "      <th>...</th>\n",
       "      <th>V330</th>\n",
       "      <th>V331</th>\n",
       "      <th>V332</th>\n",
       "      <th>V333</th>\n",
       "      <th>V334</th>\n",
       "      <th>V335</th>\n",
       "      <th>V336</th>\n",
       "      <th>V337</th>\n",
       "      <th>V338</th>\n",
       "      <th>V339</th>\n",
       "    </tr>\n",
       "  </thead>\n",
       "  <tbody>\n",
       "    <tr>\n",
       "      <th>0</th>\n",
       "      <td>2987000</td>\n",
       "      <td>0</td>\n",
       "      <td>86400</td>\n",
       "      <td>68.5</td>\n",
       "      <td>W</td>\n",
       "      <td>13926</td>\n",
       "      <td>NaN</td>\n",
       "      <td>150.0</td>\n",
       "      <td>discover</td>\n",
       "      <td>142.0</td>\n",
       "      <td>...</td>\n",
       "      <td>NaN</td>\n",
       "      <td>NaN</td>\n",
       "      <td>NaN</td>\n",
       "      <td>NaN</td>\n",
       "      <td>NaN</td>\n",
       "      <td>NaN</td>\n",
       "      <td>NaN</td>\n",
       "      <td>NaN</td>\n",
       "      <td>NaN</td>\n",
       "      <td>NaN</td>\n",
       "    </tr>\n",
       "    <tr>\n",
       "      <th>1</th>\n",
       "      <td>2987001</td>\n",
       "      <td>0</td>\n",
       "      <td>86401</td>\n",
       "      <td>29.0</td>\n",
       "      <td>W</td>\n",
       "      <td>2755</td>\n",
       "      <td>404.0</td>\n",
       "      <td>150.0</td>\n",
       "      <td>mastercard</td>\n",
       "      <td>102.0</td>\n",
       "      <td>...</td>\n",
       "      <td>NaN</td>\n",
       "      <td>NaN</td>\n",
       "      <td>NaN</td>\n",
       "      <td>NaN</td>\n",
       "      <td>NaN</td>\n",
       "      <td>NaN</td>\n",
       "      <td>NaN</td>\n",
       "      <td>NaN</td>\n",
       "      <td>NaN</td>\n",
       "      <td>NaN</td>\n",
       "    </tr>\n",
       "    <tr>\n",
       "      <th>2</th>\n",
       "      <td>2987002</td>\n",
       "      <td>0</td>\n",
       "      <td>86469</td>\n",
       "      <td>59.0</td>\n",
       "      <td>W</td>\n",
       "      <td>4663</td>\n",
       "      <td>490.0</td>\n",
       "      <td>150.0</td>\n",
       "      <td>visa</td>\n",
       "      <td>166.0</td>\n",
       "      <td>...</td>\n",
       "      <td>NaN</td>\n",
       "      <td>NaN</td>\n",
       "      <td>NaN</td>\n",
       "      <td>NaN</td>\n",
       "      <td>NaN</td>\n",
       "      <td>NaN</td>\n",
       "      <td>NaN</td>\n",
       "      <td>NaN</td>\n",
       "      <td>NaN</td>\n",
       "      <td>NaN</td>\n",
       "    </tr>\n",
       "    <tr>\n",
       "      <th>3</th>\n",
       "      <td>2987003</td>\n",
       "      <td>0</td>\n",
       "      <td>86499</td>\n",
       "      <td>50.0</td>\n",
       "      <td>W</td>\n",
       "      <td>18132</td>\n",
       "      <td>567.0</td>\n",
       "      <td>150.0</td>\n",
       "      <td>mastercard</td>\n",
       "      <td>117.0</td>\n",
       "      <td>...</td>\n",
       "      <td>NaN</td>\n",
       "      <td>NaN</td>\n",
       "      <td>NaN</td>\n",
       "      <td>NaN</td>\n",
       "      <td>NaN</td>\n",
       "      <td>NaN</td>\n",
       "      <td>NaN</td>\n",
       "      <td>NaN</td>\n",
       "      <td>NaN</td>\n",
       "      <td>NaN</td>\n",
       "    </tr>\n",
       "    <tr>\n",
       "      <th>4</th>\n",
       "      <td>2987004</td>\n",
       "      <td>0</td>\n",
       "      <td>86506</td>\n",
       "      <td>50.0</td>\n",
       "      <td>H</td>\n",
       "      <td>4497</td>\n",
       "      <td>514.0</td>\n",
       "      <td>150.0</td>\n",
       "      <td>mastercard</td>\n",
       "      <td>102.0</td>\n",
       "      <td>...</td>\n",
       "      <td>0.0</td>\n",
       "      <td>0.0</td>\n",
       "      <td>0.0</td>\n",
       "      <td>0.0</td>\n",
       "      <td>0.0</td>\n",
       "      <td>0.0</td>\n",
       "      <td>0.0</td>\n",
       "      <td>0.0</td>\n",
       "      <td>0.0</td>\n",
       "      <td>0.0</td>\n",
       "    </tr>\n",
       "  </tbody>\n",
       "</table>\n",
       "<p>5 rows × 394 columns</p>\n",
       "</div>"
      ],
      "text/plain": [
       "   TransactionID  isFraud  TransactionDT  TransactionAmt ProductCD  card1  \\\n",
       "0        2987000        0          86400            68.5         W  13926   \n",
       "1        2987001        0          86401            29.0         W   2755   \n",
       "2        2987002        0          86469            59.0         W   4663   \n",
       "3        2987003        0          86499            50.0         W  18132   \n",
       "4        2987004        0          86506            50.0         H   4497   \n",
       "\n",
       "   card2  card3       card4  card5  ... V330  V331  V332  V333  V334 V335  \\\n",
       "0    NaN  150.0    discover  142.0  ...  NaN   NaN   NaN   NaN   NaN  NaN   \n",
       "1  404.0  150.0  mastercard  102.0  ...  NaN   NaN   NaN   NaN   NaN  NaN   \n",
       "2  490.0  150.0        visa  166.0  ...  NaN   NaN   NaN   NaN   NaN  NaN   \n",
       "3  567.0  150.0  mastercard  117.0  ...  NaN   NaN   NaN   NaN   NaN  NaN   \n",
       "4  514.0  150.0  mastercard  102.0  ...  0.0   0.0   0.0   0.0   0.0  0.0   \n",
       "\n",
       "  V336  V337  V338  V339  \n",
       "0  NaN   NaN   NaN   NaN  \n",
       "1  NaN   NaN   NaN   NaN  \n",
       "2  NaN   NaN   NaN   NaN  \n",
       "3  NaN   NaN   NaN   NaN  \n",
       "4  0.0   0.0   0.0   0.0  \n",
       "\n",
       "[5 rows x 394 columns]"
      ]
     },
     "execution_count": 7,
     "metadata": {},
     "output_type": "execute_result"
    }
   ],
   "source": [
    "df.head()"
   ]
  },
  {
   "cell_type": "code",
   "execution_count": 8,
   "metadata": {},
   "outputs": [
    {
     "data": {
      "text/html": [
       "<div>\n",
       "<style scoped>\n",
       "    .dataframe tbody tr th:only-of-type {\n",
       "        vertical-align: middle;\n",
       "    }\n",
       "\n",
       "    .dataframe tbody tr th {\n",
       "        vertical-align: top;\n",
       "    }\n",
       "\n",
       "    .dataframe thead th {\n",
       "        text-align: right;\n",
       "    }\n",
       "</style>\n",
       "<table border=\"1\" class=\"dataframe\">\n",
       "  <thead>\n",
       "    <tr style=\"text-align: right;\">\n",
       "      <th></th>\n",
       "      <th>TransactionID</th>\n",
       "      <th>isFraud</th>\n",
       "      <th>TransactionDT</th>\n",
       "      <th>TransactionAmt</th>\n",
       "      <th>card1</th>\n",
       "      <th>card2</th>\n",
       "      <th>card3</th>\n",
       "      <th>card5</th>\n",
       "      <th>addr1</th>\n",
       "      <th>addr2</th>\n",
       "      <th>...</th>\n",
       "      <th>V330</th>\n",
       "      <th>V331</th>\n",
       "      <th>V332</th>\n",
       "      <th>V333</th>\n",
       "      <th>V334</th>\n",
       "      <th>V335</th>\n",
       "      <th>V336</th>\n",
       "      <th>V337</th>\n",
       "      <th>V338</th>\n",
       "      <th>V339</th>\n",
       "    </tr>\n",
       "  </thead>\n",
       "  <tbody>\n",
       "    <tr>\n",
       "      <th>count</th>\n",
       "      <td>5.905400e+05</td>\n",
       "      <td>590540.000000</td>\n",
       "      <td>5.905400e+05</td>\n",
       "      <td>590540.000000</td>\n",
       "      <td>590540.000000</td>\n",
       "      <td>581607.000000</td>\n",
       "      <td>588975.000000</td>\n",
       "      <td>586281.000000</td>\n",
       "      <td>524834.000000</td>\n",
       "      <td>524834.000000</td>\n",
       "      <td>...</td>\n",
       "      <td>82351.000000</td>\n",
       "      <td>82351.000000</td>\n",
       "      <td>82351.000000</td>\n",
       "      <td>82351.000000</td>\n",
       "      <td>82351.000000</td>\n",
       "      <td>82351.00000</td>\n",
       "      <td>82351.000000</td>\n",
       "      <td>82351.000000</td>\n",
       "      <td>82351.000000</td>\n",
       "      <td>82351.000000</td>\n",
       "    </tr>\n",
       "    <tr>\n",
       "      <th>mean</th>\n",
       "      <td>3.282270e+06</td>\n",
       "      <td>0.034990</td>\n",
       "      <td>7.372311e+06</td>\n",
       "      <td>135.027176</td>\n",
       "      <td>9898.734658</td>\n",
       "      <td>362.555488</td>\n",
       "      <td>153.194925</td>\n",
       "      <td>199.278897</td>\n",
       "      <td>290.733794</td>\n",
       "      <td>86.800630</td>\n",
       "      <td>...</td>\n",
       "      <td>0.775874</td>\n",
       "      <td>721.741883</td>\n",
       "      <td>1375.783644</td>\n",
       "      <td>1014.622782</td>\n",
       "      <td>9.807015</td>\n",
       "      <td>59.16455</td>\n",
       "      <td>28.530903</td>\n",
       "      <td>55.352422</td>\n",
       "      <td>151.160542</td>\n",
       "      <td>100.700882</td>\n",
       "    </tr>\n",
       "    <tr>\n",
       "      <th>std</th>\n",
       "      <td>1.704744e+05</td>\n",
       "      <td>0.183755</td>\n",
       "      <td>4.617224e+06</td>\n",
       "      <td>239.162522</td>\n",
       "      <td>4901.170153</td>\n",
       "      <td>157.793246</td>\n",
       "      <td>11.336444</td>\n",
       "      <td>41.244453</td>\n",
       "      <td>101.741072</td>\n",
       "      <td>2.690623</td>\n",
       "      <td>...</td>\n",
       "      <td>4.727971</td>\n",
       "      <td>6217.223583</td>\n",
       "      <td>11169.275702</td>\n",
       "      <td>7955.735482</td>\n",
       "      <td>243.861391</td>\n",
       "      <td>387.62948</td>\n",
       "      <td>274.576920</td>\n",
       "      <td>668.486833</td>\n",
       "      <td>1095.034387</td>\n",
       "      <td>814.946722</td>\n",
       "    </tr>\n",
       "    <tr>\n",
       "      <th>min</th>\n",
       "      <td>2.987000e+06</td>\n",
       "      <td>0.000000</td>\n",
       "      <td>8.640000e+04</td>\n",
       "      <td>0.251000</td>\n",
       "      <td>1000.000000</td>\n",
       "      <td>100.000000</td>\n",
       "      <td>100.000000</td>\n",
       "      <td>100.000000</td>\n",
       "      <td>100.000000</td>\n",
       "      <td>10.000000</td>\n",
       "      <td>...</td>\n",
       "      <td>0.000000</td>\n",
       "      <td>0.000000</td>\n",
       "      <td>0.000000</td>\n",
       "      <td>0.000000</td>\n",
       "      <td>0.000000</td>\n",
       "      <td>0.00000</td>\n",
       "      <td>0.000000</td>\n",
       "      <td>0.000000</td>\n",
       "      <td>0.000000</td>\n",
       "      <td>0.000000</td>\n",
       "    </tr>\n",
       "    <tr>\n",
       "      <th>25%</th>\n",
       "      <td>3.134635e+06</td>\n",
       "      <td>0.000000</td>\n",
       "      <td>3.027058e+06</td>\n",
       "      <td>43.321000</td>\n",
       "      <td>6019.000000</td>\n",
       "      <td>214.000000</td>\n",
       "      <td>150.000000</td>\n",
       "      <td>166.000000</td>\n",
       "      <td>204.000000</td>\n",
       "      <td>87.000000</td>\n",
       "      <td>...</td>\n",
       "      <td>0.000000</td>\n",
       "      <td>0.000000</td>\n",
       "      <td>0.000000</td>\n",
       "      <td>0.000000</td>\n",
       "      <td>0.000000</td>\n",
       "      <td>0.00000</td>\n",
       "      <td>0.000000</td>\n",
       "      <td>0.000000</td>\n",
       "      <td>0.000000</td>\n",
       "      <td>0.000000</td>\n",
       "    </tr>\n",
       "    <tr>\n",
       "      <th>50%</th>\n",
       "      <td>3.282270e+06</td>\n",
       "      <td>0.000000</td>\n",
       "      <td>7.306528e+06</td>\n",
       "      <td>68.769000</td>\n",
       "      <td>9678.000000</td>\n",
       "      <td>361.000000</td>\n",
       "      <td>150.000000</td>\n",
       "      <td>226.000000</td>\n",
       "      <td>299.000000</td>\n",
       "      <td>87.000000</td>\n",
       "      <td>...</td>\n",
       "      <td>0.000000</td>\n",
       "      <td>0.000000</td>\n",
       "      <td>0.000000</td>\n",
       "      <td>0.000000</td>\n",
       "      <td>0.000000</td>\n",
       "      <td>0.00000</td>\n",
       "      <td>0.000000</td>\n",
       "      <td>0.000000</td>\n",
       "      <td>0.000000</td>\n",
       "      <td>0.000000</td>\n",
       "    </tr>\n",
       "    <tr>\n",
       "      <th>75%</th>\n",
       "      <td>3.429904e+06</td>\n",
       "      <td>0.000000</td>\n",
       "      <td>1.124662e+07</td>\n",
       "      <td>125.000000</td>\n",
       "      <td>14184.000000</td>\n",
       "      <td>512.000000</td>\n",
       "      <td>150.000000</td>\n",
       "      <td>226.000000</td>\n",
       "      <td>330.000000</td>\n",
       "      <td>87.000000</td>\n",
       "      <td>...</td>\n",
       "      <td>0.000000</td>\n",
       "      <td>0.000000</td>\n",
       "      <td>25.000000</td>\n",
       "      <td>0.000000</td>\n",
       "      <td>0.000000</td>\n",
       "      <td>0.00000</td>\n",
       "      <td>0.000000</td>\n",
       "      <td>0.000000</td>\n",
       "      <td>0.000000</td>\n",
       "      <td>0.000000</td>\n",
       "    </tr>\n",
       "    <tr>\n",
       "      <th>max</th>\n",
       "      <td>3.577539e+06</td>\n",
       "      <td>1.000000</td>\n",
       "      <td>1.581113e+07</td>\n",
       "      <td>31937.391000</td>\n",
       "      <td>18396.000000</td>\n",
       "      <td>600.000000</td>\n",
       "      <td>231.000000</td>\n",
       "      <td>237.000000</td>\n",
       "      <td>540.000000</td>\n",
       "      <td>102.000000</td>\n",
       "      <td>...</td>\n",
       "      <td>55.000000</td>\n",
       "      <td>160000.000000</td>\n",
       "      <td>160000.000000</td>\n",
       "      <td>160000.000000</td>\n",
       "      <td>55125.000000</td>\n",
       "      <td>55125.00000</td>\n",
       "      <td>55125.000000</td>\n",
       "      <td>104060.000000</td>\n",
       "      <td>104060.000000</td>\n",
       "      <td>104060.000000</td>\n",
       "    </tr>\n",
       "  </tbody>\n",
       "</table>\n",
       "<p>8 rows × 380 columns</p>\n",
       "</div>"
      ],
      "text/plain": [
       "       TransactionID        isFraud  TransactionDT  TransactionAmt  \\\n",
       "count   5.905400e+05  590540.000000   5.905400e+05   590540.000000   \n",
       "mean    3.282270e+06       0.034990   7.372311e+06      135.027176   \n",
       "std     1.704744e+05       0.183755   4.617224e+06      239.162522   \n",
       "min     2.987000e+06       0.000000   8.640000e+04        0.251000   \n",
       "25%     3.134635e+06       0.000000   3.027058e+06       43.321000   \n",
       "50%     3.282270e+06       0.000000   7.306528e+06       68.769000   \n",
       "75%     3.429904e+06       0.000000   1.124662e+07      125.000000   \n",
       "max     3.577539e+06       1.000000   1.581113e+07    31937.391000   \n",
       "\n",
       "               card1          card2          card3          card5  \\\n",
       "count  590540.000000  581607.000000  588975.000000  586281.000000   \n",
       "mean     9898.734658     362.555488     153.194925     199.278897   \n",
       "std      4901.170153     157.793246      11.336444      41.244453   \n",
       "min      1000.000000     100.000000     100.000000     100.000000   \n",
       "25%      6019.000000     214.000000     150.000000     166.000000   \n",
       "50%      9678.000000     361.000000     150.000000     226.000000   \n",
       "75%     14184.000000     512.000000     150.000000     226.000000   \n",
       "max     18396.000000     600.000000     231.000000     237.000000   \n",
       "\n",
       "               addr1          addr2  ...          V330           V331  \\\n",
       "count  524834.000000  524834.000000  ...  82351.000000   82351.000000   \n",
       "mean      290.733794      86.800630  ...      0.775874     721.741883   \n",
       "std       101.741072       2.690623  ...      4.727971    6217.223583   \n",
       "min       100.000000      10.000000  ...      0.000000       0.000000   \n",
       "25%       204.000000      87.000000  ...      0.000000       0.000000   \n",
       "50%       299.000000      87.000000  ...      0.000000       0.000000   \n",
       "75%       330.000000      87.000000  ...      0.000000       0.000000   \n",
       "max       540.000000     102.000000  ...     55.000000  160000.000000   \n",
       "\n",
       "                V332           V333          V334         V335          V336  \\\n",
       "count   82351.000000   82351.000000  82351.000000  82351.00000  82351.000000   \n",
       "mean     1375.783644    1014.622782      9.807015     59.16455     28.530903   \n",
       "std     11169.275702    7955.735482    243.861391    387.62948    274.576920   \n",
       "min         0.000000       0.000000      0.000000      0.00000      0.000000   \n",
       "25%         0.000000       0.000000      0.000000      0.00000      0.000000   \n",
       "50%         0.000000       0.000000      0.000000      0.00000      0.000000   \n",
       "75%        25.000000       0.000000      0.000000      0.00000      0.000000   \n",
       "max    160000.000000  160000.000000  55125.000000  55125.00000  55125.000000   \n",
       "\n",
       "                V337           V338           V339  \n",
       "count   82351.000000   82351.000000   82351.000000  \n",
       "mean       55.352422     151.160542     100.700882  \n",
       "std       668.486833    1095.034387     814.946722  \n",
       "min         0.000000       0.000000       0.000000  \n",
       "25%         0.000000       0.000000       0.000000  \n",
       "50%         0.000000       0.000000       0.000000  \n",
       "75%         0.000000       0.000000       0.000000  \n",
       "max    104060.000000  104060.000000  104060.000000  \n",
       "\n",
       "[8 rows x 380 columns]"
      ]
     },
     "execution_count": 8,
     "metadata": {},
     "output_type": "execute_result"
    }
   ],
   "source": [
    "df.describe()"
   ]
  },
  {
   "cell_type": "code",
   "execution_count": 9,
   "metadata": {},
   "outputs": [
    {
     "data": {
      "text/plain": [
       "TransactionID          0\n",
       "isFraud                0\n",
       "TransactionDT          0\n",
       "TransactionAmt         0\n",
       "ProductCD              0\n",
       "                   ...  \n",
       "V335              508189\n",
       "V336              508189\n",
       "V337              508189\n",
       "V338              508189\n",
       "V339              508189\n",
       "Length: 394, dtype: int64"
      ]
     },
     "execution_count": 9,
     "metadata": {},
     "output_type": "execute_result"
    }
   ],
   "source": [
    "# To detect missing values\n",
    "df.isnull().sum()"
   ]
  },
  {
   "cell_type": "code",
   "execution_count": 10,
   "metadata": {},
   "outputs": [
    {
     "data": {
      "text/html": [
       "<div>\n",
       "<style scoped>\n",
       "    .dataframe tbody tr th:only-of-type {\n",
       "        vertical-align: middle;\n",
       "    }\n",
       "\n",
       "    .dataframe tbody tr th {\n",
       "        vertical-align: top;\n",
       "    }\n",
       "\n",
       "    .dataframe thead th {\n",
       "        text-align: right;\n",
       "    }\n",
       "</style>\n",
       "<table border=\"1\" class=\"dataframe\">\n",
       "  <thead>\n",
       "    <tr style=\"text-align: right;\">\n",
       "      <th></th>\n",
       "      <th>feature_name</th>\n",
       "      <th>nan_cnt</th>\n",
       "      <th>nan_percentage</th>\n",
       "    </tr>\n",
       "  </thead>\n",
       "  <tbody>\n",
       "    <tr>\n",
       "      <th>14</th>\n",
       "      <td>dist2</td>\n",
       "      <td>552913</td>\n",
       "      <td>0.936284</td>\n",
       "    </tr>\n",
       "    <tr>\n",
       "      <th>37</th>\n",
       "      <td>D7</td>\n",
       "      <td>551623</td>\n",
       "      <td>0.934099</td>\n",
       "    </tr>\n",
       "    <tr>\n",
       "      <th>43</th>\n",
       "      <td>D13</td>\n",
       "      <td>528588</td>\n",
       "      <td>0.895093</td>\n",
       "    </tr>\n",
       "    <tr>\n",
       "      <th>44</th>\n",
       "      <td>D14</td>\n",
       "      <td>528353</td>\n",
       "      <td>0.894695</td>\n",
       "    </tr>\n",
       "    <tr>\n",
       "      <th>42</th>\n",
       "      <td>D12</td>\n",
       "      <td>525823</td>\n",
       "      <td>0.890410</td>\n",
       "    </tr>\n",
       "    <tr>\n",
       "      <th>...</th>\n",
       "      <td>...</td>\n",
       "      <td>...</td>\n",
       "      <td>...</td>\n",
       "    </tr>\n",
       "    <tr>\n",
       "      <th>17</th>\n",
       "      <td>C1</td>\n",
       "      <td>0</td>\n",
       "      <td>0.000000</td>\n",
       "    </tr>\n",
       "    <tr>\n",
       "      <th>18</th>\n",
       "      <td>C2</td>\n",
       "      <td>0</td>\n",
       "      <td>0.000000</td>\n",
       "    </tr>\n",
       "    <tr>\n",
       "      <th>30</th>\n",
       "      <td>C14</td>\n",
       "      <td>0</td>\n",
       "      <td>0.000000</td>\n",
       "    </tr>\n",
       "    <tr>\n",
       "      <th>1</th>\n",
       "      <td>isFraud</td>\n",
       "      <td>0</td>\n",
       "      <td>0.000000</td>\n",
       "    </tr>\n",
       "    <tr>\n",
       "      <th>0</th>\n",
       "      <td>TransactionID</td>\n",
       "      <td>0</td>\n",
       "      <td>0.000000</td>\n",
       "    </tr>\n",
       "  </tbody>\n",
       "</table>\n",
       "<p>394 rows × 3 columns</p>\n",
       "</div>"
      ],
      "text/plain": [
       "     feature_name  nan_cnt  nan_percentage\n",
       "14          dist2   552913        0.936284\n",
       "37             D7   551623        0.934099\n",
       "43            D13   528588        0.895093\n",
       "44            D14   528353        0.894695\n",
       "42            D12   525823        0.890410\n",
       "..            ...      ...             ...\n",
       "17             C1        0        0.000000\n",
       "18             C2        0        0.000000\n",
       "30            C14        0        0.000000\n",
       "1         isFraud        0        0.000000\n",
       "0   TransactionID        0        0.000000\n",
       "\n",
       "[394 rows x 3 columns]"
      ]
     },
     "execution_count": 10,
     "metadata": {},
     "output_type": "execute_result"
    }
   ],
   "source": [
    "nan_info = pd.DataFrame(df.isnull().sum()).reset_index()\n",
    "nan_info.columns = ['feature_name','nan_cnt']\n",
    "nan_info.sort_values(by = 'nan_cnt',ascending=False,inplace=True)\n",
    "nan_info['nan_percentage'] = nan_info['nan_cnt']/len(df)\n",
    "nan_info"
   ]
  },
  {
   "cell_type": "code",
   "execution_count": 11,
   "metadata": {},
   "outputs": [
    {
     "data": {
      "text/plain": [
       "552913"
      ]
     },
     "execution_count": 11,
     "metadata": {},
     "output_type": "execute_result"
    }
   ],
   "source": [
    "df['dist2'].head()\n",
    "df['dist2'].isnull().sum()"
   ]
  },
  {
   "cell_type": "code",
   "execution_count": 12,
   "metadata": {
    "scrolled": true
   },
   "outputs": [
    {
     "data": {
      "text/html": [
       "<div>\n",
       "<style scoped>\n",
       "    .dataframe tbody tr th:only-of-type {\n",
       "        vertical-align: middle;\n",
       "    }\n",
       "\n",
       "    .dataframe tbody tr th {\n",
       "        vertical-align: top;\n",
       "    }\n",
       "\n",
       "    .dataframe thead th {\n",
       "        text-align: right;\n",
       "    }\n",
       "</style>\n",
       "<table border=\"1\" class=\"dataframe\">\n",
       "  <thead>\n",
       "    <tr style=\"text-align: right;\">\n",
       "      <th></th>\n",
       "      <th>feature_name</th>\n",
       "      <th>nan_cnt</th>\n",
       "      <th>nan_percentage</th>\n",
       "    </tr>\n",
       "  </thead>\n",
       "  <tbody>\n",
       "    <tr>\n",
       "      <th>14</th>\n",
       "      <td>dist2</td>\n",
       "      <td>552913</td>\n",
       "      <td>0.936284</td>\n",
       "    </tr>\n",
       "    <tr>\n",
       "      <th>37</th>\n",
       "      <td>D7</td>\n",
       "      <td>551623</td>\n",
       "      <td>0.934099</td>\n",
       "    </tr>\n",
       "    <tr>\n",
       "      <th>43</th>\n",
       "      <td>D13</td>\n",
       "      <td>528588</td>\n",
       "      <td>0.895093</td>\n",
       "    </tr>\n",
       "    <tr>\n",
       "      <th>44</th>\n",
       "      <td>D14</td>\n",
       "      <td>528353</td>\n",
       "      <td>0.894695</td>\n",
       "    </tr>\n",
       "    <tr>\n",
       "      <th>42</th>\n",
       "      <td>D12</td>\n",
       "      <td>525823</td>\n",
       "      <td>0.890410</td>\n",
       "    </tr>\n",
       "  </tbody>\n",
       "</table>\n",
       "</div>"
      ],
      "text/plain": [
       "   feature_name  nan_cnt  nan_percentage\n",
       "14        dist2   552913        0.936284\n",
       "37           D7   551623        0.934099\n",
       "43          D13   528588        0.895093\n",
       "44          D14   528353        0.894695\n",
       "42          D12   525823        0.890410"
      ]
     },
     "execution_count": 12,
     "metadata": {},
     "output_type": "execute_result"
    }
   ],
   "source": [
    "nan_info.head()"
   ]
  },
  {
   "cell_type": "code",
   "execution_count": 13,
   "metadata": {
    "scrolled": true
   },
   "outputs": [
    {
     "data": {
      "text/plain": [
       "array(['dist2', 'D7', 'D13', 'D14', 'D12', 'D6', 'D9', 'D8', 'V153',\n",
       "       'V139', 'V162', 'V161', 'V154', 'V138', 'V158', 'V157', 'V163',\n",
       "       'V156', 'V155', 'V149', 'V148', 'V147', 'V146', 'V142', 'V141',\n",
       "       'V140', 'V151', 'V152', 'V145', 'V144', 'V150', 'V143', 'V160',\n",
       "       'V166', 'V164', 'V159', 'V165', 'V322', 'V332', 'V338', 'V337',\n",
       "       'V336', 'V335', 'V334', 'V333', 'V331', 'V323', 'V330', 'V328',\n",
       "       'V327', 'V326', 'V325', 'V324', 'V329', 'V339', 'V240', 'V235',\n",
       "       'V252', 'V249', 'V248', 'V247', 'V246', 'V244', 'V243', 'V242',\n",
       "       'V241', 'V237', 'V236', 'V233', 'V254', 'V232', 'V231', 'V230',\n",
       "       'V229', 'V228', 'V217', 'V226', 'V225', 'V224', 'V223', 'V218',\n",
       "       'V253', 'V219', 'V266', 'V262', 'V268', 'V267', 'V273', 'V274',\n",
       "       'V275', 'V276', 'V265', 'V264', 'V263', 'V277', 'V261', 'V260',\n",
       "       'V278', 'V258', 'V257', 'V269', 'R_emaildomain', 'V203', 'V196',\n",
       "       'V202', 'V207', 'V204', 'V216', 'V206', 'V215', 'V214', 'V213',\n",
       "       'V212', 'V205', 'V211', 'V192', 'V193', 'V186', 'V183', 'V190',\n",
       "       'V167', 'V168', 'V187', 'V172', 'V173', 'V182', 'V199', 'V176',\n",
       "       'V177', 'V178', 'V179', 'V191', 'V181', 'V195', 'V189', 'V198',\n",
       "       'V188', 'V197', 'V194', 'V170', 'V200', 'V201', 'V208', 'V209',\n",
       "       'V210', 'V184', 'V185', 'V175', 'V174', 'V171', 'V169', 'V180',\n",
       "       'V221', 'V220', 'V250', 'V272', 'V271', 'V270', 'V256', 'V255',\n",
       "       'V251', 'V259', 'V245', 'V239', 'V238', 'V234', 'V227', 'V222',\n",
       "       'dist1', 'M5', 'M7', 'M9', 'M8', 'D5', 'M4', 'D2', 'V2', 'D11',\n",
       "       'V1', 'V6', 'V7', 'V8', 'V9', 'V10', 'V11', 'V5', 'V3', 'V4', 'M3',\n",
       "       'M1', 'M2', 'D3', 'M6', 'V35', 'V36', 'V38', 'V51', 'V52', 'V50',\n",
       "       'V49', 'V48', 'V47', 'V46', 'V45', 'V44', 'V43', 'V42', 'V41',\n",
       "       'V40', 'V37', 'V39', 'D4', 'P_emaildomain', 'V82', 'V91', 'V76',\n",
       "       'V77', 'V78', 'V79', 'V94', 'V93', 'V92', 'V89', 'V90', 'V81',\n",
       "       'V88', 'V87', 'V86', 'V85', 'V84', 'V83', 'V75', 'V80', 'D15',\n",
       "       'V70', 'V62', 'V53', 'V54', 'V55', 'V56', 'V57', 'V58', 'V59',\n",
       "       'V60', 'V61', 'V63', 'V72', 'V64', 'V65', 'V66', 'V67', 'V68',\n",
       "       'V69', 'V74', 'V73', 'V71', 'V33', 'V15', 'V24', 'V12', 'V13',\n",
       "       'V14', 'V16', 'V17', 'V18', 'V19', 'V21', 'V22', 'V23', 'V20',\n",
       "       'V25', 'V30', 'V34', 'V26', 'V31', 'V32', 'V29', 'V28', 'V27',\n",
       "       'D10', 'addr1', 'addr2', 'card2', 'card5', 'card4', 'card6',\n",
       "       'card3', 'V315', 'V282', 'D1', 'V314', 'V313', 'V301', 'V300',\n",
       "       'V283', 'V288', 'V296', 'V289', 'V281', 'V125', 'V126', 'V117',\n",
       "       'V128', 'V129', 'V130', 'V131', 'V133', 'V134', 'V135', 'V136',\n",
       "       'V118', 'V116', 'V137', 'V119', 'V120', 'V124', 'V123', 'V95',\n",
       "       'V121', 'V122', 'V127', 'V132', 'V115', 'V97', 'V99', 'V100',\n",
       "       'V101', 'V102', 'V103', 'V114', 'V104', 'V105', 'V98', 'V106',\n",
       "       'V107', 'V108', 'V109', 'V96', 'V110', 'V111', 'V112', 'V113',\n",
       "       'V306', 'V311', 'V308', 'V309', 'V310', 'V307', 'V317', 'V312',\n",
       "       'V316', 'V318', 'V319', 'V320', 'V321', 'V304', 'V305', 'V293',\n",
       "       'V303', 'V291', 'V302', 'V279', 'V280', 'V284', 'V285', 'V287',\n",
       "       'V290', 'V286', 'V292', 'V294', 'V295', 'V297', 'V298', 'V299'],\n",
       "      dtype=object)"
      ]
     },
     "execution_count": 13,
     "metadata": {},
     "output_type": "execute_result"
    }
   ],
   "source": [
    "cols_with_missing = nan_info.loc[nan_info.nan_cnt>0].feature_name.values\n",
    "cols_with_missing"
   ]
  },
  {
   "cell_type": "code",
   "execution_count": 14,
   "metadata": {},
   "outputs": [
    {
     "data": {
      "text/plain": [
       "374"
      ]
     },
     "execution_count": 14,
     "metadata": {},
     "output_type": "execute_result"
    }
   ],
   "source": [
    "len(cols_with_missing)"
   ]
  },
  {
   "cell_type": "code",
   "execution_count": 15,
   "metadata": {},
   "outputs": [],
   "source": [
    "df = df.loc[:, df.isnull().mean() < .9]"
   ]
  },
  {
   "cell_type": "code",
   "execution_count": 16,
   "metadata": {},
   "outputs": [
    {
     "data": {
      "text/html": [
       "<div>\n",
       "<style scoped>\n",
       "    .dataframe tbody tr th:only-of-type {\n",
       "        vertical-align: middle;\n",
       "    }\n",
       "\n",
       "    .dataframe tbody tr th {\n",
       "        vertical-align: top;\n",
       "    }\n",
       "\n",
       "    .dataframe thead th {\n",
       "        text-align: right;\n",
       "    }\n",
       "</style>\n",
       "<table border=\"1\" class=\"dataframe\">\n",
       "  <thead>\n",
       "    <tr style=\"text-align: right;\">\n",
       "      <th></th>\n",
       "      <th>TransactionID</th>\n",
       "      <th>isFraud</th>\n",
       "      <th>TransactionDT</th>\n",
       "      <th>TransactionAmt</th>\n",
       "      <th>ProductCD</th>\n",
       "      <th>card1</th>\n",
       "      <th>card2</th>\n",
       "      <th>card3</th>\n",
       "      <th>card4</th>\n",
       "      <th>card5</th>\n",
       "      <th>...</th>\n",
       "      <th>V330</th>\n",
       "      <th>V331</th>\n",
       "      <th>V332</th>\n",
       "      <th>V333</th>\n",
       "      <th>V334</th>\n",
       "      <th>V335</th>\n",
       "      <th>V336</th>\n",
       "      <th>V337</th>\n",
       "      <th>V338</th>\n",
       "      <th>V339</th>\n",
       "    </tr>\n",
       "  </thead>\n",
       "  <tbody>\n",
       "    <tr>\n",
       "      <th>0</th>\n",
       "      <td>2987000</td>\n",
       "      <td>0</td>\n",
       "      <td>86400</td>\n",
       "      <td>68.50</td>\n",
       "      <td>W</td>\n",
       "      <td>13926</td>\n",
       "      <td>NaN</td>\n",
       "      <td>150.0</td>\n",
       "      <td>discover</td>\n",
       "      <td>142.0</td>\n",
       "      <td>...</td>\n",
       "      <td>NaN</td>\n",
       "      <td>NaN</td>\n",
       "      <td>NaN</td>\n",
       "      <td>NaN</td>\n",
       "      <td>NaN</td>\n",
       "      <td>NaN</td>\n",
       "      <td>NaN</td>\n",
       "      <td>NaN</td>\n",
       "      <td>NaN</td>\n",
       "      <td>NaN</td>\n",
       "    </tr>\n",
       "    <tr>\n",
       "      <th>1</th>\n",
       "      <td>2987001</td>\n",
       "      <td>0</td>\n",
       "      <td>86401</td>\n",
       "      <td>29.00</td>\n",
       "      <td>W</td>\n",
       "      <td>2755</td>\n",
       "      <td>404.0</td>\n",
       "      <td>150.0</td>\n",
       "      <td>mastercard</td>\n",
       "      <td>102.0</td>\n",
       "      <td>...</td>\n",
       "      <td>NaN</td>\n",
       "      <td>NaN</td>\n",
       "      <td>NaN</td>\n",
       "      <td>NaN</td>\n",
       "      <td>NaN</td>\n",
       "      <td>NaN</td>\n",
       "      <td>NaN</td>\n",
       "      <td>NaN</td>\n",
       "      <td>NaN</td>\n",
       "      <td>NaN</td>\n",
       "    </tr>\n",
       "    <tr>\n",
       "      <th>2</th>\n",
       "      <td>2987002</td>\n",
       "      <td>0</td>\n",
       "      <td>86469</td>\n",
       "      <td>59.00</td>\n",
       "      <td>W</td>\n",
       "      <td>4663</td>\n",
       "      <td>490.0</td>\n",
       "      <td>150.0</td>\n",
       "      <td>visa</td>\n",
       "      <td>166.0</td>\n",
       "      <td>...</td>\n",
       "      <td>NaN</td>\n",
       "      <td>NaN</td>\n",
       "      <td>NaN</td>\n",
       "      <td>NaN</td>\n",
       "      <td>NaN</td>\n",
       "      <td>NaN</td>\n",
       "      <td>NaN</td>\n",
       "      <td>NaN</td>\n",
       "      <td>NaN</td>\n",
       "      <td>NaN</td>\n",
       "    </tr>\n",
       "    <tr>\n",
       "      <th>3</th>\n",
       "      <td>2987003</td>\n",
       "      <td>0</td>\n",
       "      <td>86499</td>\n",
       "      <td>50.00</td>\n",
       "      <td>W</td>\n",
       "      <td>18132</td>\n",
       "      <td>567.0</td>\n",
       "      <td>150.0</td>\n",
       "      <td>mastercard</td>\n",
       "      <td>117.0</td>\n",
       "      <td>...</td>\n",
       "      <td>NaN</td>\n",
       "      <td>NaN</td>\n",
       "      <td>NaN</td>\n",
       "      <td>NaN</td>\n",
       "      <td>NaN</td>\n",
       "      <td>NaN</td>\n",
       "      <td>NaN</td>\n",
       "      <td>NaN</td>\n",
       "      <td>NaN</td>\n",
       "      <td>NaN</td>\n",
       "    </tr>\n",
       "    <tr>\n",
       "      <th>4</th>\n",
       "      <td>2987004</td>\n",
       "      <td>0</td>\n",
       "      <td>86506</td>\n",
       "      <td>50.00</td>\n",
       "      <td>H</td>\n",
       "      <td>4497</td>\n",
       "      <td>514.0</td>\n",
       "      <td>150.0</td>\n",
       "      <td>mastercard</td>\n",
       "      <td>102.0</td>\n",
       "      <td>...</td>\n",
       "      <td>0.0</td>\n",
       "      <td>0.0</td>\n",
       "      <td>0.0</td>\n",
       "      <td>0.0</td>\n",
       "      <td>0.0</td>\n",
       "      <td>0.0</td>\n",
       "      <td>0.0</td>\n",
       "      <td>0.0</td>\n",
       "      <td>0.0</td>\n",
       "      <td>0.0</td>\n",
       "    </tr>\n",
       "    <tr>\n",
       "      <th>...</th>\n",
       "      <td>...</td>\n",
       "      <td>...</td>\n",
       "      <td>...</td>\n",
       "      <td>...</td>\n",
       "      <td>...</td>\n",
       "      <td>...</td>\n",
       "      <td>...</td>\n",
       "      <td>...</td>\n",
       "      <td>...</td>\n",
       "      <td>...</td>\n",
       "      <td>...</td>\n",
       "      <td>...</td>\n",
       "      <td>...</td>\n",
       "      <td>...</td>\n",
       "      <td>...</td>\n",
       "      <td>...</td>\n",
       "      <td>...</td>\n",
       "      <td>...</td>\n",
       "      <td>...</td>\n",
       "      <td>...</td>\n",
       "      <td>...</td>\n",
       "    </tr>\n",
       "    <tr>\n",
       "      <th>590535</th>\n",
       "      <td>3577535</td>\n",
       "      <td>0</td>\n",
       "      <td>15811047</td>\n",
       "      <td>49.00</td>\n",
       "      <td>W</td>\n",
       "      <td>6550</td>\n",
       "      <td>NaN</td>\n",
       "      <td>150.0</td>\n",
       "      <td>visa</td>\n",
       "      <td>226.0</td>\n",
       "      <td>...</td>\n",
       "      <td>NaN</td>\n",
       "      <td>NaN</td>\n",
       "      <td>NaN</td>\n",
       "      <td>NaN</td>\n",
       "      <td>NaN</td>\n",
       "      <td>NaN</td>\n",
       "      <td>NaN</td>\n",
       "      <td>NaN</td>\n",
       "      <td>NaN</td>\n",
       "      <td>NaN</td>\n",
       "    </tr>\n",
       "    <tr>\n",
       "      <th>590536</th>\n",
       "      <td>3577536</td>\n",
       "      <td>0</td>\n",
       "      <td>15811049</td>\n",
       "      <td>39.50</td>\n",
       "      <td>W</td>\n",
       "      <td>10444</td>\n",
       "      <td>225.0</td>\n",
       "      <td>150.0</td>\n",
       "      <td>mastercard</td>\n",
       "      <td>224.0</td>\n",
       "      <td>...</td>\n",
       "      <td>NaN</td>\n",
       "      <td>NaN</td>\n",
       "      <td>NaN</td>\n",
       "      <td>NaN</td>\n",
       "      <td>NaN</td>\n",
       "      <td>NaN</td>\n",
       "      <td>NaN</td>\n",
       "      <td>NaN</td>\n",
       "      <td>NaN</td>\n",
       "      <td>NaN</td>\n",
       "    </tr>\n",
       "    <tr>\n",
       "      <th>590537</th>\n",
       "      <td>3577537</td>\n",
       "      <td>0</td>\n",
       "      <td>15811079</td>\n",
       "      <td>30.95</td>\n",
       "      <td>W</td>\n",
       "      <td>12037</td>\n",
       "      <td>595.0</td>\n",
       "      <td>150.0</td>\n",
       "      <td>mastercard</td>\n",
       "      <td>224.0</td>\n",
       "      <td>...</td>\n",
       "      <td>NaN</td>\n",
       "      <td>NaN</td>\n",
       "      <td>NaN</td>\n",
       "      <td>NaN</td>\n",
       "      <td>NaN</td>\n",
       "      <td>NaN</td>\n",
       "      <td>NaN</td>\n",
       "      <td>NaN</td>\n",
       "      <td>NaN</td>\n",
       "      <td>NaN</td>\n",
       "    </tr>\n",
       "    <tr>\n",
       "      <th>590538</th>\n",
       "      <td>3577538</td>\n",
       "      <td>0</td>\n",
       "      <td>15811088</td>\n",
       "      <td>117.00</td>\n",
       "      <td>W</td>\n",
       "      <td>7826</td>\n",
       "      <td>481.0</td>\n",
       "      <td>150.0</td>\n",
       "      <td>mastercard</td>\n",
       "      <td>224.0</td>\n",
       "      <td>...</td>\n",
       "      <td>NaN</td>\n",
       "      <td>NaN</td>\n",
       "      <td>NaN</td>\n",
       "      <td>NaN</td>\n",
       "      <td>NaN</td>\n",
       "      <td>NaN</td>\n",
       "      <td>NaN</td>\n",
       "      <td>NaN</td>\n",
       "      <td>NaN</td>\n",
       "      <td>NaN</td>\n",
       "    </tr>\n",
       "    <tr>\n",
       "      <th>590539</th>\n",
       "      <td>3577539</td>\n",
       "      <td>0</td>\n",
       "      <td>15811131</td>\n",
       "      <td>279.95</td>\n",
       "      <td>W</td>\n",
       "      <td>15066</td>\n",
       "      <td>170.0</td>\n",
       "      <td>150.0</td>\n",
       "      <td>mastercard</td>\n",
       "      <td>102.0</td>\n",
       "      <td>...</td>\n",
       "      <td>NaN</td>\n",
       "      <td>NaN</td>\n",
       "      <td>NaN</td>\n",
       "      <td>NaN</td>\n",
       "      <td>NaN</td>\n",
       "      <td>NaN</td>\n",
       "      <td>NaN</td>\n",
       "      <td>NaN</td>\n",
       "      <td>NaN</td>\n",
       "      <td>NaN</td>\n",
       "    </tr>\n",
       "  </tbody>\n",
       "</table>\n",
       "<p>590540 rows × 392 columns</p>\n",
       "</div>"
      ],
      "text/plain": [
       "        TransactionID  isFraud  TransactionDT  TransactionAmt ProductCD  \\\n",
       "0             2987000        0          86400           68.50         W   \n",
       "1             2987001        0          86401           29.00         W   \n",
       "2             2987002        0          86469           59.00         W   \n",
       "3             2987003        0          86499           50.00         W   \n",
       "4             2987004        0          86506           50.00         H   \n",
       "...               ...      ...            ...             ...       ...   \n",
       "590535        3577535        0       15811047           49.00         W   \n",
       "590536        3577536        0       15811049           39.50         W   \n",
       "590537        3577537        0       15811079           30.95         W   \n",
       "590538        3577538        0       15811088          117.00         W   \n",
       "590539        3577539        0       15811131          279.95         W   \n",
       "\n",
       "        card1  card2  card3       card4  card5  ... V330  V331  V332  V333  \\\n",
       "0       13926    NaN  150.0    discover  142.0  ...  NaN   NaN   NaN   NaN   \n",
       "1        2755  404.0  150.0  mastercard  102.0  ...  NaN   NaN   NaN   NaN   \n",
       "2        4663  490.0  150.0        visa  166.0  ...  NaN   NaN   NaN   NaN   \n",
       "3       18132  567.0  150.0  mastercard  117.0  ...  NaN   NaN   NaN   NaN   \n",
       "4        4497  514.0  150.0  mastercard  102.0  ...  0.0   0.0   0.0   0.0   \n",
       "...       ...    ...    ...         ...    ...  ...  ...   ...   ...   ...   \n",
       "590535   6550    NaN  150.0        visa  226.0  ...  NaN   NaN   NaN   NaN   \n",
       "590536  10444  225.0  150.0  mastercard  224.0  ...  NaN   NaN   NaN   NaN   \n",
       "590537  12037  595.0  150.0  mastercard  224.0  ...  NaN   NaN   NaN   NaN   \n",
       "590538   7826  481.0  150.0  mastercard  224.0  ...  NaN   NaN   NaN   NaN   \n",
       "590539  15066  170.0  150.0  mastercard  102.0  ...  NaN   NaN   NaN   NaN   \n",
       "\n",
       "       V334 V335  V336  V337  V338  V339  \n",
       "0       NaN  NaN   NaN   NaN   NaN   NaN  \n",
       "1       NaN  NaN   NaN   NaN   NaN   NaN  \n",
       "2       NaN  NaN   NaN   NaN   NaN   NaN  \n",
       "3       NaN  NaN   NaN   NaN   NaN   NaN  \n",
       "4       0.0  0.0   0.0   0.0   0.0   0.0  \n",
       "...     ...  ...   ...   ...   ...   ...  \n",
       "590535  NaN  NaN   NaN   NaN   NaN   NaN  \n",
       "590536  NaN  NaN   NaN   NaN   NaN   NaN  \n",
       "590537  NaN  NaN   NaN   NaN   NaN   NaN  \n",
       "590538  NaN  NaN   NaN   NaN   NaN   NaN  \n",
       "590539  NaN  NaN   NaN   NaN   NaN   NaN  \n",
       "\n",
       "[590540 rows x 392 columns]"
      ]
     },
     "execution_count": 16,
     "metadata": {},
     "output_type": "execute_result"
    }
   ],
   "source": [
    "df \n",
    "#394 columns has been decreased to 339 columns "
   ]
  },
  {
   "cell_type": "code",
   "execution_count": 17,
   "metadata": {},
   "outputs": [
    {
     "data": {
      "text/plain": [
       "TransactionID       int64\n",
       "isFraud             int64\n",
       "TransactionDT       int64\n",
       "TransactionAmt    float64\n",
       "ProductCD          object\n",
       "                   ...   \n",
       "V335              float64\n",
       "V336              float64\n",
       "V337              float64\n",
       "V338              float64\n",
       "V339              float64\n",
       "Length: 392, dtype: object"
      ]
     },
     "execution_count": 17,
     "metadata": {},
     "output_type": "execute_result"
    }
   ],
   "source": [
    "#check dtypes for each columns\n",
    "df.dtypes\n",
    "#There are many float 64 and int 64"
   ]
  },
  {
   "cell_type": "code",
   "execution_count": 18,
   "metadata": {},
   "outputs": [],
   "source": [
    "#change data type function\n",
    "def reduce_mem_usage(df, verbose=True):\n",
    "    numerics = ['int16', 'int32', 'int64', 'float16', 'float32', 'float64']\n",
    "    start_mem = df.memory_usage().sum() / 1024**2    \n",
    "    for col in df.columns:\n",
    "        col_type = df[col].dtypes\n",
    "        if col_type in numerics:\n",
    "            c_min = df[col].min()\n",
    "            c_max = df[col].max()\n",
    "            if str(col_type)[:3] == 'int':\n",
    "                if c_min > np.iinfo(np.int8).min and c_max < np.iinfo(np.int8).max:\n",
    "                    df[col] = df[col].astype(np.int8)\n",
    "                elif c_min > np.iinfo(np.int16).min and c_max < np.iinfo(np.int16).max:\n",
    "                    df[col] = df[col].astype(np.int16)\n",
    "                elif c_min > np.iinfo(np.int32).min and c_max < np.iinfo(np.int32).max:\n",
    "                    df[col] = df[col].astype(np.int32)\n",
    "                elif c_min > np.iinfo(np.int64).min and c_max < np.iinfo(np.int64).max:\n",
    "                    df[col] = df[col].astype(np.int64)  \n",
    "            else:\n",
    "                if c_min > np.finfo(np.float16).min and c_max < np.finfo(np.float16).max:\n",
    "                    df[col] = df[col].astype(np.float16)\n",
    "                elif c_min > np.finfo(np.float32).min and c_max < np.finfo(np.float32).max:\n",
    "                    df[col] = df[col].astype(np.float32)\n",
    "                else:\n",
    "                    df[col] = df[col].astype(np.float64)    \n",
    "    end_mem = df.memory_usage().sum() / 1024**2\n",
    "    if verbose: print('Mem. usage decreased to {:5.2f} Mb ({:.1f}% reduction)'.format(end_mem, 100 * (start_mem - end_mem) / start_mem))\n",
    "    return df"
   ]
  },
  {
   "cell_type": "code",
   "execution_count": 19,
   "metadata": {},
   "outputs": [
    {
     "name": "stdout",
     "output_type": "stream",
     "text": [
      "Memory usage of dataframe is 1.724748 GB\n"
     ]
    }
   ],
   "source": [
    "mem_use = df.memory_usage().sum() / 1024**3 \n",
    "print('Memory usage of dataframe is {:.6f} GB'.format(mem_use))\n",
    "\n",
    "#dataframe memory usage has been decreased"
   ]
  },
  {
   "cell_type": "code",
   "execution_count": 20,
   "metadata": {
    "scrolled": true
   },
   "outputs": [
    {
     "name": "stdout",
     "output_type": "stream",
     "text": [
      "['TransactionID', 'TransactionDT', 'TransactionAmt', 'ProductCD', 'card1', 'card2', 'card3', 'card4', 'card5', 'card6', 'addr1', 'addr2', 'dist1', 'P_emaildomain', 'R_emaildomain', 'C1', 'C2', 'C3', 'C4', 'C5', 'C6', 'C7', 'C8', 'C9', 'C10', 'C11', 'C12', 'C13', 'C14', 'D1', 'D2', 'D3', 'D4', 'D5', 'D6', 'D8', 'D9', 'D10', 'D11', 'D12', 'D13', 'D14', 'D15', 'M1', 'M2', 'M3', 'M4', 'M5', 'M6', 'M7', 'M8', 'M9', 'V1', 'V2', 'V3', 'V4', 'V5', 'V6', 'V7', 'V8', 'V9', 'V10', 'V11', 'V12', 'V13', 'V14', 'V15', 'V16', 'V17', 'V18', 'V19', 'V20', 'V21', 'V22', 'V23', 'V24', 'V25', 'V26', 'V27', 'V28', 'V29', 'V30', 'V31', 'V32', 'V33', 'V34', 'V35', 'V36', 'V37', 'V38', 'V39', 'V40', 'V41', 'V42', 'V43', 'V44', 'V45', 'V46', 'V47', 'V48', 'V49', 'V50', 'V51', 'V52', 'V53', 'V54', 'V55', 'V56', 'V57', 'V58', 'V59', 'V60', 'V61', 'V62', 'V63', 'V64', 'V65', 'V66', 'V67', 'V68', 'V69', 'V70', 'V71', 'V72', 'V73', 'V74', 'V75', 'V76', 'V77', 'V78', 'V79', 'V80', 'V81', 'V82', 'V83', 'V84', 'V85', 'V86', 'V87', 'V88', 'V89', 'V90', 'V91', 'V92', 'V93', 'V94', 'V95', 'V96', 'V97', 'V98', 'V99', 'V100', 'V101', 'V102', 'V103', 'V104', 'V105', 'V106', 'V107', 'V108', 'V109', 'V110', 'V111', 'V112', 'V113', 'V114', 'V115', 'V116', 'V117', 'V118', 'V119', 'V120', 'V121', 'V122', 'V123', 'V124', 'V125', 'V126', 'V127', 'V128', 'V129', 'V130', 'V131', 'V132', 'V133', 'V134', 'V135', 'V136', 'V137', 'V138', 'V139', 'V140', 'V141', 'V142', 'V143', 'V144', 'V145', 'V146', 'V147', 'V148', 'V149', 'V150', 'V151', 'V152', 'V153', 'V154', 'V155', 'V156', 'V157', 'V158', 'V159', 'V160', 'V161', 'V162', 'V163', 'V164', 'V165', 'V166', 'V167', 'V168', 'V169', 'V170', 'V171', 'V172', 'V173', 'V174', 'V175', 'V176', 'V177', 'V178', 'V179', 'V180', 'V181', 'V182', 'V183', 'V184', 'V185', 'V186', 'V187', 'V188', 'V189', 'V190', 'V191', 'V192', 'V193', 'V194', 'V195', 'V196', 'V197', 'V198', 'V199', 'V200', 'V201', 'V202', 'V203', 'V204', 'V205', 'V206', 'V207', 'V208', 'V209', 'V210', 'V211', 'V212', 'V213', 'V214', 'V215', 'V216', 'V217', 'V218', 'V219', 'V220', 'V221', 'V222', 'V223', 'V224', 'V225', 'V226', 'V227', 'V228', 'V229', 'V230', 'V231', 'V232', 'V233', 'V234', 'V235', 'V236', 'V237', 'V238', 'V239', 'V240', 'V241', 'V242', 'V243', 'V244', 'V245', 'V246', 'V247', 'V248', 'V249', 'V250', 'V251', 'V252', 'V253', 'V254', 'V255', 'V256', 'V257', 'V258', 'V259', 'V260', 'V261', 'V262', 'V263', 'V264', 'V265', 'V266', 'V267', 'V268', 'V269', 'V270', 'V271', 'V272', 'V273', 'V274', 'V275', 'V276', 'V277', 'V278', 'V279', 'V280', 'V281', 'V282', 'V283', 'V284', 'V285', 'V286', 'V287', 'V288', 'V289', 'V290', 'V291', 'V292', 'V293', 'V294', 'V295', 'V296', 'V297', 'V298', 'V299', 'V300', 'V301', 'V302', 'V303', 'V304', 'V305', 'V306', 'V307', 'V308', 'V309', 'V310', 'V311', 'V312', 'V313', 'V314', 'V315', 'V316', 'V317', 'V318', 'V319', 'V320', 'V321', 'V322', 'V323', 'V324', 'V325', 'V326', 'V327', 'V328', 'V329', 'V330', 'V331', 'V332', 'V333', 'V334', 'V335', 'V336', 'V337', 'V338', 'V339']\n"
     ]
    }
   ],
   "source": [
    "y = df['isFraud'].values\n",
    "features = [f for f in df.columns.values if f not in ['isFraud']] # you have to customize this according to your own needs\n",
    "print(features)"
   ]
  },
  {
   "cell_type": "code",
   "execution_count": 21,
   "metadata": {},
   "outputs": [
    {
     "name": "stdout",
     "output_type": "stream",
     "text": [
      "['ProductCD', 'card4', 'card6', 'P_emaildomain', 'R_emaildomain', 'M1', 'M2', 'M3', 'M4', 'M5', 'M6', 'M7', 'M8', 'M9']\n"
     ]
    }
   ],
   "source": [
    "#Find the categorical values\n",
    "cat_features = []\n",
    "for f in features:\n",
    "    if str(df[f].dtype) == 'object':\n",
    "        cat_features.append(f)\n",
    "print(cat_features)\n",
    "\n",
    "#card 1~6 are also categorical values."
   ]
  },
  {
   "cell_type": "code",
   "execution_count": 22,
   "metadata": {},
   "outputs": [
    {
     "data": {
      "text/plain": [
       "array(['W', 'H', 'C', 'S', 'R'], dtype=object)"
      ]
     },
     "execution_count": 22,
     "metadata": {},
     "output_type": "execute_result"
    }
   ],
   "source": [
    "#Now, change categorical values to numerical values.\n",
    "#check unique value\n",
    "df['ProductCD'].unique()"
   ]
  },
  {
   "cell_type": "code",
   "execution_count": 23,
   "metadata": {},
   "outputs": [
    {
     "data": {
      "text/plain": [
       "array([13926,  2755,  4663, ..., 13166,  8767, 18038], dtype=int64)"
      ]
     },
     "execution_count": 23,
     "metadata": {},
     "output_type": "execute_result"
    }
   ],
   "source": [
    "df['card1'].unique()"
   ]
  },
  {
   "cell_type": "code",
   "execution_count": 24,
   "metadata": {},
   "outputs": [],
   "source": [
    "df['card1'].fillna('unknown',inplace=True)"
   ]
  },
  {
   "cell_type": "code",
   "execution_count": 25,
   "metadata": {},
   "outputs": [
    {
     "data": {
      "text/plain": [
       "array([ nan, 404., 490., 567., 514., 555., 360., 100., 111., 352., 375.,\n",
       "       418., 303., 314., 543., 583., 148., 321., 269., 361., 272., 399.,\n",
       "       569., 453., 417., 512., 545., 266., 114., 481., 452., 547., 383.,\n",
       "       170., 343., 556., 285., 562., 302., 264., 558., 500., 396., 103.,\n",
       "       206., 143., 243., 476., 199., 174., 423., 446., 492., 523., 440.,\n",
       "       528., 161., 535., 354., 117., 455., 325., 158., 268., 122., 479.,\n",
       "       147., 215., 480., 265., 388., 408., 309., 415., 414., 437., 104.,\n",
       "       225., 101., 134., 586., 191., 491., 369., 322., 494., 532., 313.,\n",
       "       474., 324., 475., 298., 429., 432., 553., 566., 599., 296., 251.,\n",
       "       310., 242., 204., 250., 270., 346., 316., 194., 587., 390., 135.,\n",
       "       536., 254., 226., 327., 420., 260., 413., 428., 561., 387., 411.,\n",
       "       392., 203., 297., 136., 276., 142., 527., 210., 184., 459., 118.,\n",
       "       585., 106., 588., 449., 176., 177., 246., 439., 503., 445., 172.,\n",
       "       468., 239., 496., 364., 533., 370., 578., 150., 458., 365., 359.,\n",
       "       509., 202., 584., 258., 442., 530., 489., 529., 504., 356., 123.,\n",
       "       205., 130., 382., 155., 105., 422., 345., 257., 171., 559., 271.,\n",
       "       554., 127., 236., 548., 454., 373., 275., 286., 308., 517., 294.,\n",
       "       145., 565., 245., 513., 520., 133., 162., 163., 216., 550., 355.,\n",
       "       180., 393., 391., 462., 435., 460., 444., 333., 595., 443., 507.,\n",
       "       551., 572., 110., 470., 472., 102., 144., 300., 400., 478., 198.,\n",
       "       600., 167., 350., 320., 579., 113., 560., 389., 431., 589., 592.,\n",
       "       336., 295., 515., 108., 385., 281., 231., 339., 128., 367., 301.,\n",
       "       280., 510., 426., 357., 593., 467., 262., 160., 315., 571., 394.,\n",
       "       166., 304., 485., 376., 448., 537., 247., 594., 461., 181., 581.,\n",
       "       542., 582., 499., 287., 519., 381., 424., 214., 525., 332., 311.,\n",
       "       340., 368., 168., 183., 371., 516., 342., 112., 278., 115., 384.,\n",
       "       229., 234., 374., 291., 596., 165., 539., 409., 318., 126., 568.,\n",
       "       549., 146., 152., 253., 347., 290., 348., 240., 201., 307., 283.,\n",
       "       222., 248., 464., 534., 299., 450., 218., 192., 255., 197., 341.,\n",
       "       330., 570., 501., 574., 200., 219., 337., 372., 317., 433., 505.,\n",
       "       477., 159., 284., 552., 502., 405., 563., 306., 193., 140., 334.,\n",
       "       540., 169., 487., 353., 141., 109., 386., 471., 208., 524., 116.,\n",
       "       209., 416., 132., 157., 182., 154., 434., 395., 398., 220., 484.,\n",
       "       282., 511., 277., 173., 402., 274., 178., 237., 305., 427., 252.,\n",
       "       196., 463., 244., 149., 531., 238., 573., 338., 493., 412., 380.,\n",
       "       473., 153., 575., 190., 495., 289., 465., 541., 362., 119., 235.,\n",
       "       164., 131., 598., 151., 441., 217., 436., 228., 139., 259., 189.,\n",
       "       379., 263., 188., 508., 233., 256., 344., 328., 438., 249., 323.,\n",
       "       213., 366., 273., 377., 577., 521., 564., 358., 544., 288., 279.,\n",
       "       241., 267., 497., 456., 351., 221., 211., 227., 121., 230., 498.,\n",
       "       466., 425., 506., 335., 597., 469., 486., 401., 488., 421., 406.,\n",
       "       224., 124., 195., 129., 363., 292., 175., 590., 430., 319., 212.,\n",
       "       331., 329., 483., 349., 457., 518., 538., 261., 410., 232., 403.,\n",
       "       419., 397., 591., 137., 447., 156., 378., 138., 407., 207., 185.,\n",
       "       125., 451., 293., 186., 120., 482., 326., 179., 576., 580., 546.,\n",
       "       522., 526., 187., 223., 557., 312.])"
      ]
     },
     "execution_count": 25,
     "metadata": {},
     "output_type": "execute_result"
    }
   ],
   "source": [
    "df['card2'].unique()"
   ]
  },
  {
   "cell_type": "code",
   "execution_count": 26,
   "metadata": {},
   "outputs": [],
   "source": [
    "df['card2'].fillna('unknown',inplace=True)"
   ]
  },
  {
   "cell_type": "code",
   "execution_count": 27,
   "metadata": {},
   "outputs": [
    {
     "data": {
      "text/plain": [
       "array([150., 117., 185., 143., 144., 163., 146., 191., 162., 119., 147.,\n",
       "       100., 135., 137., 138., 102., 213., 106., 214., 148., 210., 203.,\n",
       "       194., 141., 225.,  nan, 188., 193., 208., 133., 223., 134., 153.,\n",
       "       131., 200., 149., 116., 222., 220., 197., 129., 206., 195., 204.,\n",
       "       127., 142., 111., 159., 118., 229., 217., 212., 227., 166., 189.,\n",
       "       120., 171., 190., 105., 130., 170., 180., 177., 132., 109., 198.,\n",
       "       121., 183., 215., 156., 207., 186., 167., 152., 199., 219., 202.,\n",
       "       126., 182., 123., 107., 221., 124., 231., 157., 136., 128., 168.,\n",
       "       101., 108., 125., 211., 164., 160., 161., 179., 155., 169., 205.,\n",
       "       209., 226., 174., 176., 181., 224., 122., 201., 175., 139., 172.,\n",
       "       114., 228., 184., 151., 173.])"
      ]
     },
     "execution_count": 27,
     "metadata": {},
     "output_type": "execute_result"
    }
   ],
   "source": [
    "df['card3'].unique()"
   ]
  },
  {
   "cell_type": "code",
   "execution_count": 28,
   "metadata": {},
   "outputs": [],
   "source": [
    "df['card3'].fillna('unknown',inplace=True)"
   ]
  },
  {
   "cell_type": "code",
   "execution_count": 29,
   "metadata": {},
   "outputs": [
    {
     "data": {
      "text/plain": [
       "array([150.0, 117.0, 185.0, 143.0, 144.0, 163.0, 146.0, 191.0, 162.0,\n",
       "       119.0, 147.0, 100.0, 135.0, 137.0, 138.0, 102.0, 213.0, 106.0,\n",
       "       214.0, 148.0, 210.0, 203.0, 194.0, 141.0, 225.0, 'unknown', 188.0,\n",
       "       193.0, 208.0, 133.0, 223.0, 134.0, 153.0, 131.0, 200.0, 149.0,\n",
       "       116.0, 222.0, 220.0, 197.0, 129.0, 206.0, 195.0, 204.0, 127.0,\n",
       "       142.0, 111.0, 159.0, 118.0, 229.0, 217.0, 212.0, 227.0, 166.0,\n",
       "       189.0, 120.0, 171.0, 190.0, 105.0, 130.0, 170.0, 180.0, 177.0,\n",
       "       132.0, 109.0, 198.0, 121.0, 183.0, 215.0, 156.0, 207.0, 186.0,\n",
       "       167.0, 152.0, 199.0, 219.0, 202.0, 126.0, 182.0, 123.0, 107.0,\n",
       "       221.0, 124.0, 231.0, 157.0, 136.0, 128.0, 168.0, 101.0, 108.0,\n",
       "       125.0, 211.0, 164.0, 160.0, 161.0, 179.0, 155.0, 169.0, 205.0,\n",
       "       209.0, 226.0, 174.0, 176.0, 181.0, 224.0, 122.0, 201.0, 175.0,\n",
       "       139.0, 172.0, 114.0, 228.0, 184.0, 151.0, 173.0], dtype=object)"
      ]
     },
     "execution_count": 29,
     "metadata": {},
     "output_type": "execute_result"
    }
   ],
   "source": [
    "df['card3'].unique()"
   ]
  },
  {
   "cell_type": "code",
   "execution_count": 30,
   "metadata": {},
   "outputs": [
    {
     "data": {
      "text/plain": [
       "array(['discover', 'mastercard', 'visa', 'american express', nan],\n",
       "      dtype=object)"
      ]
     },
     "execution_count": 30,
     "metadata": {},
     "output_type": "execute_result"
    }
   ],
   "source": [
    "df['card4'].unique()"
   ]
  },
  {
   "cell_type": "code",
   "execution_count": 31,
   "metadata": {},
   "outputs": [],
   "source": [
    "df['card4'].fillna('unknown',inplace=True)"
   ]
  },
  {
   "cell_type": "code",
   "execution_count": 32,
   "metadata": {
    "scrolled": true
   },
   "outputs": [
    {
     "data": {
      "text/plain": [
       "array([142., 102., 166., 117., 226., 224., 134., 219., 137., 195., 138.,\n",
       "       100., 147., 162., 202., 118., 150., 183., 171., 236., 197., 133.,\n",
       "       223., 149., 228., 229.,  nan, 198., 182., 126., 185., 190., 131.,\n",
       "       144., 141., 215., 203., 237., 132., 143., 146., 140., 129., 199.,\n",
       "       194., 213., 111., 169., 177., 173., 156., 119., 135., 107., 232.,\n",
       "       188., 159., 127., 148., 139., 104., 210., 180., 207., 204., 212.,\n",
       "       106., 152., 222., 187., 200., 214., 189., 181., 206., 225., 157.,\n",
       "       121., 217., 184., 167., 113., 136., 120., 201., 211., 122., 164.,\n",
       "       123., 145., 172., 114., 231., 105., 221., 234., 130., 109., 196.,\n",
       "       101., 158., 230., 128., 191., 165., 115., 233., 216., 116., 178.,\n",
       "       125., 163., 205., 112., 168., 209., 235., 151., 175., 160.])"
      ]
     },
     "execution_count": 32,
     "metadata": {},
     "output_type": "execute_result"
    }
   ],
   "source": [
    "df['card5'].unique()"
   ]
  },
  {
   "cell_type": "code",
   "execution_count": 33,
   "metadata": {},
   "outputs": [
    {
     "data": {
      "text/plain": [
       "array(['credit', 'debit', nan, 'debit or credit', 'charge card'],\n",
       "      dtype=object)"
      ]
     },
     "execution_count": 33,
     "metadata": {},
     "output_type": "execute_result"
    }
   ],
   "source": [
    "df['card6'].unique()"
   ]
  },
  {
   "cell_type": "code",
   "execution_count": 34,
   "metadata": {},
   "outputs": [],
   "source": [
    "df['card6'] = df['card6'].replace(['debit or credit','charge card'],'debit')"
   ]
  },
  {
   "cell_type": "code",
   "execution_count": 35,
   "metadata": {},
   "outputs": [
    {
     "data": {
      "text/plain": [
       "array(['credit', 'debit', nan], dtype=object)"
      ]
     },
     "execution_count": 35,
     "metadata": {},
     "output_type": "execute_result"
    }
   ],
   "source": [
    "df['card6'].unique()"
   ]
  },
  {
   "cell_type": "code",
   "execution_count": 36,
   "metadata": {},
   "outputs": [],
   "source": [
    "df['card5'].fillna('unknown',inplace=True)"
   ]
  },
  {
   "cell_type": "code",
   "execution_count": 37,
   "metadata": {},
   "outputs": [],
   "source": [
    "df['card6'].fillna('unknown',inplace=True)"
   ]
  },
  {
   "cell_type": "code",
   "execution_count": 38,
   "metadata": {},
   "outputs": [],
   "source": [
    "df['addr1'].unique()\n",
    "df['addr1'].fillna('unknown',inplace=True)   "
   ]
  },
  {
   "cell_type": "code",
   "execution_count": 39,
   "metadata": {},
   "outputs": [],
   "source": [
    "df['addr2'].unique()\n",
    "df['addr2'].fillna('unknown',inplace=True)  "
   ]
  },
  {
   "cell_type": "code",
   "execution_count": 40,
   "metadata": {},
   "outputs": [],
   "source": [
    "#P_emaildomain"
   ]
  },
  {
   "cell_type": "code",
   "execution_count": 41,
   "metadata": {},
   "outputs": [
    {
     "data": {
      "text/plain": [
       "array([nan, 'gmail.com', 'outlook.com', 'yahoo.com', 'mail.com',\n",
       "       'anonymous.com', 'hotmail.com', 'verizon.net', 'aol.com', 'me.com',\n",
       "       'comcast.net', 'optonline.net', 'cox.net', 'charter.net',\n",
       "       'rocketmail.com', 'prodigy.net.mx', 'embarqmail.com', 'icloud.com',\n",
       "       'live.com.mx', 'gmail', 'live.com', 'att.net', 'juno.com',\n",
       "       'ymail.com', 'sbcglobal.net', 'bellsouth.net', 'msn.com', 'q.com',\n",
       "       'yahoo.com.mx', 'centurylink.net', 'servicios-ta.com',\n",
       "       'earthlink.net', 'hotmail.es', 'cfl.rr.com', 'roadrunner.com',\n",
       "       'netzero.net', 'gmx.de', 'suddenlink.net', 'frontiernet.net',\n",
       "       'windstream.net', 'frontier.com', 'outlook.es', 'mac.com',\n",
       "       'netzero.com', 'aim.com', 'web.de', 'twc.com', 'cableone.net',\n",
       "       'yahoo.fr', 'yahoo.de', 'yahoo.es', 'sc.rr.com', 'ptd.net',\n",
       "       'live.fr', 'yahoo.co.uk', 'hotmail.fr', 'hotmail.de',\n",
       "       'hotmail.co.uk', 'protonmail.com', 'yahoo.co.jp'], dtype=object)"
      ]
     },
     "execution_count": 41,
     "metadata": {},
     "output_type": "execute_result"
    }
   ],
   "source": [
    "df['P_emaildomain'].unique()"
   ]
  },
  {
   "cell_type": "code",
   "execution_count": 42,
   "metadata": {},
   "outputs": [],
   "source": [
    "df['P_emaildomain'] = df['P_emaildomain'].replace(['yahoo.com.mx'],'yahoo.com')\n",
    "df['P_emaildomain'] = df['P_emaildomain'].replace(['yahoo.fr'],'yahoo.com')\n",
    "df['P_emaildomain'] = df['P_emaildomain'].replace(['yahoo.de'],'yahoo.com')\n",
    "df['P_emaildomain'] = df['P_emaildomain'].replace(['yahoo.es'],'yahoo.com')\n",
    "df['P_emaildomain'] = df['P_emaildomain'].replace(['yahoo.co.uk'],'yahoo.com')\n",
    "df['P_emaildomain'] = df['P_emaildomain'].replace(['yahoo.co.jp'],'yahoo.com')"
   ]
  },
  {
   "cell_type": "code",
   "execution_count": 43,
   "metadata": {},
   "outputs": [],
   "source": [
    "df['P_emaildomain'] = df['P_emaildomain'].replace(['hotmail.es'],'hotmail.com')\n",
    "df['P_emaildomain'] = df['P_emaildomain'].replace(['hotmail.fr'],'hotmail.com')\n",
    "df['P_emaildomain'] = df['P_emaildomain'].replace(['hotmail.de'],'hotmail.com')\n",
    "df['P_emaildomain'] = df['P_emaildomain'].replace(['hotmail.co.uk'],'hotmail.com')\n",
    "df['P_emaildomain'] = df['P_emaildomain'].replace(['ive.com.mx'],'live.com')\n",
    "df['P_emaildomain'] = df['P_emaildomain'].replace(['live.fr'],'live.com') \n",
    "df['P_emaildomain'] = df['P_emaildomain'].replace(['netzero.net'],'netzero.com')"
   ]
  },
  {
   "cell_type": "code",
   "execution_count": 44,
   "metadata": {},
   "outputs": [],
   "source": [
    "df['P_emaildomain'].fillna('unknown',inplace=True)"
   ]
  },
  {
   "cell_type": "code",
   "execution_count": 47,
   "metadata": {},
   "outputs": [
    {
     "data": {
      "image/png": "[encoded data removed]",
      "text/plain": [
       "<Figure size 1080x360 with 1 Axes>"
      ]
     },
     "metadata": {
      "needs_background": "light"
     },
     "output_type": "display_data"
    }
   ],
   "source": [
    "df.groupby('P_emaildomain') \\\n",
    "    .count()['TransactionID'] \\\n",
    "    .sort_values(ascending=False) \\\n",
    "    .head(20) \\\n",
    "    .plot(kind='barh', figsize=(15, 5), title='Top mails')\n",
    "plt.show()"
   ]
  },
  {
   "cell_type": "code",
   "execution_count": 48,
   "metadata": {},
   "outputs": [],
   "source": [
    "df['P_emaildomain'] = df['P_emaildomain'].replace(['gmail.com'],1)\n",
    "df['P_emaildomain'] = df['P_emaildomain'].replace(['yahoo.com'],2)\n",
    "df['P_emaildomain'] = df['P_emaildomain'].replace(['unknown'],3)\n",
    "df['P_emaildomain'] = df['P_emaildomain'].replace(['hotmail.com'],4)\n",
    "df['P_emaildomain'] = df['P_emaildomain'].replace(['anonymous.com'],5)"
   ]
  },
  {
   "cell_type": "code",
   "execution_count": 49,
   "metadata": {},
   "outputs": [
    {
     "data": {
      "text/plain": [
       "array([3, 1, 'outlook.com', 2, 'mail.com', 5, 4, 'verizon.net', 'aol.com',\n",
       "       'me.com', 'comcast.net', 'optonline.net', 'cox.net', 'charter.net',\n",
       "       'rocketmail.com', 'prodigy.net.mx', 'embarqmail.com', 'icloud.com',\n",
       "       'live.com.mx', 'gmail', 'live.com', 'att.net', 'juno.com',\n",
       "       'ymail.com', 'sbcglobal.net', 'bellsouth.net', 'msn.com', 'q.com',\n",
       "       'centurylink.net', 'servicios-ta.com', 'earthlink.net',\n",
       "       'cfl.rr.com', 'roadrunner.com', 'netzero.com', 'gmx.de',\n",
       "       'suddenlink.net', 'frontiernet.net', 'windstream.net',\n",
       "       'frontier.com', 'outlook.es', 'mac.com', 'aim.com', 'web.de',\n",
       "       'twc.com', 'cableone.net', 'sc.rr.com', 'ptd.net',\n",
       "       'protonmail.com'], dtype=object)"
      ]
     },
     "execution_count": 49,
     "metadata": {},
     "output_type": "execute_result"
    }
   ],
   "source": [
    "df['P_emaildomain'].unique()"
   ]
  },
  {
   "cell_type": "code",
   "execution_count": 50,
   "metadata": {},
   "outputs": [],
   "source": [
    "df['P_emaildomain'] = np.where(df['P_emaildomain'].isin([1,2,3,4,5]), df['P_emaildomain'], 6)"
   ]
  },
  {
   "cell_type": "code",
   "execution_count": 51,
   "metadata": {},
   "outputs": [],
   "source": [
    "df['R_emaildomain'] = df['R_emaildomain'].replace(['outlook.com', 'mail.com', 'verizon.net', 'aol.com',\n",
    "       'me.com', 'comcast.net', 'optonline.net', 'cox.net', 'charter.net',\n",
    "       'rocketmail.com', 'prodigy.net.mx', 'embarqmail.com', 'icloud.com',\n",
    "       'live.com.mx', 'gmail', 'live.com', 'att.net', 'juno.com',\n",
    "       'ymail.com', 'sbcglobal.net', 'bellsouth.net', 'msn.com', 'q.com',\n",
    "       'centurylink.net', 'servicios-ta.com', 'earthlink.net',\n",
    "       'cfl.rr.com', 'roadrunner.com', 'netzero.com', 'gmx.de',\n",
    "       'suddenlink.net', 'frontiernet.net', 'windstream.net',\n",
    "       'frontier.com', 'outlook.es', 'mac.com', 'aim.com', 'web.de',\n",
    "       'twc.com', 'cableone.net', 'sc.rr.com', 'ptd.net',\n",
    "       'protonmail.com'],6)"
   ]
  },
  {
   "cell_type": "code",
   "execution_count": 52,
   "metadata": {},
   "outputs": [
    {
     "data": {
      "text/plain": [
       "array([3, 1, 6, 2, 5, 4], dtype=object)"
      ]
     },
     "execution_count": 52,
     "metadata": {},
     "output_type": "execute_result"
    }
   ],
   "source": [
    "df['P_emaildomain'].unique()"
   ]
  },
  {
   "cell_type": "code",
   "execution_count": 53,
   "metadata": {},
   "outputs": [
    {
     "data": {
      "text/plain": [
       "array([nan, 'gmail.com', 'hotmail.com', 6, 'anonymous.com', 'yahoo.com',\n",
       "       'yahoo.com.mx', 'hotmail.es', 'scranton.edu', 'yahoo.fr',\n",
       "       'yahoo.de', 'yahoo.es', 'live.fr', 'yahoo.co.uk', 'hotmail.fr',\n",
       "       'hotmail.de', 'hotmail.co.uk', 'netzero.net', 'yahoo.co.jp'],\n",
       "      dtype=object)"
      ]
     },
     "execution_count": 53,
     "metadata": {},
     "output_type": "execute_result"
    }
   ],
   "source": [
    "df['R_emaildomain'].unique()"
   ]
  },
  {
   "cell_type": "code",
   "execution_count": 54,
   "metadata": {},
   "outputs": [],
   "source": [
    "#R_emaildomain"
   ]
  },
  {
   "cell_type": "code",
   "execution_count": 55,
   "metadata": {},
   "outputs": [
    {
     "data": {
      "text/plain": [
       "array([nan, 'gmail.com', 'hotmail.com', 6, 'anonymous.com', 'yahoo.com',\n",
       "       'yahoo.com.mx', 'hotmail.es', 'scranton.edu', 'yahoo.fr',\n",
       "       'yahoo.de', 'yahoo.es', 'live.fr', 'yahoo.co.uk', 'hotmail.fr',\n",
       "       'hotmail.de', 'hotmail.co.uk', 'netzero.net', 'yahoo.co.jp'],\n",
       "      dtype=object)"
      ]
     },
     "execution_count": 55,
     "metadata": {},
     "output_type": "execute_result"
    }
   ],
   "source": [
    "df['R_emaildomain'].unique()"
   ]
  },
  {
   "cell_type": "code",
   "execution_count": 56,
   "metadata": {},
   "outputs": [],
   "source": [
    "# replace all emails by yahoo.com\n",
    "df['R_emaildomain'] = df['R_emaildomain'].replace(['yahoo.com.mx'],'yahoo.com')\n",
    "df['R_emaildomain'] = df['R_emaildomain'].replace(['yahoo.fr'],'yahoo.com')\n",
    "df['R_emaildomain'] = df['R_emaildomain'].replace(['yahoo.de'],'yahoo.com')\n",
    "df['R_emaildomain'] = df['R_emaildomain'].replace(['yahoo.es'],'yahoo.com')\n",
    "df['R_emaildomain'] = df['R_emaildomain'].replace(['yahoo.co.uk'],'yahoo.com')\n",
    "df['R_emaildomain'] = df['R_emaildomain'].replace(['yahoo.co.jp'],'yahoo.com')\n"
   ]
  },
  {
   "cell_type": "code",
   "execution_count": 57,
   "metadata": {},
   "outputs": [],
   "source": [
    "# replace other values.\n",
    "df['R_emaildomain'] = df['R_emaildomain'].replace(['hotmail.es'],'hotmail.com')\n",
    "df['R_emaildomain'] = df['R_emaildomain'].replace(['hotmail.fr'],'hotmail.com')\n",
    "df['R_emaildomain'] = df['R_emaildomain'].replace(['hotmail.de'],'hotmail.com')\n",
    "df['R_emaildomain'] = df['R_emaildomain'].replace(['hotmail.co.uk'],'hotmail.com')\n",
    "\n",
    "df['R_emaildomain'] = df['R_emaildomain'].replace(['outlook.es'],'outlook.com')\n",
    "df['R_emaildomain'] = df['R_emaildomain'].replace(['netzero.net'],'netzero.com')\n",
    "                                            \n",
    "df['R_emaildomain'] = df['R_emaildomain'].replace(['ive.com.mx'],'live.com')\n",
    "df['R_emaildomain'] = df['R_emaildomain'].replace(['live.fr'],'live.com')                                                  "
   ]
  },
  {
   "cell_type": "code",
   "execution_count": 58,
   "metadata": {},
   "outputs": [],
   "source": [
    "df['R_emaildomain'].fillna('unknown',inplace=True) # fill missing values"
   ]
  },
  {
   "cell_type": "code",
   "execution_count": 59,
   "metadata": {},
   "outputs": [
    {
     "data": {
      "text/plain": [
       "array(['unknown', 'gmail.com', 'hotmail.com', 6, 'anonymous.com',\n",
       "       'yahoo.com', 'scranton.edu', 'live.com', 'netzero.com'],\n",
       "      dtype=object)"
      ]
     },
     "execution_count": 59,
     "metadata": {},
     "output_type": "execute_result"
    }
   ],
   "source": [
    "df['R_emaildomain'].unique()"
   ]
  },
  {
   "cell_type": "code",
   "execution_count": 60,
   "metadata": {},
   "outputs": [
    {
     "data": {
      "image/png": "[encoded data removed]",
      "text/plain": [
       "<Figure size 1080x360 with 1 Axes>"
      ]
     },
     "metadata": {
      "needs_background": "light"
     },
     "output_type": "display_data"
    }
   ],
   "source": [
    "df.groupby('R_emaildomain') \\\n",
    "    .count()['TransactionID'] \\\n",
    "    .sort_values(ascending=False) \\\n",
    "    .head(20) \\\n",
    "    .plot(kind='barh', figsize=(15, 5), title='Top mails')\n",
    "plt.show()"
   ]
  },
  {
   "cell_type": "code",
   "execution_count": 61,
   "metadata": {},
   "outputs": [],
   "source": [
    "# Top 5 to 1,2,3,4,5\n",
    "df['R_emaildomain'] = df['R_emaildomain'].replace(['unknown'],1)\n",
    "df['R_emaildomain'] = df['R_emaildomain'].replace(['gmail.com'],2)\n",
    "df['R_emaildomain'] = df['R_emaildomain'].replace(['hotmail.com'],3)\n",
    "df['R_emaildomain'] = df['R_emaildomain'].replace(['anonymous.com'],4)\n",
    "df['R_emaildomain'] = df['R_emaildomain'].replace(['yahoo.com'],5)"
   ]
  },
  {
   "cell_type": "code",
   "execution_count": 62,
   "metadata": {},
   "outputs": [
    {
     "data": {
      "text/plain": [
       "array([1, 2, 3, 6, 4, 5, 'scranton.edu', 'live.com', 'netzero.com'],\n",
       "      dtype=object)"
      ]
     },
     "execution_count": 62,
     "metadata": {},
     "output_type": "execute_result"
    }
   ],
   "source": [
    "df['R_emaildomain'].unique()"
   ]
  },
  {
   "cell_type": "code",
   "execution_count": 63,
   "metadata": {},
   "outputs": [],
   "source": [
    "# other emails to 6\n",
    "df['R_emaildomain'] = df['R_emaildomain'].replace(['outlook.com', 'charter.net', 'prodigy.net.mx',\n",
    "       'comcast.net', 'live.com.mx', 'icloud.com', 'aol.com',\n",
    "       'juno.com', 'att.net', 'verizon.net', 'bellsouth.net',\n",
    "       'servicios-ta.com', 'ymail.com', 'msn.com', 'optonline.net',\n",
    "       'live.com', 'gmx.de', 'aim.com', 'mail.com', 'me.com', 'cox.net',\n",
    "       'earthlink.net', 'embarqmail.com', 'web.de', 'sbcglobal.net',\n",
    "       'scranton.edu', 'mac.com', 'twc.com', 'roadrunner.com',\n",
    "       'frontiernet.net', 'gmail', 'q.com', 'windstream.net',\n",
    "       'suddenlink.net', 'ptd.net', 'frontier.com', 'cfl.rr.com',\n",
    "       'netzero.com', 'rocketmail.com', 'centurylink.net',\n",
    "       'protonmail.com', 'cableone.net', 'sc.rr.com'],6)   "
   ]
  },
  {
   "cell_type": "code",
   "execution_count": 64,
   "metadata": {},
   "outputs": [
    {
     "data": {
      "text/plain": [
       "array([1, 2, 3, 6, 4, 5], dtype=int64)"
      ]
     },
     "execution_count": 64,
     "metadata": {},
     "output_type": "execute_result"
    }
   ],
   "source": [
    "df['R_emaildomain'].unique()"
   ]
  },
  {
   "cell_type": "code",
   "execution_count": 65,
   "metadata": {},
   "outputs": [
    {
     "data": {
      "text/plain": [
       "array(['T', nan, 'F'], dtype=object)"
      ]
     },
     "execution_count": 65,
     "metadata": {},
     "output_type": "execute_result"
    }
   ],
   "source": [
    "df['M1'].unique()"
   ]
  },
  {
   "cell_type": "code",
   "execution_count": 66,
   "metadata": {},
   "outputs": [],
   "source": [
    "df['M1'].fillna('unknown',inplace=True)"
   ]
  },
  {
   "cell_type": "code",
   "execution_count": 67,
   "metadata": {},
   "outputs": [
    {
     "data": {
      "text/plain": [
       "array(['T', nan, 'F'], dtype=object)"
      ]
     },
     "execution_count": 67,
     "metadata": {},
     "output_type": "execute_result"
    }
   ],
   "source": [
    "df['M2'].unique()"
   ]
  },
  {
   "cell_type": "code",
   "execution_count": 68,
   "metadata": {},
   "outputs": [],
   "source": [
    "df['M2'].fillna('unknown',inplace=True)"
   ]
  },
  {
   "cell_type": "code",
   "execution_count": 69,
   "metadata": {},
   "outputs": [
    {
     "data": {
      "text/plain": [
       "array(['T', nan, 'F'], dtype=object)"
      ]
     },
     "execution_count": 69,
     "metadata": {},
     "output_type": "execute_result"
    }
   ],
   "source": [
    "df['M3'].unique()"
   ]
  },
  {
   "cell_type": "code",
   "execution_count": 70,
   "metadata": {},
   "outputs": [],
   "source": [
    "df['M3'].fillna('unknown',inplace=True)"
   ]
  },
  {
   "cell_type": "code",
   "execution_count": 71,
   "metadata": {},
   "outputs": [
    {
     "data": {
      "text/plain": [
       "array(['M2', 'M0', nan, 'M1'], dtype=object)"
      ]
     },
     "execution_count": 71,
     "metadata": {},
     "output_type": "execute_result"
    }
   ],
   "source": [
    "df['M4'].unique()"
   ]
  },
  {
   "cell_type": "code",
   "execution_count": 72,
   "metadata": {},
   "outputs": [],
   "source": [
    "df['M4'].fillna('unknown',inplace=True)"
   ]
  },
  {
   "cell_type": "code",
   "execution_count": 73,
   "metadata": {},
   "outputs": [
    {
     "data": {
      "text/plain": [
       "array(['F', 'T', nan], dtype=object)"
      ]
     },
     "execution_count": 73,
     "metadata": {},
     "output_type": "execute_result"
    }
   ],
   "source": [
    "df['M5'].unique()"
   ]
  },
  {
   "cell_type": "code",
   "execution_count": 74,
   "metadata": {},
   "outputs": [],
   "source": [
    "df['M5'].fillna('unknown',inplace=True)"
   ]
  },
  {
   "cell_type": "code",
   "execution_count": 75,
   "metadata": {},
   "outputs": [
    {
     "data": {
      "text/plain": [
       "array(['T', 'F', nan], dtype=object)"
      ]
     },
     "execution_count": 75,
     "metadata": {},
     "output_type": "execute_result"
    }
   ],
   "source": [
    "df['M6'].unique()"
   ]
  },
  {
   "cell_type": "code",
   "execution_count": 76,
   "metadata": {},
   "outputs": [],
   "source": [
    "df['M6'].fillna('unknown',inplace=True)"
   ]
  },
  {
   "cell_type": "code",
   "execution_count": 77,
   "metadata": {},
   "outputs": [
    {
     "data": {
      "text/plain": [
       "array([nan, 'F', 'T'], dtype=object)"
      ]
     },
     "execution_count": 77,
     "metadata": {},
     "output_type": "execute_result"
    }
   ],
   "source": [
    "df['M7'].unique()"
   ]
  },
  {
   "cell_type": "code",
   "execution_count": 78,
   "metadata": {},
   "outputs": [],
   "source": [
    "df['M7'].fillna('unknown',inplace=True)"
   ]
  },
  {
   "cell_type": "code",
   "execution_count": 79,
   "metadata": {},
   "outputs": [
    {
     "data": {
      "text/plain": [
       "array([nan, 'F', 'T'], dtype=object)"
      ]
     },
     "execution_count": 79,
     "metadata": {},
     "output_type": "execute_result"
    }
   ],
   "source": [
    "df['M8'].unique()"
   ]
  },
  {
   "cell_type": "code",
   "execution_count": 80,
   "metadata": {},
   "outputs": [],
   "source": [
    "df['M8'].fillna('unknown',inplace=True)"
   ]
  },
  {
   "cell_type": "code",
   "execution_count": 81,
   "metadata": {},
   "outputs": [
    {
     "data": {
      "text/plain": [
       "array([nan, 'F', 'T'], dtype=object)"
      ]
     },
     "execution_count": 81,
     "metadata": {},
     "output_type": "execute_result"
    }
   ],
   "source": [
    "df['M9'].unique()"
   ]
  },
  {
   "cell_type": "code",
   "execution_count": 82,
   "metadata": {},
   "outputs": [],
   "source": [
    "df['M9'].fillna('unknown',inplace=True)"
   ]
  },
  {
   "cell_type": "code",
   "execution_count": 83,
   "metadata": {},
   "outputs": [],
   "source": [
    "df['ProductCD'] = df['ProductCD'].astype('category')\n",
    "df['card1'] = df['card1'].astype('category')\n",
    "df['card2'] = df['card2'].astype('category')\n",
    "df['card3'] = df['card3'].astype('category')\n",
    "df['card4'] = df['card4'].astype('category')\n",
    "df['card5'] = df['card5'].astype('category')  \n",
    "df['card6'] = df['card6'].astype('category') \n",
    "df['addr1'] = df['addr1'].astype('category')\n",
    "df['addr2'] = df['addr2'].astype('category') \n",
    "df['M1'] = df['M1'].astype('category')  \n",
    "df['M2'] = df['M2'].astype('category')\n",
    "df['M3'] = df['M3'].astype('category')\n",
    "df['M4'] = df['M4'].astype('category')\n",
    "df['M5'] = df['M5'].astype('category')\n",
    "df['M6'] = df['M6'].astype('category')\n",
    "df['M7'] = df['M7'].astype('category')\n",
    "df['M8'] = df['M8'].astype('category')\n",
    "df['M9'] = df['M9'].astype('category')"
   ]
  },
  {
   "cell_type": "code",
   "execution_count": 84,
   "metadata": {},
   "outputs": [],
   "source": [
    "cat_columns = df.select_dtypes(['category']).columns"
   ]
  },
  {
   "cell_type": "code",
   "execution_count": 85,
   "metadata": {},
   "outputs": [],
   "source": [
    "df[cat_columns] = df[cat_columns].apply(lambda x: x.cat.codes)"
   ]
  },
  {
   "cell_type": "code",
   "execution_count": 86,
   "metadata": {},
   "outputs": [
    {
     "data": {
      "text/html": [
       "<div>\n",
       "<style scoped>\n",
       "    .dataframe tbody tr th:only-of-type {\n",
       "        vertical-align: middle;\n",
       "    }\n",
       "\n",
       "    .dataframe tbody tr th {\n",
       "        vertical-align: top;\n",
       "    }\n",
       "\n",
       "    .dataframe thead th {\n",
       "        text-align: right;\n",
       "    }\n",
       "</style>\n",
       "<table border=\"1\" class=\"dataframe\">\n",
       "  <thead>\n",
       "    <tr style=\"text-align: right;\">\n",
       "      <th></th>\n",
       "      <th>TransactionID</th>\n",
       "      <th>isFraud</th>\n",
       "      <th>TransactionDT</th>\n",
       "      <th>TransactionAmt</th>\n",
       "      <th>ProductCD</th>\n",
       "      <th>card1</th>\n",
       "      <th>card2</th>\n",
       "      <th>card3</th>\n",
       "      <th>card4</th>\n",
       "      <th>card5</th>\n",
       "      <th>...</th>\n",
       "      <th>V330</th>\n",
       "      <th>V331</th>\n",
       "      <th>V332</th>\n",
       "      <th>V333</th>\n",
       "      <th>V334</th>\n",
       "      <th>V335</th>\n",
       "      <th>V336</th>\n",
       "      <th>V337</th>\n",
       "      <th>V338</th>\n",
       "      <th>V339</th>\n",
       "    </tr>\n",
       "  </thead>\n",
       "  <tbody>\n",
       "    <tr>\n",
       "      <th>0</th>\n",
       "      <td>2987000</td>\n",
       "      <td>0</td>\n",
       "      <td>86400</td>\n",
       "      <td>68.5</td>\n",
       "      <td>4</td>\n",
       "      <td>10095</td>\n",
       "      <td>500</td>\n",
       "      <td>42</td>\n",
       "      <td>1</td>\n",
       "      <td>38</td>\n",
       "      <td>...</td>\n",
       "      <td>NaN</td>\n",
       "      <td>NaN</td>\n",
       "      <td>NaN</td>\n",
       "      <td>NaN</td>\n",
       "      <td>NaN</td>\n",
       "      <td>NaN</td>\n",
       "      <td>NaN</td>\n",
       "      <td>NaN</td>\n",
       "      <td>NaN</td>\n",
       "      <td>NaN</td>\n",
       "    </tr>\n",
       "    <tr>\n",
       "      <th>1</th>\n",
       "      <td>2987001</td>\n",
       "      <td>0</td>\n",
       "      <td>86401</td>\n",
       "      <td>29.0</td>\n",
       "      <td>4</td>\n",
       "      <td>1372</td>\n",
       "      <td>303</td>\n",
       "      <td>42</td>\n",
       "      <td>2</td>\n",
       "      <td>2</td>\n",
       "      <td>...</td>\n",
       "      <td>NaN</td>\n",
       "      <td>NaN</td>\n",
       "      <td>NaN</td>\n",
       "      <td>NaN</td>\n",
       "      <td>NaN</td>\n",
       "      <td>NaN</td>\n",
       "      <td>NaN</td>\n",
       "      <td>NaN</td>\n",
       "      <td>NaN</td>\n",
       "      <td>NaN</td>\n",
       "    </tr>\n",
       "    <tr>\n",
       "      <th>2</th>\n",
       "      <td>2987002</td>\n",
       "      <td>0</td>\n",
       "      <td>86469</td>\n",
       "      <td>59.0</td>\n",
       "      <td>4</td>\n",
       "      <td>2833</td>\n",
       "      <td>389</td>\n",
       "      <td>42</td>\n",
       "      <td>4</td>\n",
       "      <td>58</td>\n",
       "      <td>...</td>\n",
       "      <td>NaN</td>\n",
       "      <td>NaN</td>\n",
       "      <td>NaN</td>\n",
       "      <td>NaN</td>\n",
       "      <td>NaN</td>\n",
       "      <td>NaN</td>\n",
       "      <td>NaN</td>\n",
       "      <td>NaN</td>\n",
       "      <td>NaN</td>\n",
       "      <td>NaN</td>\n",
       "    </tr>\n",
       "    <tr>\n",
       "      <th>3</th>\n",
       "      <td>2987003</td>\n",
       "      <td>0</td>\n",
       "      <td>86499</td>\n",
       "      <td>50.0</td>\n",
       "      <td>4</td>\n",
       "      <td>13341</td>\n",
       "      <td>466</td>\n",
       "      <td>42</td>\n",
       "      <td>2</td>\n",
       "      <td>14</td>\n",
       "      <td>...</td>\n",
       "      <td>NaN</td>\n",
       "      <td>NaN</td>\n",
       "      <td>NaN</td>\n",
       "      <td>NaN</td>\n",
       "      <td>NaN</td>\n",
       "      <td>NaN</td>\n",
       "      <td>NaN</td>\n",
       "      <td>NaN</td>\n",
       "      <td>NaN</td>\n",
       "      <td>NaN</td>\n",
       "    </tr>\n",
       "    <tr>\n",
       "      <th>4</th>\n",
       "      <td>2987004</td>\n",
       "      <td>0</td>\n",
       "      <td>86506</td>\n",
       "      <td>50.0</td>\n",
       "      <td>1</td>\n",
       "      <td>2712</td>\n",
       "      <td>413</td>\n",
       "      <td>42</td>\n",
       "      <td>2</td>\n",
       "      <td>2</td>\n",
       "      <td>...</td>\n",
       "      <td>0.0</td>\n",
       "      <td>0.0</td>\n",
       "      <td>0.0</td>\n",
       "      <td>0.0</td>\n",
       "      <td>0.0</td>\n",
       "      <td>0.0</td>\n",
       "      <td>0.0</td>\n",
       "      <td>0.0</td>\n",
       "      <td>0.0</td>\n",
       "      <td>0.0</td>\n",
       "    </tr>\n",
       "  </tbody>\n",
       "</table>\n",
       "<p>5 rows × 392 columns</p>\n",
       "</div>"
      ],
      "text/plain": [
       "   TransactionID  isFraud  TransactionDT  TransactionAmt  ProductCD  card1  \\\n",
       "0        2987000        0          86400            68.5          4  10095   \n",
       "1        2987001        0          86401            29.0          4   1372   \n",
       "2        2987002        0          86469            59.0          4   2833   \n",
       "3        2987003        0          86499            50.0          4  13341   \n",
       "4        2987004        0          86506            50.0          1   2712   \n",
       "\n",
       "   card2  card3  card4  card5  ...  V330  V331  V332  V333 V334  V335  V336  \\\n",
       "0    500     42      1     38  ...   NaN   NaN   NaN   NaN  NaN   NaN   NaN   \n",
       "1    303     42      2      2  ...   NaN   NaN   NaN   NaN  NaN   NaN   NaN   \n",
       "2    389     42      4     58  ...   NaN   NaN   NaN   NaN  NaN   NaN   NaN   \n",
       "3    466     42      2     14  ...   NaN   NaN   NaN   NaN  NaN   NaN   NaN   \n",
       "4    413     42      2      2  ...   0.0   0.0   0.0   0.0  0.0   0.0   0.0   \n",
       "\n",
       "   V337  V338  V339  \n",
       "0   NaN   NaN   NaN  \n",
       "1   NaN   NaN   NaN  \n",
       "2   NaN   NaN   NaN  \n",
       "3   NaN   NaN   NaN  \n",
       "4   0.0   0.0   0.0  \n",
       "\n",
       "[5 rows x 392 columns]"
      ]
     },
     "execution_count": 86,
     "metadata": {},
     "output_type": "execute_result"
    }
   ],
   "source": [
    "df.head()"
   ]
  },
  {
   "cell_type": "code",
   "execution_count": 87,
   "metadata": {},
   "outputs": [],
   "source": [
    "df = df.fillna(df.median())  # Now fill missing numerical values"
   ]
  },
  {
   "cell_type": "code",
   "execution_count": 88,
   "metadata": {},
   "outputs": [
    {
     "data": {
      "text/html": [
       "<div>\n",
       "<style scoped>\n",
       "    .dataframe tbody tr th:only-of-type {\n",
       "        vertical-align: middle;\n",
       "    }\n",
       "\n",
       "    .dataframe tbody tr th {\n",
       "        vertical-align: top;\n",
       "    }\n",
       "\n",
       "    .dataframe thead th {\n",
       "        text-align: right;\n",
       "    }\n",
       "</style>\n",
       "<table border=\"1\" class=\"dataframe\">\n",
       "  <thead>\n",
       "    <tr style=\"text-align: right;\">\n",
       "      <th></th>\n",
       "      <th>TransactionID</th>\n",
       "      <th>isFraud</th>\n",
       "      <th>TransactionDT</th>\n",
       "      <th>TransactionAmt</th>\n",
       "      <th>ProductCD</th>\n",
       "      <th>card1</th>\n",
       "      <th>card2</th>\n",
       "      <th>card3</th>\n",
       "      <th>card4</th>\n",
       "      <th>card5</th>\n",
       "      <th>...</th>\n",
       "      <th>V330</th>\n",
       "      <th>V331</th>\n",
       "      <th>V332</th>\n",
       "      <th>V333</th>\n",
       "      <th>V334</th>\n",
       "      <th>V335</th>\n",
       "      <th>V336</th>\n",
       "      <th>V337</th>\n",
       "      <th>V338</th>\n",
       "      <th>V339</th>\n",
       "    </tr>\n",
       "  </thead>\n",
       "  <tbody>\n",
       "    <tr>\n",
       "      <th>0</th>\n",
       "      <td>2987000</td>\n",
       "      <td>0</td>\n",
       "      <td>86400</td>\n",
       "      <td>68.5</td>\n",
       "      <td>4</td>\n",
       "      <td>10095</td>\n",
       "      <td>500</td>\n",
       "      <td>42</td>\n",
       "      <td>1</td>\n",
       "      <td>38</td>\n",
       "      <td>...</td>\n",
       "      <td>0.0</td>\n",
       "      <td>0.0</td>\n",
       "      <td>0.0</td>\n",
       "      <td>0.0</td>\n",
       "      <td>0.0</td>\n",
       "      <td>0.0</td>\n",
       "      <td>0.0</td>\n",
       "      <td>0.0</td>\n",
       "      <td>0.0</td>\n",
       "      <td>0.0</td>\n",
       "    </tr>\n",
       "    <tr>\n",
       "      <th>1</th>\n",
       "      <td>2987001</td>\n",
       "      <td>0</td>\n",
       "      <td>86401</td>\n",
       "      <td>29.0</td>\n",
       "      <td>4</td>\n",
       "      <td>1372</td>\n",
       "      <td>303</td>\n",
       "      <td>42</td>\n",
       "      <td>2</td>\n",
       "      <td>2</td>\n",
       "      <td>...</td>\n",
       "      <td>0.0</td>\n",
       "      <td>0.0</td>\n",
       "      <td>0.0</td>\n",
       "      <td>0.0</td>\n",
       "      <td>0.0</td>\n",
       "      <td>0.0</td>\n",
       "      <td>0.0</td>\n",
       "      <td>0.0</td>\n",
       "      <td>0.0</td>\n",
       "      <td>0.0</td>\n",
       "    </tr>\n",
       "    <tr>\n",
       "      <th>2</th>\n",
       "      <td>2987002</td>\n",
       "      <td>0</td>\n",
       "      <td>86469</td>\n",
       "      <td>59.0</td>\n",
       "      <td>4</td>\n",
       "      <td>2833</td>\n",
       "      <td>389</td>\n",
       "      <td>42</td>\n",
       "      <td>4</td>\n",
       "      <td>58</td>\n",
       "      <td>...</td>\n",
       "      <td>0.0</td>\n",
       "      <td>0.0</td>\n",
       "      <td>0.0</td>\n",
       "      <td>0.0</td>\n",
       "      <td>0.0</td>\n",
       "      <td>0.0</td>\n",
       "      <td>0.0</td>\n",
       "      <td>0.0</td>\n",
       "      <td>0.0</td>\n",
       "      <td>0.0</td>\n",
       "    </tr>\n",
       "    <tr>\n",
       "      <th>3</th>\n",
       "      <td>2987003</td>\n",
       "      <td>0</td>\n",
       "      <td>86499</td>\n",
       "      <td>50.0</td>\n",
       "      <td>4</td>\n",
       "      <td>13341</td>\n",
       "      <td>466</td>\n",
       "      <td>42</td>\n",
       "      <td>2</td>\n",
       "      <td>14</td>\n",
       "      <td>...</td>\n",
       "      <td>0.0</td>\n",
       "      <td>0.0</td>\n",
       "      <td>0.0</td>\n",
       "      <td>0.0</td>\n",
       "      <td>0.0</td>\n",
       "      <td>0.0</td>\n",
       "      <td>0.0</td>\n",
       "      <td>0.0</td>\n",
       "      <td>0.0</td>\n",
       "      <td>0.0</td>\n",
       "    </tr>\n",
       "    <tr>\n",
       "      <th>4</th>\n",
       "      <td>2987004</td>\n",
       "      <td>0</td>\n",
       "      <td>86506</td>\n",
       "      <td>50.0</td>\n",
       "      <td>1</td>\n",
       "      <td>2712</td>\n",
       "      <td>413</td>\n",
       "      <td>42</td>\n",
       "      <td>2</td>\n",
       "      <td>2</td>\n",
       "      <td>...</td>\n",
       "      <td>0.0</td>\n",
       "      <td>0.0</td>\n",
       "      <td>0.0</td>\n",
       "      <td>0.0</td>\n",
       "      <td>0.0</td>\n",
       "      <td>0.0</td>\n",
       "      <td>0.0</td>\n",
       "      <td>0.0</td>\n",
       "      <td>0.0</td>\n",
       "      <td>0.0</td>\n",
       "    </tr>\n",
       "  </tbody>\n",
       "</table>\n",
       "<p>5 rows × 392 columns</p>\n",
       "</div>"
      ],
      "text/plain": [
       "   TransactionID  isFraud  TransactionDT  TransactionAmt  ProductCD  card1  \\\n",
       "0        2987000        0          86400            68.5          4  10095   \n",
       "1        2987001        0          86401            29.0          4   1372   \n",
       "2        2987002        0          86469            59.0          4   2833   \n",
       "3        2987003        0          86499            50.0          4  13341   \n",
       "4        2987004        0          86506            50.0          1   2712   \n",
       "\n",
       "   card2  card3  card4  card5  ...  V330  V331  V332  V333  V334  V335  V336  \\\n",
       "0    500     42      1     38  ...   0.0   0.0   0.0   0.0   0.0   0.0   0.0   \n",
       "1    303     42      2      2  ...   0.0   0.0   0.0   0.0   0.0   0.0   0.0   \n",
       "2    389     42      4     58  ...   0.0   0.0   0.0   0.0   0.0   0.0   0.0   \n",
       "3    466     42      2     14  ...   0.0   0.0   0.0   0.0   0.0   0.0   0.0   \n",
       "4    413     42      2      2  ...   0.0   0.0   0.0   0.0   0.0   0.0   0.0   \n",
       "\n",
       "   V337  V338  V339  \n",
       "0   0.0   0.0   0.0  \n",
       "1   0.0   0.0   0.0  \n",
       "2   0.0   0.0   0.0  \n",
       "3   0.0   0.0   0.0  \n",
       "4   0.0   0.0   0.0  \n",
       "\n",
       "[5 rows x 392 columns]"
      ]
     },
     "execution_count": 88,
     "metadata": {},
     "output_type": "execute_result"
    }
   ],
   "source": [
    "df.head()"
   ]
  },
  {
   "cell_type": "code",
   "execution_count": 89,
   "metadata": {},
   "outputs": [],
   "source": [
    "import datetime\n",
    "START_DATE = '2017-12-01'\n",
    "startdate = datetime.datetime.strptime(START_DATE, \"%Y-%m-%d\")\n",
    "df[\"Date\"] = df['TransactionDT'].apply(lambda x: (startdate + datetime.timedelta(seconds=x)))\n",
    "df['_Weekdays'] = df['Date'].dt.dayofweek\n",
    "df['_Hours'] = df['Date'].dt.hour\n",
    "df['_Days'] = df['Date'].dt.day"
   ]
  },
  {
   "cell_type": "code",
   "execution_count": 90,
   "metadata": {},
   "outputs": [],
   "source": [
    "df = df.drop(['Date'],axis=1)"
   ]
  },
  {
   "cell_type": "code",
   "execution_count": 92,
   "metadata": {},
   "outputs": [
    {
     "data": {
      "text/html": [
       "<div>\n",
       "<style scoped>\n",
       "    .dataframe tbody tr th:only-of-type {\n",
       "        vertical-align: middle;\n",
       "    }\n",
       "\n",
       "    .dataframe tbody tr th {\n",
       "        vertical-align: top;\n",
       "    }\n",
       "\n",
       "    .dataframe thead th {\n",
       "        text-align: right;\n",
       "    }\n",
       "</style>\n",
       "<table border=\"1\" class=\"dataframe\">\n",
       "  <thead>\n",
       "    <tr style=\"text-align: right;\">\n",
       "      <th></th>\n",
       "      <th>TransactionID</th>\n",
       "      <th>isFraud</th>\n",
       "      <th>TransactionDT</th>\n",
       "      <th>TransactionAmt</th>\n",
       "      <th>ProductCD</th>\n",
       "      <th>card1</th>\n",
       "      <th>card2</th>\n",
       "      <th>card3</th>\n",
       "      <th>card4</th>\n",
       "      <th>card5</th>\n",
       "      <th>...</th>\n",
       "      <th>V333</th>\n",
       "      <th>V334</th>\n",
       "      <th>V335</th>\n",
       "      <th>V336</th>\n",
       "      <th>V337</th>\n",
       "      <th>V338</th>\n",
       "      <th>V339</th>\n",
       "      <th>_Weekdays</th>\n",
       "      <th>_Hours</th>\n",
       "      <th>_Days</th>\n",
       "    </tr>\n",
       "  </thead>\n",
       "  <tbody>\n",
       "    <tr>\n",
       "      <th>0</th>\n",
       "      <td>2987000</td>\n",
       "      <td>0</td>\n",
       "      <td>86400</td>\n",
       "      <td>68.5</td>\n",
       "      <td>4</td>\n",
       "      <td>10095</td>\n",
       "      <td>500</td>\n",
       "      <td>42</td>\n",
       "      <td>1</td>\n",
       "      <td>38</td>\n",
       "      <td>...</td>\n",
       "      <td>0.0</td>\n",
       "      <td>0.0</td>\n",
       "      <td>0.0</td>\n",
       "      <td>0.0</td>\n",
       "      <td>0.0</td>\n",
       "      <td>0.0</td>\n",
       "      <td>0.0</td>\n",
       "      <td>5</td>\n",
       "      <td>0</td>\n",
       "      <td>2</td>\n",
       "    </tr>\n",
       "    <tr>\n",
       "      <th>1</th>\n",
       "      <td>2987001</td>\n",
       "      <td>0</td>\n",
       "      <td>86401</td>\n",
       "      <td>29.0</td>\n",
       "      <td>4</td>\n",
       "      <td>1372</td>\n",
       "      <td>303</td>\n",
       "      <td>42</td>\n",
       "      <td>2</td>\n",
       "      <td>2</td>\n",
       "      <td>...</td>\n",
       "      <td>0.0</td>\n",
       "      <td>0.0</td>\n",
       "      <td>0.0</td>\n",
       "      <td>0.0</td>\n",
       "      <td>0.0</td>\n",
       "      <td>0.0</td>\n",
       "      <td>0.0</td>\n",
       "      <td>5</td>\n",
       "      <td>0</td>\n",
       "      <td>2</td>\n",
       "    </tr>\n",
       "    <tr>\n",
       "      <th>2</th>\n",
       "      <td>2987002</td>\n",
       "      <td>0</td>\n",
       "      <td>86469</td>\n",
       "      <td>59.0</td>\n",
       "      <td>4</td>\n",
       "      <td>2833</td>\n",
       "      <td>389</td>\n",
       "      <td>42</td>\n",
       "      <td>4</td>\n",
       "      <td>58</td>\n",
       "      <td>...</td>\n",
       "      <td>0.0</td>\n",
       "      <td>0.0</td>\n",
       "      <td>0.0</td>\n",
       "      <td>0.0</td>\n",
       "      <td>0.0</td>\n",
       "      <td>0.0</td>\n",
       "      <td>0.0</td>\n",
       "      <td>5</td>\n",
       "      <td>0</td>\n",
       "      <td>2</td>\n",
       "    </tr>\n",
       "    <tr>\n",
       "      <th>3</th>\n",
       "      <td>2987003</td>\n",
       "      <td>0</td>\n",
       "      <td>86499</td>\n",
       "      <td>50.0</td>\n",
       "      <td>4</td>\n",
       "      <td>13341</td>\n",
       "      <td>466</td>\n",
       "      <td>42</td>\n",
       "      <td>2</td>\n",
       "      <td>14</td>\n",
       "      <td>...</td>\n",
       "      <td>0.0</td>\n",
       "      <td>0.0</td>\n",
       "      <td>0.0</td>\n",
       "      <td>0.0</td>\n",
       "      <td>0.0</td>\n",
       "      <td>0.0</td>\n",
       "      <td>0.0</td>\n",
       "      <td>5</td>\n",
       "      <td>0</td>\n",
       "      <td>2</td>\n",
       "    </tr>\n",
       "    <tr>\n",
       "      <th>4</th>\n",
       "      <td>2987004</td>\n",
       "      <td>0</td>\n",
       "      <td>86506</td>\n",
       "      <td>50.0</td>\n",
       "      <td>1</td>\n",
       "      <td>2712</td>\n",
       "      <td>413</td>\n",
       "      <td>42</td>\n",
       "      <td>2</td>\n",
       "      <td>2</td>\n",
       "      <td>...</td>\n",
       "      <td>0.0</td>\n",
       "      <td>0.0</td>\n",
       "      <td>0.0</td>\n",
       "      <td>0.0</td>\n",
       "      <td>0.0</td>\n",
       "      <td>0.0</td>\n",
       "      <td>0.0</td>\n",
       "      <td>5</td>\n",
       "      <td>0</td>\n",
       "      <td>2</td>\n",
       "    </tr>\n",
       "  </tbody>\n",
       "</table>\n",
       "<p>5 rows × 395 columns</p>\n",
       "</div>"
      ],
      "text/plain": [
       "   TransactionID  isFraud  TransactionDT  TransactionAmt  ProductCD  card1  \\\n",
       "0        2987000        0          86400            68.5          4  10095   \n",
       "1        2987001        0          86401            29.0          4   1372   \n",
       "2        2987002        0          86469            59.0          4   2833   \n",
       "3        2987003        0          86499            50.0          4  13341   \n",
       "4        2987004        0          86506            50.0          1   2712   \n",
       "\n",
       "   card2  card3  card4  card5  ...  V333  V334  V335  V336  V337  V338  V339  \\\n",
       "0    500     42      1     38  ...   0.0   0.0   0.0   0.0   0.0   0.0   0.0   \n",
       "1    303     42      2      2  ...   0.0   0.0   0.0   0.0   0.0   0.0   0.0   \n",
       "2    389     42      4     58  ...   0.0   0.0   0.0   0.0   0.0   0.0   0.0   \n",
       "3    466     42      2     14  ...   0.0   0.0   0.0   0.0   0.0   0.0   0.0   \n",
       "4    413     42      2      2  ...   0.0   0.0   0.0   0.0   0.0   0.0   0.0   \n",
       "\n",
       "   _Weekdays  _Hours  _Days  \n",
       "0          5       0      2  \n",
       "1          5       0      2  \n",
       "2          5       0      2  \n",
       "3          5       0      2  \n",
       "4          5       0      2  \n",
       "\n",
       "[5 rows x 395 columns]"
      ]
     },
     "execution_count": 92,
     "metadata": {},
     "output_type": "execute_result"
    }
   ],
   "source": [
    "df.head()"
   ]
  },
  {
   "cell_type": "markdown",
   "metadata": {},
   "source": [
    "# Train Identity"
   ]
  },
  {
   "cell_type": "code",
   "execution_count": 93,
   "metadata": {},
   "outputs": [
    {
     "data": {
      "text/plain": [
       "'C:\\\\Users\\\\YAE WEON SHIM\\\\CEBD 1260\\\\train_identity.csv'"
      ]
     },
     "execution_count": 93,
     "metadata": {},
     "output_type": "execute_result"
    }
   ],
   "source": [
    "file_name2 = os.path.join(DATA_PATH,r'train_identity.csv')\n",
    "file_name2"
   ]
  },
  {
   "cell_type": "code",
   "execution_count": 94,
   "metadata": {},
   "outputs": [],
   "source": [
    "df2= pd.read_csv(file_name2)"
   ]
  },
  {
   "cell_type": "code",
   "execution_count": 95,
   "metadata": {},
   "outputs": [
    {
     "data": {
      "text/plain": [
       "(144233, 41)"
      ]
     },
     "execution_count": 95,
     "metadata": {},
     "output_type": "execute_result"
    }
   ],
   "source": [
    "df2.shape"
   ]
  },
  {
   "cell_type": "code",
   "execution_count": 96,
   "metadata": {},
   "outputs": [
    {
     "data": {
      "text/html": [
       "<div>\n",
       "<style scoped>\n",
       "    .dataframe tbody tr th:only-of-type {\n",
       "        vertical-align: middle;\n",
       "    }\n",
       "\n",
       "    .dataframe tbody tr th {\n",
       "        vertical-align: top;\n",
       "    }\n",
       "\n",
       "    .dataframe thead th {\n",
       "        text-align: right;\n",
       "    }\n",
       "</style>\n",
       "<table border=\"1\" class=\"dataframe\">\n",
       "  <thead>\n",
       "    <tr style=\"text-align: right;\">\n",
       "      <th></th>\n",
       "      <th>TransactionID</th>\n",
       "      <th>id_01</th>\n",
       "      <th>id_02</th>\n",
       "      <th>id_03</th>\n",
       "      <th>id_04</th>\n",
       "      <th>id_05</th>\n",
       "      <th>id_06</th>\n",
       "      <th>id_07</th>\n",
       "      <th>id_08</th>\n",
       "      <th>id_09</th>\n",
       "      <th>...</th>\n",
       "      <th>id_31</th>\n",
       "      <th>id_32</th>\n",
       "      <th>id_33</th>\n",
       "      <th>id_34</th>\n",
       "      <th>id_35</th>\n",
       "      <th>id_36</th>\n",
       "      <th>id_37</th>\n",
       "      <th>id_38</th>\n",
       "      <th>DeviceType</th>\n",
       "      <th>DeviceInfo</th>\n",
       "    </tr>\n",
       "  </thead>\n",
       "  <tbody>\n",
       "    <tr>\n",
       "      <th>0</th>\n",
       "      <td>2987004</td>\n",
       "      <td>0.0</td>\n",
       "      <td>70787.0</td>\n",
       "      <td>NaN</td>\n",
       "      <td>NaN</td>\n",
       "      <td>NaN</td>\n",
       "      <td>NaN</td>\n",
       "      <td>NaN</td>\n",
       "      <td>NaN</td>\n",
       "      <td>NaN</td>\n",
       "      <td>...</td>\n",
       "      <td>samsung browser 6.2</td>\n",
       "      <td>32.0</td>\n",
       "      <td>2220x1080</td>\n",
       "      <td>match_status:2</td>\n",
       "      <td>T</td>\n",
       "      <td>F</td>\n",
       "      <td>T</td>\n",
       "      <td>T</td>\n",
       "      <td>mobile</td>\n",
       "      <td>SAMSUNG SM-G892A Build/NRD90M</td>\n",
       "    </tr>\n",
       "    <tr>\n",
       "      <th>1</th>\n",
       "      <td>2987008</td>\n",
       "      <td>-5.0</td>\n",
       "      <td>98945.0</td>\n",
       "      <td>NaN</td>\n",
       "      <td>NaN</td>\n",
       "      <td>0.0</td>\n",
       "      <td>-5.0</td>\n",
       "      <td>NaN</td>\n",
       "      <td>NaN</td>\n",
       "      <td>NaN</td>\n",
       "      <td>...</td>\n",
       "      <td>mobile safari 11.0</td>\n",
       "      <td>32.0</td>\n",
       "      <td>1334x750</td>\n",
       "      <td>match_status:1</td>\n",
       "      <td>T</td>\n",
       "      <td>F</td>\n",
       "      <td>F</td>\n",
       "      <td>T</td>\n",
       "      <td>mobile</td>\n",
       "      <td>iOS Device</td>\n",
       "    </tr>\n",
       "    <tr>\n",
       "      <th>2</th>\n",
       "      <td>2987010</td>\n",
       "      <td>-5.0</td>\n",
       "      <td>191631.0</td>\n",
       "      <td>0.0</td>\n",
       "      <td>0.0</td>\n",
       "      <td>0.0</td>\n",
       "      <td>0.0</td>\n",
       "      <td>NaN</td>\n",
       "      <td>NaN</td>\n",
       "      <td>0.0</td>\n",
       "      <td>...</td>\n",
       "      <td>chrome 62.0</td>\n",
       "      <td>NaN</td>\n",
       "      <td>NaN</td>\n",
       "      <td>NaN</td>\n",
       "      <td>F</td>\n",
       "      <td>F</td>\n",
       "      <td>T</td>\n",
       "      <td>T</td>\n",
       "      <td>desktop</td>\n",
       "      <td>Windows</td>\n",
       "    </tr>\n",
       "    <tr>\n",
       "      <th>3</th>\n",
       "      <td>2987011</td>\n",
       "      <td>-5.0</td>\n",
       "      <td>221832.0</td>\n",
       "      <td>NaN</td>\n",
       "      <td>NaN</td>\n",
       "      <td>0.0</td>\n",
       "      <td>-6.0</td>\n",
       "      <td>NaN</td>\n",
       "      <td>NaN</td>\n",
       "      <td>NaN</td>\n",
       "      <td>...</td>\n",
       "      <td>chrome 62.0</td>\n",
       "      <td>NaN</td>\n",
       "      <td>NaN</td>\n",
       "      <td>NaN</td>\n",
       "      <td>F</td>\n",
       "      <td>F</td>\n",
       "      <td>T</td>\n",
       "      <td>T</td>\n",
       "      <td>desktop</td>\n",
       "      <td>NaN</td>\n",
       "    </tr>\n",
       "    <tr>\n",
       "      <th>4</th>\n",
       "      <td>2987016</td>\n",
       "      <td>0.0</td>\n",
       "      <td>7460.0</td>\n",
       "      <td>0.0</td>\n",
       "      <td>0.0</td>\n",
       "      <td>1.0</td>\n",
       "      <td>0.0</td>\n",
       "      <td>NaN</td>\n",
       "      <td>NaN</td>\n",
       "      <td>0.0</td>\n",
       "      <td>...</td>\n",
       "      <td>chrome 62.0</td>\n",
       "      <td>24.0</td>\n",
       "      <td>1280x800</td>\n",
       "      <td>match_status:2</td>\n",
       "      <td>T</td>\n",
       "      <td>F</td>\n",
       "      <td>T</td>\n",
       "      <td>T</td>\n",
       "      <td>desktop</td>\n",
       "      <td>MacOS</td>\n",
       "    </tr>\n",
       "  </tbody>\n",
       "</table>\n",
       "<p>5 rows × 41 columns</p>\n",
       "</div>"
      ],
      "text/plain": [
       "   TransactionID  id_01     id_02  id_03  id_04  id_05  id_06  id_07  id_08  \\\n",
       "0        2987004    0.0   70787.0    NaN    NaN    NaN    NaN    NaN    NaN   \n",
       "1        2987008   -5.0   98945.0    NaN    NaN    0.0   -5.0    NaN    NaN   \n",
       "2        2987010   -5.0  191631.0    0.0    0.0    0.0    0.0    NaN    NaN   \n",
       "3        2987011   -5.0  221832.0    NaN    NaN    0.0   -6.0    NaN    NaN   \n",
       "4        2987016    0.0    7460.0    0.0    0.0    1.0    0.0    NaN    NaN   \n",
       "\n",
       "   id_09  ...                id_31  id_32      id_33           id_34  id_35  \\\n",
       "0    NaN  ...  samsung browser 6.2   32.0  2220x1080  match_status:2      T   \n",
       "1    NaN  ...   mobile safari 11.0   32.0   1334x750  match_status:1      T   \n",
       "2    0.0  ...          chrome 62.0    NaN        NaN             NaN      F   \n",
       "3    NaN  ...          chrome 62.0    NaN        NaN             NaN      F   \n",
       "4    0.0  ...          chrome 62.0   24.0   1280x800  match_status:2      T   \n",
       "\n",
       "  id_36 id_37  id_38  DeviceType                     DeviceInfo  \n",
       "0     F     T      T      mobile  SAMSUNG SM-G892A Build/NRD90M  \n",
       "1     F     F      T      mobile                     iOS Device  \n",
       "2     F     T      T     desktop                        Windows  \n",
       "3     F     T      T     desktop                            NaN  \n",
       "4     F     T      T     desktop                          MacOS  \n",
       "\n",
       "[5 rows x 41 columns]"
      ]
     },
     "execution_count": 96,
     "metadata": {},
     "output_type": "execute_result"
    }
   ],
   "source": [
    "df2.head()"
   ]
  },
  {
   "cell_type": "code",
   "execution_count": 97,
   "metadata": {},
   "outputs": [
    {
     "data": {
      "text/html": [
       "<div>\n",
       "<style scoped>\n",
       "    .dataframe tbody tr th:only-of-type {\n",
       "        vertical-align: middle;\n",
       "    }\n",
       "\n",
       "    .dataframe tbody tr th {\n",
       "        vertical-align: top;\n",
       "    }\n",
       "\n",
       "    .dataframe thead th {\n",
       "        text-align: right;\n",
       "    }\n",
       "</style>\n",
       "<table border=\"1\" class=\"dataframe\">\n",
       "  <thead>\n",
       "    <tr style=\"text-align: right;\">\n",
       "      <th></th>\n",
       "      <th>feature_name</th>\n",
       "      <th>nan_cnt</th>\n",
       "      <th>nan_percentage</th>\n",
       "    </tr>\n",
       "  </thead>\n",
       "  <tbody>\n",
       "    <tr>\n",
       "      <th>24</th>\n",
       "      <td>id_24</td>\n",
       "      <td>139486</td>\n",
       "      <td>0.236201</td>\n",
       "    </tr>\n",
       "    <tr>\n",
       "      <th>25</th>\n",
       "      <td>id_25</td>\n",
       "      <td>139101</td>\n",
       "      <td>0.235549</td>\n",
       "    </tr>\n",
       "    <tr>\n",
       "      <th>7</th>\n",
       "      <td>id_07</td>\n",
       "      <td>139078</td>\n",
       "      <td>0.235510</td>\n",
       "    </tr>\n",
       "    <tr>\n",
       "      <th>8</th>\n",
       "      <td>id_08</td>\n",
       "      <td>139078</td>\n",
       "      <td>0.235510</td>\n",
       "    </tr>\n",
       "    <tr>\n",
       "      <th>21</th>\n",
       "      <td>id_21</td>\n",
       "      <td>139074</td>\n",
       "      <td>0.235503</td>\n",
       "    </tr>\n",
       "    <tr>\n",
       "      <th>26</th>\n",
       "      <td>id_26</td>\n",
       "      <td>139070</td>\n",
       "      <td>0.235496</td>\n",
       "    </tr>\n",
       "    <tr>\n",
       "      <th>23</th>\n",
       "      <td>id_23</td>\n",
       "      <td>139064</td>\n",
       "      <td>0.235486</td>\n",
       "    </tr>\n",
       "    <tr>\n",
       "      <th>27</th>\n",
       "      <td>id_27</td>\n",
       "      <td>139064</td>\n",
       "      <td>0.235486</td>\n",
       "    </tr>\n",
       "    <tr>\n",
       "      <th>22</th>\n",
       "      <td>id_22</td>\n",
       "      <td>139064</td>\n",
       "      <td>0.235486</td>\n",
       "    </tr>\n",
       "    <tr>\n",
       "      <th>18</th>\n",
       "      <td>id_18</td>\n",
       "      <td>99120</td>\n",
       "      <td>0.167846</td>\n",
       "    </tr>\n",
       "    <tr>\n",
       "      <th>3</th>\n",
       "      <td>id_03</td>\n",
       "      <td>77909</td>\n",
       "      <td>0.131928</td>\n",
       "    </tr>\n",
       "    <tr>\n",
       "      <th>4</th>\n",
       "      <td>id_04</td>\n",
       "      <td>77909</td>\n",
       "      <td>0.131928</td>\n",
       "    </tr>\n",
       "    <tr>\n",
       "      <th>33</th>\n",
       "      <td>id_33</td>\n",
       "      <td>70944</td>\n",
       "      <td>0.120134</td>\n",
       "    </tr>\n",
       "    <tr>\n",
       "      <th>9</th>\n",
       "      <td>id_09</td>\n",
       "      <td>69307</td>\n",
       "      <td>0.117362</td>\n",
       "    </tr>\n",
       "    <tr>\n",
       "      <th>10</th>\n",
       "      <td>id_10</td>\n",
       "      <td>69307</td>\n",
       "      <td>0.117362</td>\n",
       "    </tr>\n",
       "    <tr>\n",
       "      <th>30</th>\n",
       "      <td>id_30</td>\n",
       "      <td>66668</td>\n",
       "      <td>0.112893</td>\n",
       "    </tr>\n",
       "    <tr>\n",
       "      <th>32</th>\n",
       "      <td>id_32</td>\n",
       "      <td>66647</td>\n",
       "      <td>0.112858</td>\n",
       "    </tr>\n",
       "    <tr>\n",
       "      <th>34</th>\n",
       "      <td>id_34</td>\n",
       "      <td>66428</td>\n",
       "      <td>0.112487</td>\n",
       "    </tr>\n",
       "    <tr>\n",
       "      <th>14</th>\n",
       "      <td>id_14</td>\n",
       "      <td>64189</td>\n",
       "      <td>0.108695</td>\n",
       "    </tr>\n",
       "    <tr>\n",
       "      <th>40</th>\n",
       "      <td>DeviceInfo</td>\n",
       "      <td>25567</td>\n",
       "      <td>0.043294</td>\n",
       "    </tr>\n",
       "    <tr>\n",
       "      <th>13</th>\n",
       "      <td>id_13</td>\n",
       "      <td>16913</td>\n",
       "      <td>0.028640</td>\n",
       "    </tr>\n",
       "    <tr>\n",
       "      <th>16</th>\n",
       "      <td>id_16</td>\n",
       "      <td>14893</td>\n",
       "      <td>0.025219</td>\n",
       "    </tr>\n",
       "    <tr>\n",
       "      <th>6</th>\n",
       "      <td>id_06</td>\n",
       "      <td>7368</td>\n",
       "      <td>0.012477</td>\n",
       "    </tr>\n",
       "    <tr>\n",
       "      <th>5</th>\n",
       "      <td>id_05</td>\n",
       "      <td>7368</td>\n",
       "      <td>0.012477</td>\n",
       "    </tr>\n",
       "    <tr>\n",
       "      <th>20</th>\n",
       "      <td>id_20</td>\n",
       "      <td>4972</td>\n",
       "      <td>0.008419</td>\n",
       "    </tr>\n",
       "    <tr>\n",
       "      <th>19</th>\n",
       "      <td>id_19</td>\n",
       "      <td>4915</td>\n",
       "      <td>0.008323</td>\n",
       "    </tr>\n",
       "    <tr>\n",
       "      <th>17</th>\n",
       "      <td>id_17</td>\n",
       "      <td>4864</td>\n",
       "      <td>0.008237</td>\n",
       "    </tr>\n",
       "    <tr>\n",
       "      <th>31</th>\n",
       "      <td>id_31</td>\n",
       "      <td>3951</td>\n",
       "      <td>0.006690</td>\n",
       "    </tr>\n",
       "    <tr>\n",
       "      <th>39</th>\n",
       "      <td>DeviceType</td>\n",
       "      <td>3423</td>\n",
       "      <td>0.005796</td>\n",
       "    </tr>\n",
       "    <tr>\n",
       "      <th>2</th>\n",
       "      <td>id_02</td>\n",
       "      <td>3361</td>\n",
       "      <td>0.005691</td>\n",
       "    </tr>\n",
       "    <tr>\n",
       "      <th>28</th>\n",
       "      <td>id_28</td>\n",
       "      <td>3255</td>\n",
       "      <td>0.005512</td>\n",
       "    </tr>\n",
       "    <tr>\n",
       "      <th>29</th>\n",
       "      <td>id_29</td>\n",
       "      <td>3255</td>\n",
       "      <td>0.005512</td>\n",
       "    </tr>\n",
       "    <tr>\n",
       "      <th>11</th>\n",
       "      <td>id_11</td>\n",
       "      <td>3255</td>\n",
       "      <td>0.005512</td>\n",
       "    </tr>\n",
       "    <tr>\n",
       "      <th>15</th>\n",
       "      <td>id_15</td>\n",
       "      <td>3248</td>\n",
       "      <td>0.005500</td>\n",
       "    </tr>\n",
       "    <tr>\n",
       "      <th>35</th>\n",
       "      <td>id_35</td>\n",
       "      <td>3248</td>\n",
       "      <td>0.005500</td>\n",
       "    </tr>\n",
       "    <tr>\n",
       "      <th>36</th>\n",
       "      <td>id_36</td>\n",
       "      <td>3248</td>\n",
       "      <td>0.005500</td>\n",
       "    </tr>\n",
       "    <tr>\n",
       "      <th>37</th>\n",
       "      <td>id_37</td>\n",
       "      <td>3248</td>\n",
       "      <td>0.005500</td>\n",
       "    </tr>\n",
       "    <tr>\n",
       "      <th>38</th>\n",
       "      <td>id_38</td>\n",
       "      <td>3248</td>\n",
       "      <td>0.005500</td>\n",
       "    </tr>\n",
       "    <tr>\n",
       "      <th>1</th>\n",
       "      <td>id_01</td>\n",
       "      <td>0</td>\n",
       "      <td>0.000000</td>\n",
       "    </tr>\n",
       "    <tr>\n",
       "      <th>12</th>\n",
       "      <td>id_12</td>\n",
       "      <td>0</td>\n",
       "      <td>0.000000</td>\n",
       "    </tr>\n",
       "    <tr>\n",
       "      <th>0</th>\n",
       "      <td>TransactionID</td>\n",
       "      <td>0</td>\n",
       "      <td>0.000000</td>\n",
       "    </tr>\n",
       "  </tbody>\n",
       "</table>\n",
       "</div>"
      ],
      "text/plain": [
       "     feature_name  nan_cnt  nan_percentage\n",
       "24          id_24   139486        0.236201\n",
       "25          id_25   139101        0.235549\n",
       "7           id_07   139078        0.235510\n",
       "8           id_08   139078        0.235510\n",
       "21          id_21   139074        0.235503\n",
       "26          id_26   139070        0.235496\n",
       "23          id_23   139064        0.235486\n",
       "27          id_27   139064        0.235486\n",
       "22          id_22   139064        0.235486\n",
       "18          id_18    99120        0.167846\n",
       "3           id_03    77909        0.131928\n",
       "4           id_04    77909        0.131928\n",
       "33          id_33    70944        0.120134\n",
       "9           id_09    69307        0.117362\n",
       "10          id_10    69307        0.117362\n",
       "30          id_30    66668        0.112893\n",
       "32          id_32    66647        0.112858\n",
       "34          id_34    66428        0.112487\n",
       "14          id_14    64189        0.108695\n",
       "40     DeviceInfo    25567        0.043294\n",
       "13          id_13    16913        0.028640\n",
       "16          id_16    14893        0.025219\n",
       "6           id_06     7368        0.012477\n",
       "5           id_05     7368        0.012477\n",
       "20          id_20     4972        0.008419\n",
       "19          id_19     4915        0.008323\n",
       "17          id_17     4864        0.008237\n",
       "31          id_31     3951        0.006690\n",
       "39     DeviceType     3423        0.005796\n",
       "2           id_02     3361        0.005691\n",
       "28          id_28     3255        0.005512\n",
       "29          id_29     3255        0.005512\n",
       "11          id_11     3255        0.005512\n",
       "15          id_15     3248        0.005500\n",
       "35          id_35     3248        0.005500\n",
       "36          id_36     3248        0.005500\n",
       "37          id_37     3248        0.005500\n",
       "38          id_38     3248        0.005500\n",
       "1           id_01        0        0.000000\n",
       "12          id_12        0        0.000000\n",
       "0   TransactionID        0        0.000000"
      ]
     },
     "execution_count": 97,
     "metadata": {},
     "output_type": "execute_result"
    }
   ],
   "source": [
    "nan_info = pd.DataFrame(df2.isnull().sum()).reset_index()\n",
    "nan_info.columns = ['feature_name','nan_cnt']\n",
    "nan_info.sort_values(by = 'nan_cnt',ascending=False,inplace=True)\n",
    "nan_info['nan_percentage'] = nan_info['nan_cnt']/len(df)\n",
    "nan_info\n",
    "\n",
    "# The highest nan_percentage is 0.23. We don't need to drop column here."
   ]
  },
  {
   "cell_type": "code",
   "execution_count": 98,
   "metadata": {},
   "outputs": [
    {
     "data": {
      "text/plain": [
       "TransactionID      int64\n",
       "id_01            float64\n",
       "id_02            float64\n",
       "id_03            float64\n",
       "id_04            float64\n",
       "id_05            float64\n",
       "id_06            float64\n",
       "id_07            float64\n",
       "id_08            float64\n",
       "id_09            float64\n",
       "id_10            float64\n",
       "id_11            float64\n",
       "id_12             object\n",
       "id_13            float64\n",
       "id_14            float64\n",
       "id_15             object\n",
       "id_16             object\n",
       "id_17            float64\n",
       "id_18            float64\n",
       "id_19            float64\n",
       "id_20            float64\n",
       "id_21            float64\n",
       "id_22            float64\n",
       "id_23             object\n",
       "id_24            float64\n",
       "id_25            float64\n",
       "id_26            float64\n",
       "id_27             object\n",
       "id_28             object\n",
       "id_29             object\n",
       "id_30             object\n",
       "id_31             object\n",
       "id_32            float64\n",
       "id_33             object\n",
       "id_34             object\n",
       "id_35             object\n",
       "id_36             object\n",
       "id_37             object\n",
       "id_38             object\n",
       "DeviceType        object\n",
       "DeviceInfo        object\n",
       "dtype: object"
      ]
     },
     "execution_count": 98,
     "metadata": {},
     "output_type": "execute_result"
    }
   ],
   "source": [
    "df2.dtypes"
   ]
  },
  {
   "cell_type": "code",
   "execution_count": 99,
   "metadata": {},
   "outputs": [],
   "source": [
    "def reduce_mem_usage(df, verbose=True):\n",
    "    numerics = ['int16', 'int32', 'int64', 'float16', 'float32', 'float64']\n",
    "    start_mem = df.memory_usage().sum() / 1024**2    \n",
    "    for col in df2.columns:\n",
    "        col_type = df2[col].dtypes\n",
    "        if col_type in numerics:\n",
    "            c_min = df2[col].min()\n",
    "            c_max = df2[col].max()\n",
    "            if str(col_type)[:3] == 'int':\n",
    "                if c_min > np.iinfo(np.int8).min and c_max < np.iinfo(np.int8).max:\n",
    "                    df2[col] = df2[col].astype(np.int8)\n",
    "                elif c_min > np.iinfo(np.int16).min and c_max < np.iinfo(np.int16).max:\n",
    "                    df2[col] = df2[col].astype(np.int16)\n",
    "                elif c_min > np.iinfo(np.int32).min and c_max < np.iinfo(np.int32).max:\n",
    "                    df2[col] = df2[col].astype(np.int32)\n",
    "                elif c_min > np.iinfo(np.int64).min and c_max < np.iinfo(np.int64).max:\n",
    "                    df2[col] = df2[col].astype(np.int64)  \n",
    "            else:\n",
    "                if c_min > np.finfo(np.float16).min and c_max < np.finfo(np.float16).max:\n",
    "                    df2[col] = df2[col].astype(np.float16)\n",
    "                elif c_min > np.finfo(np.float32).min and c_max < np.finfo(np.float32).max:\n",
    "                    df2[col] = df2[col].astype(np.float32)\n",
    "                else:\n",
    "                    df2[col] = df2[col].astype(np.float64)    \n",
    "    end_mem = df2.memory_usage().sum() / 1024**2\n",
    "    if verbose: print('Mem. usage decreased to {:5.2f} Mb ({:.1f}% reduction)'.format(end_mem, 100 * (start_mem - end_mem) / start_mem))\n",
    "    return df2"
   ]
  },
  {
   "cell_type": "code",
   "execution_count": 100,
   "metadata": {},
   "outputs": [
    {
     "data": {
      "text/plain": [
       "array(['NotFound', 'Found'], dtype=object)"
      ]
     },
     "execution_count": 100,
     "metadata": {},
     "output_type": "execute_result"
    }
   ],
   "source": [
    "df2['id_12'].unique()"
   ]
  },
  {
   "cell_type": "code",
   "execution_count": 101,
   "metadata": {},
   "outputs": [
    {
     "data": {
      "text/plain": [
       "array([nan, 49., 52., 14., 20., 55., 43., 18., 41., 63., 61., 35., 25.,\n",
       "       39., 57., 15., 11., 44., 62., 59., 28., 24., 51., 60., 54., 36.,\n",
       "       38., 31., 56., 58., 22., 50., 32., 45., 48., 23., 30., 17., 13.,\n",
       "       37., 21., 46., 10., 26., 53., 34., 47., 33., 40., 29., 19., 64.,\n",
       "       12., 27., 42.])"
      ]
     },
     "execution_count": 101,
     "metadata": {},
     "output_type": "execute_result"
    }
   ],
   "source": [
    "df2['id_13'].unique()"
   ]
  },
  {
   "cell_type": "code",
   "execution_count": 102,
   "metadata": {},
   "outputs": [
    {
     "data": {
      "text/plain": [
       "array(['unknown', 49.0, 52.0, 14.0, 20.0, 55.0, 43.0, 18.0, 41.0, 63.0,\n",
       "       61.0, 35.0, 25.0, 39.0, 57.0, 15.0, 11.0, 44.0, 62.0, 59.0, 28.0,\n",
       "       24.0, 51.0, 60.0, 54.0, 36.0, 38.0, 31.0, 56.0, 58.0, 22.0, 50.0,\n",
       "       32.0, 45.0, 48.0, 23.0, 30.0, 17.0, 13.0, 37.0, 21.0, 46.0, 10.0,\n",
       "       26.0, 53.0, 34.0, 47.0, 33.0, 40.0, 29.0, 19.0, 64.0, 12.0, 27.0,\n",
       "       42.0], dtype=object)"
      ]
     },
     "execution_count": 102,
     "metadata": {},
     "output_type": "execute_result"
    }
   ],
   "source": [
    "df2['id_13'].fillna('unknown',inplace=True)\n",
    "df2['id_13'].unique()"
   ]
  },
  {
   "cell_type": "code",
   "execution_count": 103,
   "metadata": {},
   "outputs": [
    {
     "data": {
      "text/plain": [
       "array([-480., -300.,   nan, -360., -420., -540., -600.,  480., -240.,\n",
       "        300., -180.,   60.,    0.,  180.,  540.,  600.,  420.,  270.,\n",
       "        120.,  240.,  330., -120.,  360.,  720., -660., -210.])"
      ]
     },
     "execution_count": 103,
     "metadata": {},
     "output_type": "execute_result"
    }
   ],
   "source": [
    "df2['id_14'].unique()\n"
   ]
  },
  {
   "cell_type": "code",
   "execution_count": 104,
   "metadata": {},
   "outputs": [
    {
     "data": {
      "text/plain": [
       "array(['New', 'Found', nan, 'Unknown'], dtype=object)"
      ]
     },
     "execution_count": 104,
     "metadata": {},
     "output_type": "execute_result"
    }
   ],
   "source": [
    "df2['id_15'].unique()"
   ]
  },
  {
   "cell_type": "code",
   "execution_count": 105,
   "metadata": {},
   "outputs": [],
   "source": [
    "df2['id_15'].fillna('unknown',inplace=True)"
   ]
  },
  {
   "cell_type": "code",
   "execution_count": 106,
   "metadata": {},
   "outputs": [
    {
     "data": {
      "text/plain": [
       "array(['New', 'Found', 'unknown', 'Unknown'], dtype=object)"
      ]
     },
     "execution_count": 106,
     "metadata": {},
     "output_type": "execute_result"
    }
   ],
   "source": [
    "df2['id_15'].unique()"
   ]
  },
  {
   "cell_type": "code",
   "execution_count": 107,
   "metadata": {},
   "outputs": [],
   "source": [
    "# there are 2 unknown for id_15. Compile. \n",
    "df2['id_15'] = df2['id_15'].replace(['Unknown'],'unknown')"
   ]
  },
  {
   "cell_type": "code",
   "execution_count": 108,
   "metadata": {},
   "outputs": [
    {
     "data": {
      "text/plain": [
       "array(['New', 'Found', 'unknown'], dtype=object)"
      ]
     },
     "execution_count": 108,
     "metadata": {},
     "output_type": "execute_result"
    }
   ],
   "source": [
    "df2['id_15'].unique()"
   ]
  },
  {
   "cell_type": "code",
   "execution_count": 109,
   "metadata": {},
   "outputs": [
    {
     "data": {
      "text/plain": [
       "array(['NotFound', 'Found', nan], dtype=object)"
      ]
     },
     "execution_count": 109,
     "metadata": {},
     "output_type": "execute_result"
    }
   ],
   "source": [
    "df2['id_16'].unique()"
   ]
  },
  {
   "cell_type": "code",
   "execution_count": 110,
   "metadata": {},
   "outputs": [
    {
     "data": {
      "text/plain": [
       "array(['NotFound', 'Found', 'unknown'], dtype=object)"
      ]
     },
     "execution_count": 110,
     "metadata": {},
     "output_type": "execute_result"
    }
   ],
   "source": [
    "df2['id_16'].fillna('unknown',inplace=True)\n",
    "df2['id_16'].unique()"
   ]
  },
  {
   "cell_type": "code",
   "execution_count": 111,
   "metadata": {},
   "outputs": [
    {
     "data": {
      "text/plain": [
       "array([166., 121., 225.,  nan, 102., 148., 199., 146., 144., 133., 100.,\n",
       "       130., 218., 150., 195., 153., 159., 142., 210., 200., 118., 122.,\n",
       "       149., 189., 192., 136., 124., 191., 212., 183., 111., 143., 152.,\n",
       "       114., 126., 168., 184., 208., 175., 112., 217., 106., 123., 203.,\n",
       "       229., 147., 202., 145., 182., 119., 177., 228., 173., 216., 207.,\n",
       "       137., 141., 107., 205., 162., 213., 157., 219., 138., 116., 135.,\n",
       "       158., 180., 163., 131., 156., 128., 201., 127., 220., 154., 134.,\n",
       "       214., 105., 186., 198., 151., 226., 129., 185., 194., 171., 197.,\n",
       "       117., 164., 178., 160., 120., 161., 155., 190., 140., 211., 101.,\n",
       "       110., 139., 188., 204., 125., 109.])"
      ]
     },
     "execution_count": 111,
     "metadata": {},
     "output_type": "execute_result"
    }
   ],
   "source": [
    "df2['id_17'].unique()"
   ]
  },
  {
   "cell_type": "code",
   "execution_count": 112,
   "metadata": {},
   "outputs": [
    {
     "data": {
      "text/plain": [
       "array([166.0, 121.0, 225.0, 'unknown', 102.0, 148.0, 199.0, 146.0, 144.0,\n",
       "       133.0, 100.0, 130.0, 218.0, 150.0, 195.0, 153.0, 159.0, 142.0,\n",
       "       210.0, 200.0, 118.0, 122.0, 149.0, 189.0, 192.0, 136.0, 124.0,\n",
       "       191.0, 212.0, 183.0, 111.0, 143.0, 152.0, 114.0, 126.0, 168.0,\n",
       "       184.0, 208.0, 175.0, 112.0, 217.0, 106.0, 123.0, 203.0, 229.0,\n",
       "       147.0, 202.0, 145.0, 182.0, 119.0, 177.0, 228.0, 173.0, 216.0,\n",
       "       207.0, 137.0, 141.0, 107.0, 205.0, 162.0, 213.0, 157.0, 219.0,\n",
       "       138.0, 116.0, 135.0, 158.0, 180.0, 163.0, 131.0, 156.0, 128.0,\n",
       "       201.0, 127.0, 220.0, 154.0, 134.0, 214.0, 105.0, 186.0, 198.0,\n",
       "       151.0, 226.0, 129.0, 185.0, 194.0, 171.0, 197.0, 117.0, 164.0,\n",
       "       178.0, 160.0, 120.0, 161.0, 155.0, 190.0, 140.0, 211.0, 101.0,\n",
       "       110.0, 139.0, 188.0, 204.0, 125.0, 109.0], dtype=object)"
      ]
     },
     "execution_count": 112,
     "metadata": {},
     "output_type": "execute_result"
    }
   ],
   "source": [
    "df2['id_17'].fillna('unknown',inplace=True)\n",
    "df2['id_17'].unique()"
   ]
  },
  {
   "cell_type": "code",
   "execution_count": 113,
   "metadata": {},
   "outputs": [
    {
     "data": {
      "text/plain": [
       "array(['unknown', 15.0, 18.0, 13.0, 12.0, 20.0, 21.0, 14.0, 26.0, 24.0,\n",
       "       17.0, 11.0, 29.0, 16.0, 28.0, 25.0, 23.0, 27.0, 10.0], dtype=object)"
      ]
     },
     "execution_count": 113,
     "metadata": {},
     "output_type": "execute_result"
    }
   ],
   "source": [
    "df2['id_18'].fillna('unknown',inplace=True)\n",
    "df2['id_18'].unique()"
   ]
  },
  {
   "cell_type": "code",
   "execution_count": 114,
   "metadata": {},
   "outputs": [],
   "source": [
    "df2['id_19'].unique()\n",
    "df2['id_19'].fillna('unknown',inplace=True)"
   ]
  },
  {
   "cell_type": "code",
   "execution_count": 115,
   "metadata": {},
   "outputs": [
    {
     "data": {
      "text/plain": [
       "array([144., 500., 142., 507., 575., 600.,  nan, 533., 333., 549., 566.,\n",
       "       305., 401., 391., 535., 325., 222., 277., 368., 597., 214., 489.,\n",
       "       256., 223., 215., 484., 122., 350., 563., 107., 417., 153., 177.,\n",
       "       146., 638., 561., 394., 278., 565., 181., 272., 611., 568., 266.,\n",
       "       225., 216., 161., 139., 595., 360., 469., 541., 472., 439., 100.,\n",
       "       315., 612., 521., 397., 127., 254., 186., 280., 111., 340., 253.,\n",
       "       337., 299., 501., 358., 404., 514., 430., 178., 192., 321., 324.,\n",
       "       623., 268., 411., 145., 314., 581., 609., 456., 483., 371., 204.,\n",
       "       497., 154., 588., 103., 610., 633., 460., 261., 269., 312., 311.,\n",
       "       242., 527., 384., 193., 347., 335., 270., 310., 359., 556., 191.,\n",
       "       393., 619., 590., 474., 152., 313., 464., 104., 540., 383., 598.,\n",
       "       445., 121., 570., 101., 160., 532., 593., 473., 400., 342., 424.,\n",
       "       320., 426., 119., 499., 552., 620., 511., 387., 444., 185., 415.,\n",
       "       262., 300., 498., 381., 628., 462., 286., 567., 301., 427., 197.,\n",
       "       466., 245., 433., 648., 634., 435., 241., 176., 429., 369., 602.,\n",
       "       211., 336., 641., 213., 635., 271., 414., 167., 459., 329., 626.,\n",
       "       131., 201., 476., 410., 112., 632., 117., 583., 487., 203., 288.,\n",
       "       446., 105., 318., 354., 376., 420., 247., 108., 316., 543., 408.,\n",
       "       136., 370., 124., 367., 656., 328., 110., 357., 190., 308., 481.,\n",
       "       351., 660., 102., 244., 289., 451., 449., 576., 265., 468., 113.,\n",
       "       432., 455., 194., 491., 447., 228., 298., 615., 339., 327., 440.,\n",
       "       649., 630., 431., 650., 478., 392., 120., 279., 374., 285., 463.,\n",
       "       116., 346., 133., 188., 155., 170., 166., 442., 173., 396., 587.,\n",
       "       246., 643., 629., 547., 259., 323., 531., 458., 559., 407., 165.,\n",
       "       642., 134., 283., 385., 373., 480., 209., 564., 138., 379., 537.,\n",
       "       243., 539., 184., 349., 356., 252., 490., 290., 352., 296., 332.,\n",
       "       118., 306., 307., 536., 659., 538., 423., 569., 545., 377., 645.,\n",
       "       143., 330., 553., 452., 372., 304., 196., 345., 274., 604., 322.,\n",
       "       208., 341., 471., 180., 202., 380., 443., 258., 661., 232., 508.,\n",
       "       239., 596., 123., 187., 428., 640., 109., 282., 249., 477., 221.,\n",
       "       644., 303., 168., 182., 562., 236., 509., 486., 639., 248., 607.,\n",
       "       273., 505., 554., 530., 343., 572., 163., 292., 506., 240., 235.,\n",
       "       150., 496., 348., 636., 494., 606., 366., 251., 517., 655., 525.,\n",
       "       526., 390., 560., 448., 355., 657., 485., 132., 550., 613., 199.,\n",
       "       219., 614., 388., 652., 419., 551., 275., 250., 364., 555., 436.,\n",
       "       294., 378., 255., 578., 502., 212., 437., 220., 519., 317.])"
      ]
     },
     "execution_count": 115,
     "metadata": {},
     "output_type": "execute_result"
    }
   ],
   "source": [
    "df2['id_20'].unique()"
   ]
  },
  {
   "cell_type": "code",
   "execution_count": 116,
   "metadata": {},
   "outputs": [],
   "source": [
    "df2['id_20'].fillna('unknown',inplace=True)"
   ]
  },
  {
   "cell_type": "code",
   "execution_count": 117,
   "metadata": {},
   "outputs": [
    {
     "data": {
      "text/plain": [
       "array([ nan, 252., 657., 724., 228., 369., 796., 755., 848., 734., 849.,\n",
       "       596., 672., 255., 457., 164., 409., 130., 680., 510., 621., 817.,\n",
       "       402., 324., 500., 309., 114., 131., 501., 184., 420., 601., 480.,\n",
       "       306., 820., 770., 237., 634., 761., 816., 668., 538., 353., 453.,\n",
       "       166., 123., 488., 853., 537., 437., 802., 525., 332., 197., 739.,\n",
       "       394., 801., 329., 277., 449., 183., 498., 609., 178., 487., 809.,\n",
       "       542., 576., 695., 763., 235., 481., 727., 587., 807., 575., 391.,\n",
       "       208., 691., 253., 327., 558., 530., 194., 317., 591., 519., 728.,\n",
       "       204., 566., 245., 250., 581., 441., 709., 456., 595., 266., 447.,\n",
       "       600., 583., 308., 262., 257., 390., 549., 361., 401., 254., 682.,\n",
       "       748., 367., 109., 236., 219., 256., 673., 286., 814., 106., 459.,\n",
       "       819., 427., 312., 222., 410., 146., 671., 440., 429., 282., 795.,\n",
       "       767., 355., 167., 415., 845., 521., 572., 360., 554., 528., 835.,\n",
       "       446., 185., 299., 577., 145., 189., 231., 249., 606., 101., 586.,\n",
       "       659., 639., 514., 263., 161., 418., 293., 630., 758., 608., 792.,\n",
       "       661., 793., 288., 556., 637., 738., 604., 541., 493., 232., 142.,\n",
       "       435., 499., 683., 479., 766., 582., 433., 251., 648., 432., 428.,\n",
       "       751., 725., 762., 759., 805., 684., 318., 398., 622., 349., 838.,\n",
       "       195., 448., 452., 193., 818., 445., 303., 515., 561., 460., 590.,\n",
       "       154., 269., 100., 290., 281., 644., 800., 170., 215., 133., 713.,\n",
       "       333., 570., 177., 550., 149., 641., 134., 512., 655., 813., 694.,\n",
       "       472., 403., 241., 168., 666., 454., 240., 660., 214., 279., 229.,\n",
       "       268., 113., 753., 484., 316., 589., 503., 243., 505., 260., 377.,\n",
       "       212., 358., 322., 831., 699., 169., 787., 190., 610., 646., 473.,\n",
       "       692., 715., 544., 851., 406., 825., 827., 599., 559., 225., 147.,\n",
       "       797., 697., 523., 345., 744., 462., 716., 396., 397., 246., 192.,\n",
       "       703., 372., 248., 624., 632., 366., 593., 298., 330., 750., 841.,\n",
       "       612., 105., 729., 439., 786., 264., 720., 829., 160., 206., 524.,\n",
       "       822., 551., 635., 640., 305., 276., 806., 773., 213., 571., 812.,\n",
       "       224., 132., 665., 765., 336., 794., 283., 491., 854., 535., 124.,\n",
       "       339., 287., 803., 511., 342., 436., 234., 471., 201., 560., 731.,\n",
       "       289., 602., 431., 783., 378., 223., 588., 325., 115., 162., 307.,\n",
       "       451., 664., 352., 536., 569., 532., 839., 144., 722., 676., 804.,\n",
       "       781., 564., 658., 743., 688., 477., 239., 638., 613., 730., 368.,\n",
       "       540., 323., 760., 726., 404., 301., 267., 779., 754., 381., 157.,\n",
       "       675., 741., 334., 387., 735., 258., 470., 647., 769., 497., 517.,\n",
       "       719., 686., 221., 598., 649., 392., 509., 458., 700., 507., 187.,\n",
       "       799., 434., 486., 790., 226., 643., 182., 584., 677., 211., 776.,\n",
       "       373., 846., 335., 475., 379., 121., 218., 654., 764., 158., 405.,\n",
       "       151., 297., 548., 547., 607., 689., 578., 156., 798., 531., 469.,\n",
       "       230., 625., 338., 408., 186., 516., 337., 443., 424., 216., 351.,\n",
       "       485., 135., 463., 347., 126., 597., 645., 413., 119., 350., 506.,\n",
       "       844., 371., 810., 815., 362., 375., 196., 117., 834., 173., 388.,\n",
       "       302., 478., 618., 407., 102., 667., 669., 771., 393., 788., 681.,\n",
       "       244., 533., 444., 275., 563., 247., 840.])"
      ]
     },
     "execution_count": 117,
     "metadata": {},
     "output_type": "execute_result"
    }
   ],
   "source": [
    "df2['id_21'].unique()"
   ]
  },
  {
   "cell_type": "code",
   "execution_count": 118,
   "metadata": {},
   "outputs": [],
   "source": [
    "df2['id_21'].fillna('unknown',inplace=True)"
   ]
  },
  {
   "cell_type": "code",
   "execution_count": 119,
   "metadata": {},
   "outputs": [
    {
     "data": {
      "text/plain": [
       "array([nan, 14., 41., 21., 33., 35., 19., 20., 31., 12., 36., 23., 28.,\n",
       "       40., 24., 39., 22., 43., 26., 44., 10., 17., 38., 37., 18., 42.])"
      ]
     },
     "execution_count": 119,
     "metadata": {},
     "output_type": "execute_result"
    }
   ],
   "source": [
    "df2['id_22'].unique()"
   ]
  },
  {
   "cell_type": "code",
   "execution_count": 120,
   "metadata": {},
   "outputs": [],
   "source": [
    "df2['id_22'].fillna('unknown',inplace=True)"
   ]
  },
  {
   "cell_type": "code",
   "execution_count": 121,
   "metadata": {},
   "outputs": [
    {
     "data": {
      "text/plain": [
       "array([nan, 'IP_PROXY:TRANSPARENT', 'IP_PROXY:ANONYMOUS',\n",
       "       'IP_PROXY:HIDDEN'], dtype=object)"
      ]
     },
     "execution_count": 121,
     "metadata": {},
     "output_type": "execute_result"
    }
   ],
   "source": [
    "df2['id_23'].unique()"
   ]
  },
  {
   "cell_type": "code",
   "execution_count": 122,
   "metadata": {},
   "outputs": [],
   "source": [
    "df2['id_23'].fillna('unknown',inplace=True)"
   ]
  },
  {
   "cell_type": "code",
   "execution_count": 123,
   "metadata": {},
   "outputs": [
    {
     "data": {
      "text/plain": [
       "array([nan, 11., 15., 16., 12., 21., 18., 25., 26., 19., 23., 24., 17.])"
      ]
     },
     "execution_count": 123,
     "metadata": {},
     "output_type": "execute_result"
    }
   ],
   "source": [
    "df2['id_24'].unique()"
   ]
  },
  {
   "cell_type": "code",
   "execution_count": 124,
   "metadata": {},
   "outputs": [],
   "source": [
    "df2['id_24'].fillna('unknown',inplace=True)"
   ]
  },
  {
   "cell_type": "code",
   "execution_count": 125,
   "metadata": {},
   "outputs": [
    {
     "data": {
      "text/plain": [
       "array([ nan, 321., 161., 460., 426., 205., 268., 509., 132., 516., 485.,\n",
       "       365., 501., 427., 356., 191., 514., 442., 525., 533., 353., 181.,\n",
       "       388., 445., 392., 455., 172., 108., 523., 302., 355., 226., 250.,\n",
       "       359., 102., 349., 458., 119., 126., 242., 170., 239., 471., 375.,\n",
       "       143., 422., 104., 160., 134., 468., 240., 497., 202., 504., 371.,\n",
       "       231., 173., 216., 118., 337., 310., 480., 175., 341., 130., 382.,\n",
       "       325., 405., 312., 236., 286., 276., 500., 193., 496., 381., 404.,\n",
       "       123., 510., 245., 166., 146., 113., 343., 531., 203., 319., 208.,\n",
       "       519., 272., 158., 385., 284., 451., 475., 196., 290., 247., 495.,\n",
       "       417., 190., 133., 307., 366., 436., 110., 486., 545., 209., 238.,\n",
       "       467., 339., 299., 524., 213., 198., 511., 416., 255., 444., 344.,\n",
       "       508., 223., 116., 258., 345., 301., 111., 154., 488., 144., 297.,\n",
       "       512., 443., 254., 184., 373., 306., 141., 498., 183., 155., 251.,\n",
       "       332., 308., 221., 440., 499., 479., 100., 452., 217., 400., 370.,\n",
       "       214., 296., 430., 270., 529., 492., 180., 548., 128., 421., 125.,\n",
       "       278., 431., 139., 287., 541., 246., 346., 304., 261., 433., 177.,\n",
       "       387., 474., 292., 174., 351., 368., 396., 269., 122., 281., 544.,\n",
       "       484., 424., 274., 106., 182., 463., 542., 136., 200., 243., 131.,\n",
       "       211., 435., 372., 201., 410., 334., 195., 142., 212., 367., 402.,\n",
       "       377., 273., 313., 506., 354., 277., 376., 171., 210., 503., 262.,\n",
       "       291., 259., 317., 204., 298., 437., 206., 253., 275., 481., 234.,\n",
       "       352., 439., 333., 112., 425., 294., 490., 543., 248., 224., 237.,\n",
       "       449., 232., 137., 489., 164., 121., 148., 515., 457., 412., 163.,\n",
       "       267., 289., 528., 327., 186., 342., 311., 470., 252., 469., 459.,\n",
       "       241., 505., 151., 157., 114., 331., 266., 418., 233., 414., 438.,\n",
       "       330., 535., 103., 450., 167., 279., 185., 378., 338., 165., 472.,\n",
       "       336., 360., 235., 124., 178., 398., 101., 145., 357., 369., 348.,\n",
       "       364., 188., 517., 228., 407., 391., 263., 225., 329., 453., 521.,\n",
       "       539., 520., 194., 197., 446., 207., 527., 538., 518., 454., 350.,\n",
       "       187., 120., 403., 384., 493., 324., 347., 406., 461., 483., 409.,\n",
       "       374., 379., 138., 358., 326., 293., 271., 530., 152., 305., 309.,\n",
       "       189.])"
      ]
     },
     "execution_count": 125,
     "metadata": {},
     "output_type": "execute_result"
    }
   ],
   "source": [
    "df2['id_25'].unique()"
   ]
  },
  {
   "cell_type": "code",
   "execution_count": 126,
   "metadata": {},
   "outputs": [],
   "source": [
    "df2['id_25'].fillna('unknown',inplace=True)"
   ]
  },
  {
   "cell_type": "code",
   "execution_count": 127,
   "metadata": {},
   "outputs": [
    {
     "data": {
      "text/plain": [
       "array([ nan, 184., 102., 159., 142., 117., 191., 119., 121., 182., 100.,\n",
       "       216., 147., 146., 133., 206., 161., 215., 169., 152., 143., 163.,\n",
       "       186., 111., 106., 137., 134., 190., 185., 156., 130., 162., 149.,\n",
       "       144., 168., 103., 107., 194., 125., 203., 131., 124., 115., 118.,\n",
       "       199., 122., 150., 138., 170., 126., 187., 129., 177., 174., 114.,\n",
       "       136., 165., 205., 109., 180., 116., 202., 195., 209., 113., 101.,\n",
       "       204., 208., 200., 189., 110., 157., 141., 164., 178., 212., 158.,\n",
       "       127., 128., 214., 167., 123., 201., 108., 211., 160., 155., 153.,\n",
       "       193., 176., 120., 145., 192., 183., 172., 198.])"
      ]
     },
     "execution_count": 127,
     "metadata": {},
     "output_type": "execute_result"
    }
   ],
   "source": [
    "df2['id_26'].unique()"
   ]
  },
  {
   "cell_type": "code",
   "execution_count": 128,
   "metadata": {},
   "outputs": [],
   "source": [
    "df2['id_26'].fillna('unknown',inplace=True)"
   ]
  },
  {
   "cell_type": "code",
   "execution_count": 129,
   "metadata": {},
   "outputs": [
    {
     "data": {
      "text/plain": [
       "array([nan, 'Found', 'NotFound'], dtype=object)"
      ]
     },
     "execution_count": 129,
     "metadata": {},
     "output_type": "execute_result"
    }
   ],
   "source": [
    "df2['id_27'].unique()"
   ]
  },
  {
   "cell_type": "code",
   "execution_count": 130,
   "metadata": {},
   "outputs": [],
   "source": [
    "df2['id_27'].fillna('unknown',inplace=True)"
   ]
  },
  {
   "cell_type": "code",
   "execution_count": 131,
   "metadata": {},
   "outputs": [
    {
     "data": {
      "text/plain": [
       "array(['New', 'Found', nan], dtype=object)"
      ]
     },
     "execution_count": 131,
     "metadata": {},
     "output_type": "execute_result"
    }
   ],
   "source": [
    "df2['id_28'].unique()"
   ]
  },
  {
   "cell_type": "code",
   "execution_count": 132,
   "metadata": {},
   "outputs": [],
   "source": [
    "df2['id_28'].fillna('unknown',inplace=True)"
   ]
  },
  {
   "cell_type": "code",
   "execution_count": 133,
   "metadata": {},
   "outputs": [
    {
     "data": {
      "text/plain": [
       "array(['NotFound', 'Found', nan], dtype=object)"
      ]
     },
     "execution_count": 133,
     "metadata": {},
     "output_type": "execute_result"
    }
   ],
   "source": [
    "df2['id_29'].unique()"
   ]
  },
  {
   "cell_type": "code",
   "execution_count": 134,
   "metadata": {},
   "outputs": [],
   "source": [
    "df2['id_29'].fillna('unknown',inplace=True)"
   ]
  },
  {
   "cell_type": "code",
   "execution_count": 135,
   "metadata": {},
   "outputs": [
    {
     "data": {
      "text/plain": [
       "array(['Android 7.0', 'iOS 11.1.2', nan, 'Mac OS X 10_11_6', 'Windows 10',\n",
       "       'Android', 'Linux', 'iOS 11.0.3', 'Mac OS X 10_7_5',\n",
       "       'Mac OS X 10_12_6', 'Mac OS X 10_13_1', 'iOS 11.1.0',\n",
       "       'Mac OS X 10_9_5', 'Windows 7', 'Windows 8.1', 'Mac', 'iOS 10.3.3',\n",
       "       'Mac OS X 10.12', 'Mac OS X 10_10_5', 'Mac OS X 10_11_5',\n",
       "       'iOS 9.3.5', 'Android 5.1.1', 'Android 7.1.1', 'Android 6.0',\n",
       "       'iOS 10.3.1', 'Mac OS X 10.9', 'iOS 11.1.1', 'Windows Vista',\n",
       "       'iOS 10.3.2', 'iOS 11.0.2', 'Mac OS X 10.11', 'Android 8.0.0',\n",
       "       'iOS 10.2.0', 'iOS 10.2.1', 'iOS 11.0.0', 'Mac OS X 10.10',\n",
       "       'Mac OS X 10_12_3', 'Mac OS X 10_12', 'Android 6.0.1', 'iOS',\n",
       "       'Mac OS X 10.13', 'Mac OS X 10_12_5', 'Mac OS X 10_8_5',\n",
       "       'iOS 11.0.1', 'iOS 10.0.2', 'Android 5.0.2', 'Windows XP',\n",
       "       'iOS 11.2.0', 'Mac OS X 10.6', 'Windows 8', 'Mac OS X 10_6_8',\n",
       "       'Mac OS X 10_11_4', 'Mac OS X 10_12_1', 'iOS 10.1.1',\n",
       "       'Mac OS X 10_11_3', 'Mac OS X 10_12_4', 'Mac OS X 10_13_2',\n",
       "       'Android 4.4.2', 'Mac OS X 10_12_2', 'Android 5.0', 'func',\n",
       "       'Android 7.1.2', 'Android 8.1.0', 'other', 'Mac OS X 10_13_3',\n",
       "       'iOS 11.2.1', 'iOS 11.2.5', 'Windows', 'iOS 11.2.2', 'iOS 11.3.0',\n",
       "       'iOS 11.2.6', 'Mac OS X 10_13_4', 'Mac OS X 10_13_5', 'iOS 11.4.0',\n",
       "       'iOS 11.3.1', 'iOS 11.4.1'], dtype=object)"
      ]
     },
     "execution_count": 135,
     "metadata": {},
     "output_type": "execute_result"
    }
   ],
   "source": [
    "df2['id_30'].unique()"
   ]
  },
  {
   "cell_type": "code",
   "execution_count": 136,
   "metadata": {},
   "outputs": [],
   "source": [
    "df2['id_30'].fillna('unknown',inplace=True)"
   ]
  },
  {
   "cell_type": "code",
   "execution_count": 137,
   "metadata": {},
   "outputs": [],
   "source": [
    "df2['id_30'] = df2['id_30'].replace(['Android 7.0'],'Android')\n",
    "df2['id_30'] = df2['id_30'].replace(['Android 5.1.1'],'Android')\n",
    "df2['id_30'] = df2['id_30'].replace(['Android 7.1.1'],'Android')\n",
    "df2['id_30'] = df2['id_30'].replace(['Android 6.0'],'Android')\n",
    "df2['id_30'] = df2['id_30'].replace(['Android 8.0.0'],'Android')\n",
    "df2['id_30'] = df2['id_30'].replace(['Android 6.0.1'],'Android')\n",
    "df2['id_30'] = df2['id_30'].replace(['Android 5.0.2'],'Android')\n",
    "df2['id_30'] = df2['id_30'].replace(['Android 4.4.2'],'Android')\n",
    "df2['id_30'] = df2['id_30'].replace(['Android 7.1.2'],'Android')\n",
    "df2['id_30'] = df2['id_30'].replace(['Android 8.1.0'],'Android')\n",
    "df2['id_30'] = df2['id_30'].replace(['Android 5.0'],'Android')"
   ]
  },
  {
   "cell_type": "code",
   "execution_count": 138,
   "metadata": {},
   "outputs": [],
   "source": [
    "df2['id_30'] = df2['id_30'].replace(['Mac OS X 10_11_6'],'MAC OS')\n",
    "df2['id_30'] = df2['id_30'].replace(['Mac OS X 10_7_5'],'MAC OS')\n",
    "df2['id_30'] = df2['id_30'].replace(['Mac OS X 10_12_6'],'MAC OS')\n",
    "df2['id_30'] = df2['id_30'].replace(['Mac OS X 10_13_1'],'MAC OS')\n",
    "df2['id_30'] = df2['id_30'].replace(['Mac OS X 10_9_5'],'MAC OS')\n",
    "df2['id_30'] = df2['id_30'].replace(['Mac OS X 10.12'],'MAC OS')\n",
    "df2['id_30'] = df2['id_30'].replace(['Mac OS X 10_10_5'],'MAC OS')\n",
    "df2['id_30'] = df2['id_30'].replace(['Mac OS X 10_11_5'],'MAC OS')\n",
    "df2['id_30'] = df2['id_30'].replace(['Mac OS X 10.9'],'MAC OS')\n",
    "df2['id_30'] = df2['id_30'].replace(['Mac OS X 10.11'],'MAC OS')\n",
    "df2['id_30'] = df2['id_30'].replace(['Mac OS X 10_12_3'],'MAC OS')\n",
    "df2['id_30'] = df2['id_30'].replace(['Mac OS X 10_12'],'MAC OS')\n",
    "df2['id_30'] = df2['id_30'].replace(['Mac OS X 10.13'],'MAC OS')\n",
    "df2['id_30'] = df2['id_30'].replace(['Mac OS X 10_12_5'],'MAC OS')\n",
    "df2['id_30'] = df2['id_30'].replace(['Mac OS X 10.6'],'MAC OS')\n",
    "df2['id_30'] = df2['id_30'].replace(['Mac OS X 10_6_8'],'MAC OS')\n",
    "df2['id_30'] = df2['id_30'].replace(['Mac OS X 10_11_4'],'MAC OS')\n",
    "df2['id_30'] = df2['id_30'].replace(['Mac OS X 10_12_1'],'MAC OS')\n",
    "df2['id_30'] = df2['id_30'].replace(['Mac OS X 10_11_3'],'MAC OS')\n",
    "df2['id_30'] = df2['id_30'].replace(['Mac OS X 10_12_4'],'MAC OS')\n",
    "df2['id_30'] = df2['id_30'].replace(['Mac OS X 10_13_2'],'MAC OS')\n",
    "df2['id_30'] = df2['id_30'].replace(['Mac OS X 10_12_2'],'MAC OS')\n",
    "df2['id_30'] = df2['id_30'].replace(['Mac OS X 10_13_3'],'MAC OS')\n",
    "df2['id_30'] = df2['id_30'].replace(['Mac OS X 10_12_2'],'MAC OS')\n",
    "df2['id_30'] = df2['id_30'].replace(['Mac OS X 10_13_4'],'MAC OS')\n",
    "df2['id_30'] = df2['id_30'].replace(['Mac OS X 10_13_5'],'MAC OS')\n",
    "df2['id_30'] = df2['id_30'].replace(['Mac'],'MAC OS')\n",
    "df2['id_30'] = df2['id_30'].replace(['Mac OS X 10.10'],'MAC OS')\n",
    "df2['id_30'] = df2['id_30'].replace(['Mac OS X 10_8_5'],'MAC OS')"
   ]
  },
  {
   "cell_type": "code",
   "execution_count": 139,
   "metadata": {},
   "outputs": [],
   "source": [
    "df2['id_30'] = df2['id_30'].replace(['iOS 11.1.2'],'IOS')\n",
    "df2['id_30'] = df2['id_30'].replace(['iOS 11.0.3'],'IOS')\n",
    "df2['id_30'] = df2['id_30'].replace(['iOS 11.1.0'],'IOS')\n",
    "df2['id_30'] = df2['id_30'].replace(['iOS 10.3.3'],'IOS')\n",
    "df2['id_30'] = df2['id_30'].replace(['iOS 9.3.5'],'IOS')\n",
    "df2['id_30'] = df2['id_30'].replace(['iOS 10.3.1'],'IOS')\n",
    "df2['id_30'] = df2['id_30'].replace(['iOS 11.1.1'],'IOS')\n",
    "df2['id_30'] = df2['id_30'].replace(['iOS 10.3.2'],'IOS')\n",
    "df2['id_30'] = df2['id_30'].replace(['iOS 11.0.2'],'IOS')\n",
    "df2['id_30'] = df2['id_30'].replace(['iOS 10.2.0'],'IOS')\n",
    "df2['id_30'] = df2['id_30'].replace(['iOS 10.2.1'],'IOS')\n",
    "df2['id_30'] = df2['id_30'].replace(['iOS 11.0.0'],'IOS')\n",
    "df2['id_30'] = df2['id_30'].replace(['iOS'],'IOS')\n",
    "df2['id_30'] = df2['id_30'].replace(['iOS 11.0.1'],'IOS')\n",
    "df2['id_30'] = df2['id_30'].replace(['iOS 10.0.2'],'IOS')\n",
    "df2['id_30'] = df2['id_30'].replace(['iOS 11.2.0'],'IOS')\n",
    "df2['id_30'] = df2['id_30'].replace(['iOS 10.1.1'],'IOS')\n",
    "df2['id_30'] = df2['id_30'].replace(['iOS 11.2.1'],'IOS')\n",
    "df2['id_30'] = df2['id_30'].replace(['iOS 11.2.5'],'IOS')\n",
    "df2['id_30'] = df2['id_30'].replace(['iOS 11.2.2'],'IOS')\n",
    "df2['id_30'] = df2['id_30'].replace(['iOS 11.3.0'],'IOS')\n",
    "df2['id_30'] = df2['id_30'].replace(['iOS 11.2.6'],'IOS')\n",
    "df2['id_30'] = df2['id_30'].replace(['iOS 11.4.0'],'IOS')\n",
    "df2['id_30'] = df2['id_30'].replace(['iOS 11.3.1'],'IOS')\n",
    "df2['id_30'] = df2['id_30'].replace(['iOS 11.4.1'],'IOS')"
   ]
  },
  {
   "cell_type": "code",
   "execution_count": 140,
   "metadata": {},
   "outputs": [],
   "source": [
    "df2['id_30'] = df2['id_30'].replace(['Windows 10'],'Windows')\n",
    "df2['id_30'] = df2['id_30'].replace(['Windows 7'],'Windows')\n",
    "df2['id_30'] = df2['id_30'].replace(['Windows 8.1'],'Windows')\n",
    "df2['id_30'] = df2['id_30'].replace(['Windows Vista'],'Windows')\n",
    "df2['id_30'] = df2['id_30'].replace(['Windows XP'],'Windows')\n",
    "df2['id_30'] = df2['id_30'].replace(['Windows 8'],'Windows')"
   ]
  },
  {
   "cell_type": "code",
   "execution_count": 141,
   "metadata": {},
   "outputs": [
    {
     "data": {
      "text/plain": [
       "array(['Android', 'IOS', 'unknown', 'MAC OS', 'Windows', 'Linux', 'func',\n",
       "       'other'], dtype=object)"
      ]
     },
     "execution_count": 141,
     "metadata": {},
     "output_type": "execute_result"
    }
   ],
   "source": [
    "df2['id_30'].unique()"
   ]
  },
  {
   "cell_type": "code",
   "execution_count": 142,
   "metadata": {
    "scrolled": true
   },
   "outputs": [
    {
     "data": {
      "image/png": "[encoded data removed]",
      "text/plain": [
       "<Figure size 1080x360 with 1 Axes>"
      ]
     },
     "metadata": {
      "needs_background": "light"
     },
     "output_type": "display_data"
    }
   ],
   "source": [
    "df2.groupby('id_30') \\\n",
    "    .count()['TransactionID'] \\\n",
    "    .sort_values(ascending=False) \\\n",
    "    .head(20) \\\n",
    "    .plot(kind='barh', figsize=(15, 5), title='Top mails')\n",
    "plt.show()"
   ]
  },
  {
   "cell_type": "code",
   "execution_count": 143,
   "metadata": {},
   "outputs": [],
   "source": [
    "# Top 5 to 1,2,3,4, 5 and others to 6\n",
    "df2['id_30'] = df2['id_30'].replace(['unknown'],1)\n",
    "df2['id_30'] = df2['id_30'].replace(['Windows'],2)\n",
    "df2['id_30'] = df2['id_30'].replace(['IOS'],3)\n",
    "df2['id_30'] = df2['id_30'].replace(['MAC OS'],4)\n",
    "df2['id_30'] = df2['id_30'].replace(['Android'],5)\n",
    "df2['id_30'] = df2['id_30'].replace(['Linux','other','func'],6)"
   ]
  },
  {
   "cell_type": "code",
   "execution_count": 144,
   "metadata": {},
   "outputs": [
    {
     "data": {
      "text/plain": [
       "array([5, 3, 1, 4, 2, 6], dtype=int64)"
      ]
     },
     "execution_count": 144,
     "metadata": {},
     "output_type": "execute_result"
    }
   ],
   "source": [
    "df2['id_30'].unique()"
   ]
  },
  {
   "cell_type": "code",
   "execution_count": 145,
   "metadata": {
    "scrolled": true
   },
   "outputs": [
    {
     "data": {
      "text/plain": [
       "array(['samsung browser 6.2', 'mobile safari 11.0', 'chrome 62.0', nan,\n",
       "       'chrome 62.0 for android', 'edge 15.0', 'mobile safari generic',\n",
       "       'chrome 49.0', 'chrome 61.0', 'edge 16.0', 'safari generic',\n",
       "       'edge 14.0', 'chrome 56.0 for android', 'firefox 57.0',\n",
       "       'chrome 54.0 for android', 'mobile safari uiwebview', 'chrome',\n",
       "       'chrome 62.0 for ios', 'firefox', 'chrome 60.0 for android',\n",
       "       'mobile safari 10.0', 'chrome 61.0 for android',\n",
       "       'ie 11.0 for desktop', 'ie 11.0 for tablet', 'mobile safari 9.0',\n",
       "       'chrome generic', 'other', 'chrome 59.0 for android',\n",
       "       'firefox 56.0', 'android webview 4.0', 'chrome 55.0', 'opera 49.0',\n",
       "       'ie', 'chrome 55.0 for android', 'firefox 52.0',\n",
       "       'chrome 57.0 for android', 'chrome 56.0',\n",
       "       'chrome 46.0 for android', 'chrome 58.0', 'firefox 48.0',\n",
       "       'chrome 59.0', 'samsung browser 4.0', 'edge 13.0',\n",
       "       'chrome 53.0 for android', 'chrome 58.0 for android',\n",
       "       'chrome 60.0', 'mobile safari 8.0', 'firefox generic',\n",
       "       'Generic/Android 7.0', 'mobile', 'Samsung/SM-G532M',\n",
       "       'chrome 50.0 for android', 'chrome 51.0 for android',\n",
       "       'chrome 63.0', 'chrome 52.0 for android', 'chrome 51.0',\n",
       "       'firefox 55.0', 'edge', 'opera', 'chrome generic for android',\n",
       "       'aol', 'samsung browser 5.4', 'Samsung/SCH', 'silk', 'chrome 57.0',\n",
       "       'firefox 47.0', 'chrome 63.0 for android', 'Samsung/SM-G531H',\n",
       "       'chrome 43.0 for android', 'waterfox', 'Nokia/Lumia',\n",
       "       'chrome 63.0 for ios', 'puffin', 'Microsoft/Windows', 'cyberfox',\n",
       "       'Generic/Android', 'samsung', 'opera generic',\n",
       "       'chrome 49.0 for android', 'ZTE/Blade', 'safari',\n",
       "       'android browser 4.0', 'samsung browser 5.2', 'palemoon',\n",
       "       'maxthon', 'line', 'LG/K-200', 'iron', 'BLU/Dash', 'seamonkey',\n",
       "       'firefox 58.0', 'chrome 64.0 for android', 'chrome 64.0',\n",
       "       'firefox 59.0', 'chrome 64.0 for ios', 'M4Tel/M4', 'comodo',\n",
       "       'Lanix/Ilium', 'samsung browser generic', 'chromium', 'opera 51.0',\n",
       "       'Inco/Minion', 'samsung browser 7.0', 'Mozilla/Firefox',\n",
       "       'samsung browser 4.2', 'samsung browser 6.4', 'chrome 65.0',\n",
       "       'chrome 65.0 for android', 'chrome 65.0 for ios', 'Cherry',\n",
       "       'icedragon', 'android', 'edge 17.0', 'chrome 66.0',\n",
       "       'chrome 66.0 for android', 'safari 11.0', 'safari 9.0',\n",
       "       'safari 10.0', 'google', 'chrome 66.0 for ios',\n",
       "       'google search application 48.0', 'opera 52.0', 'firefox 60.0',\n",
       "       'opera 53.0', 'samsung browser 3.3',\n",
       "       'google search application 49.0', 'facebook',\n",
       "       'firefox mobile 61.0', 'chrome 67.0', 'chrome 69.0',\n",
       "       'chrome 67.0 for android'], dtype=object)"
      ]
     },
     "execution_count": 145,
     "metadata": {},
     "output_type": "execute_result"
    }
   ],
   "source": [
    "df2['id_31'].unique()"
   ]
  },
  {
   "cell_type": "code",
   "execution_count": 146,
   "metadata": {},
   "outputs": [],
   "source": [
    "df2['id_31'] = df2['id_31'].replace(['chrome 62.0','chrome 62.0 for android','chrome 49.0','chrome 61.0',\n",
    "                                     'chrome 56.0 for android','chrome 54.0 for android','chrome 62.0 for ios',\n",
    "                                     'chrome 61.0 for android', 'chrome 60.0 for android', 'chrome', 'chrome generic',\n",
    "                                     'chrome 59.0 for android','chrome 55.0','chrome 55.0 for android', \n",
    "                                     'chrome 57.0 for android', 'chrome 56.0', 'chrome 46.0 for android', 'chrome 58.0',\n",
    "                                     'chrome 59.0', 'chrome 53.0 for android', 'chrome 58.0 for android', 'chrome 60.0',\n",
    "                                     'chrome 50.0 for android', 'chrome 51.0 for android', 'chrome 63.0',\n",
    "                                     'chrome 52.0 for android', 'chrome 51.0',  'chrome generic for android',\n",
    "                                     'chrome 63.0 for android', 'chrome 43.0 for android', 'chrome 63.0 for ios',\n",
    "                                     'chrome 49.0 for android', 'chrome 64.0 for android', 'chrome 64.0',\n",
    "                                     'chrome 64.0 for ios', 'chrome 65.0', 'chrome 65.0 for android', \n",
    "                                     'chrome 65.0 for ios', 'chrome 66.0','chrome 66.0 for android','google', \n",
    "                                     'chrome 66.0 for ios', 'google search application 48.0', \n",
    "                                     'google search application 49.0','chrome 67.0', 'chrome 69.0', 'chrome 67.0 for android'\n",
    "                                     'chrome 57.0','chrome 57.0'],'Chrome')"
   ]
  },
  {
   "cell_type": "code",
   "execution_count": 147,
   "metadata": {},
   "outputs": [],
   "source": [
    "df2['id_31'] = df2['id_31'].replace(['mobile safari 11.0','mobile safari generic','safari generic',\n",
    "                                     'mobile safari 10.0','mobile safari 9.0','mobile safari 8.0',\n",
    "                                     'safari 11.0', 'safari 9.0', 'safari 10.0','mobile safari uiwebview', 'safari'\n",
    "                                    ],'Safari')"
   ]
  },
  {
   "cell_type": "code",
   "execution_count": 148,
   "metadata": {},
   "outputs": [],
   "source": [
    "df2['id_31'] = df2['id_31'].replace(['samsung browser 6.2','android webview 4.0','samsung browser 4.0',\n",
    "                                      'Samsung/SM-G532M','samsung browser 5.4', 'Samsung/SCH', 'Samsung/SM-G531H',\n",
    "                                     'samsung','samsung browser 5.2','samsung browser generic', 'samsung browser 7.0',\n",
    "                                      'samsung browser 4.2', 'samsung browser 6.4', 'samsung browser 3.3',\n",
    "                                      'Generic/Android 7.0','android','Generic/Android','android browser 4.0',\n",
    "                                     'Generic/Android', 'android browser 4.0'\n",
    "                                    ],'Samsung')"
   ]
  },
  {
   "cell_type": "code",
   "execution_count": 149,
   "metadata": {},
   "outputs": [],
   "source": [
    "df2['id_31'] = df2['id_31'].replace(['edge 15.0', 'edge 16.0',\n",
    "       'edge 14.0','edge 13.0','edge 17.0',],\"Microsoft Edge\")"
   ]
  },
  {
   "cell_type": "code",
   "execution_count": 150,
   "metadata": {},
   "outputs": [],
   "source": [
    "df2['id_31'] = df2['id_31'].replace(['firefox 57.0', 'firefox','firefox 56.0', 'firefox 58.0', 'firefox 59.0',\n",
    "                                     'Mozilla/Firefox', 'firefox 60.0','firefox mobile 61.0','firefox 47.0',\n",
    "                                     'firefox 52.0', 'firefox 48.0', 'firefox generic','firefox 55.0'\n",
    "                                    ],\"Firefox\")"
   ]
  },
  {
   "cell_type": "code",
   "execution_count": 151,
   "metadata": {},
   "outputs": [],
   "source": [
    "df2['id_31'] = df2['id_31'].replace(['ie 11.0 for desktop', 'ie 11.0 for tablet',\n",
    "                                    ],\"ie\")"
   ]
  },
  {
   "cell_type": "code",
   "execution_count": 152,
   "metadata": {},
   "outputs": [],
   "source": [
    "df2['id_31'] = df2['id_31'].replace(['opera 49.0' ,'opera','opera 51.0','opera 52.0', 'opera 53.0' ],\"Opera\")"
   ]
  },
  {
   "cell_type": "code",
   "execution_count": 153,
   "metadata": {},
   "outputs": [
    {
     "data": {
      "text/plain": [
       "array(['Samsung', 'Safari', 'Chrome', nan, 'Microsoft Edge', 'Firefox',\n",
       "       'ie', 'other', 'Opera', 'mobile', 'edge', 'aol', 'silk',\n",
       "       'waterfox', 'Nokia/Lumia', 'puffin', 'Microsoft/Windows',\n",
       "       'cyberfox', 'opera generic', 'ZTE/Blade', 'palemoon', 'maxthon',\n",
       "       'line', 'LG/K-200', 'iron', 'BLU/Dash', 'seamonkey', 'M4Tel/M4',\n",
       "       'comodo', 'Lanix/Ilium', 'chromium', 'Inco/Minion', 'Cherry',\n",
       "       'icedragon', 'facebook', 'chrome 67.0 for android'], dtype=object)"
      ]
     },
     "execution_count": 153,
     "metadata": {},
     "output_type": "execute_result"
    }
   ],
   "source": [
    "df2['id_31'].unique()"
   ]
  },
  {
   "cell_type": "code",
   "execution_count": 154,
   "metadata": {},
   "outputs": [
    {
     "data": {
      "image/png": "[encoded data removed]",
      "text/plain": [
       "<Figure size 1080x360 with 1 Axes>"
      ]
     },
     "metadata": {
      "needs_background": "light"
     },
     "output_type": "display_data"
    }
   ],
   "source": [
    "df2.groupby('id_31') \\\n",
    "    .count()['TransactionID'] \\\n",
    "    .sort_values(ascending=False) \\\n",
    "    .head(20) \\\n",
    "    .plot(kind='barh', figsize=(15, 5), title='Top browser')\n",
    "plt.show()"
   ]
  },
  {
   "cell_type": "code",
   "execution_count": 155,
   "metadata": {},
   "outputs": [],
   "source": [
    "# top 5 to 1~5 and others to 6\n",
    "df2['id_31'] = df2['id_31'].replace(['Chrome'],1)\n",
    "df2['id_31'] = df2['id_31'].replace(['Safari'],2)\n",
    "df2['id_31'] = df2['id_31'].replace(['ie'],3)\n",
    "df2['id_31'] = df2['id_31'].replace(['Firefox'],4)\n",
    "df2['id_31'] = df2['id_31'].replace(['Microsoft Edge'],5)"
   ]
  },
  {
   "cell_type": "code",
   "execution_count": 156,
   "metadata": {},
   "outputs": [
    {
     "data": {
      "text/plain": [
       "array(['Samsung', 2, 1, nan, 5, 4, 3, 'other', 'Opera', 'mobile', 'edge',\n",
       "       'aol', 'silk', 'waterfox', 'Nokia/Lumia', 'puffin',\n",
       "       'Microsoft/Windows', 'cyberfox', 'opera generic', 'ZTE/Blade',\n",
       "       'palemoon', 'maxthon', 'line', 'LG/K-200', 'iron', 'BLU/Dash',\n",
       "       'seamonkey', 'M4Tel/M4', 'comodo', 'Lanix/Ilium', 'chromium',\n",
       "       'Inco/Minion', 'Cherry', 'icedragon', 'facebook',\n",
       "       'chrome 67.0 for android'], dtype=object)"
      ]
     },
     "execution_count": 156,
     "metadata": {},
     "output_type": "execute_result"
    }
   ],
   "source": [
    "df2['id_31'].unique()"
   ]
  },
  {
   "cell_type": "code",
   "execution_count": 157,
   "metadata": {},
   "outputs": [],
   "source": [
    "df2['id_31'] = np.where(df2['id_31'].isin([1,2,3,4,5]), df2['id_31'], 6)"
   ]
  },
  {
   "cell_type": "code",
   "execution_count": 158,
   "metadata": {},
   "outputs": [
    {
     "data": {
      "text/plain": [
       "array([6, 2, 1, 5, 4, 3], dtype=object)"
      ]
     },
     "execution_count": 158,
     "metadata": {},
     "output_type": "execute_result"
    }
   ],
   "source": [
    "df2['id_31'].unique()"
   ]
  },
  {
   "cell_type": "code",
   "execution_count": 159,
   "metadata": {},
   "outputs": [
    {
     "data": {
      "text/plain": [
       "array([32., nan, 24., 16.,  0.])"
      ]
     },
     "execution_count": 159,
     "metadata": {},
     "output_type": "execute_result"
    }
   ],
   "source": [
    "df2['id_32'].unique()"
   ]
  },
  {
   "cell_type": "code",
   "execution_count": 160,
   "metadata": {},
   "outputs": [
    {
     "data": {
      "text/plain": [
       "array([32.0, 'unknown', 24.0, 16.0, 0.0], dtype=object)"
      ]
     },
     "execution_count": 160,
     "metadata": {},
     "output_type": "execute_result"
    }
   ],
   "source": [
    "df2['id_32'].fillna('unknown',inplace=True)\n",
    "df2['id_32'].unique()"
   ]
  },
  {
   "cell_type": "code",
   "execution_count": 161,
   "metadata": {},
   "outputs": [
    {
     "data": {
      "text/plain": [
       "array(['2220x1080', '1334x750', nan, '1280x800', '1366x768', '1920x1080',\n",
       "       '1680x1050', '1136x640', '5120x2880', '2880x1800', '1920x1200',\n",
       "       '2560x1600', '2048x1536', '1024x768', '1280x720', '2560x1440',\n",
       "       '2208x1242', '2001x1125', '1440x900', '1600x900', '2672x1440',\n",
       "       '1280x1024', '960x540', '2732x2048', '2436x1125', '2048x1152',\n",
       "       '2960x1440', '1024x600', '855x480', '4096x2304', '2160x1440',\n",
       "       '2562x1442', '801x480', '2736x1824', '3441x1440', '2880x1620',\n",
       "       '3840x2160', '1638x922', '1280x768', '1360x768', '1280x960',\n",
       "       '3440x1440', '1152x720', '1280x1025', '3360x2100', '2304x1296',\n",
       "       '1152x864', '3200x1800', '2112x1188', '2224x1668', '2400x1350',\n",
       "       '2000x1125', '1600x1000', '2560x1080', '1728x972', '3000x2000',\n",
       "       '1024x640', '3840x2400', '2304x1440', '1280x600', '1400x1050',\n",
       "       '1600x1200', '3201x1800', '1356x900', '1344x756', '1624x1080',\n",
       "       '1536x864', '1800x1125', '1920x1281', '2961x1442', '1366x1024',\n",
       "       '1344x840', '3360x1890', '1536x1152', '1200x675', '1480x720',\n",
       "       '2400x1600', '3200x2000', '1281x801', '960x640', '1776x1000',\n",
       "       '2048x1280', '2049x1152', '1138x640', '2160x1215', '2880x1440',\n",
       "       '0x0', '2520x1575', '5760x3240', '3843x2163', '1184x720',\n",
       "       '1440x810', '2076x1080', '1600x837', '1093x615', '1281x721',\n",
       "       '1152x648', '2392x1440', '2048x1080', '2735x1825', '1680x945',\n",
       "       '1805x1015', '5760x1080', '2816x1584', '4500x3000', '1684x947',\n",
       "       '1440x960', '1364x768', '3072x1728', '5040x3150', '7500x5000',\n",
       "       '768x576', '1768x992', '1658x946', '1200x720', '1239x697',\n",
       "       '1188x720', '1232x800', '1920x1280', '1264x924', '1400x900',\n",
       "       '3240x2160', '2961x1440', '1422x889', '1848x1155', '3360x1050',\n",
       "       '3840x1080', '2010x1080', '2160x1350', '1440x720', '1280x712',\n",
       "       '1512x945', '1296x774', '1368x768', '3520x1980', '800x600',\n",
       "       '1700x960', '2560x1800', '6400x3600', '2368x1440', '1824x1026',\n",
       "       '1912x1025', '600x450', '3840x1600', '1760x990', '2700x1800',\n",
       "       '1371x857', '1776x1080', '2552x1337', '3600x2250', '2560x1700',\n",
       "       '2816x1760', '1440x800', '1440x803', '1920x1018', '6016x3384',\n",
       "       '1280x620', '1281x720', '1720x1440', '1408x880', '640x360',\n",
       "       '1920x975', '976x600', '1062x630', '2800x1575', '6720x3780',\n",
       "       '1440x759', '1120x700', '1921x1081', '1280x1023', '1279x1023',\n",
       "       '1441x901', '1679x1049', '1680x1051', '2220x1081', '1920x1079',\n",
       "       '1919x1199', '1680x1049', '1365x768', '1919x1079', '1919x1200',\n",
       "       '1919x1080', '1366x767', '1584x990', '2880x1442', '1281x800',\n",
       "       '1229x691', '1600x1024', '1600x899', '1536x960', '1502x844',\n",
       "       '1920x1201', '1439x809', '1408x792', '1279x1024', '1599x900',\n",
       "       '1920x1081', '921x691', '3841x2161', '1921x1080', '480x320',\n",
       "       '1888x941', '2049x1536', '2160x1439', '1707x960', '1024x767',\n",
       "       '1365x767', '3001x2000', '3839x2160', '1916x901', '3838x2158',\n",
       "       '1599x899', '3199x1800', '1511x944', '2737x1825', '2736x1823',\n",
       "       '2735x1823', '2559x1439', '2400x1500', '2882x1442', '1729x973',\n",
       "       '1727x971', '1023x767', '1918x1080', '1439x900', '4499x2999',\n",
       "       '1280x740', '2999x2000', '1024x552', '1440x899', '2255x1503',\n",
       "       '1025x768', '1280x732', '3839x2159', '3840x2162', '3696x2310',\n",
       "       '2159x1439', '2256x1504', '1439x899', '2159x1440', '1359x768',\n",
       "       '1092x614', '2048x1278', '2591x1619', '4200x2625', '2710x1440',\n",
       "       '1272x960', '1023x768', '3838x2160', '2100x1312', '1360x767',\n",
       "       '1024x819', '1502x845', '2561x1442', '2559x1440', '2160x1081',\n",
       "       '1920x1279', '2160x1080', '1596x710', '1496x844', '1280x900'],\n",
       "      dtype=object)"
      ]
     },
     "execution_count": 161,
     "metadata": {},
     "output_type": "execute_result"
    }
   ],
   "source": [
    "df2['id_33'].unique()"
   ]
  },
  {
   "cell_type": "code",
   "execution_count": 162,
   "metadata": {},
   "outputs": [
    {
     "data": {
      "text/plain": [
       "array(['2220x1080', '1334x750', 'unknown', '1280x800', '1366x768',\n",
       "       '1920x1080', '1680x1050', '1136x640', '5120x2880', '2880x1800',\n",
       "       '1920x1200', '2560x1600', '2048x1536', '1024x768', '1280x720',\n",
       "       '2560x1440', '2208x1242', '2001x1125', '1440x900', '1600x900',\n",
       "       '2672x1440', '1280x1024', '960x540', '2732x2048', '2436x1125',\n",
       "       '2048x1152', '2960x1440', '1024x600', '855x480', '4096x2304',\n",
       "       '2160x1440', '2562x1442', '801x480', '2736x1824', '3441x1440',\n",
       "       '2880x1620', '3840x2160', '1638x922', '1280x768', '1360x768',\n",
       "       '1280x960', '3440x1440', '1152x720', '1280x1025', '3360x2100',\n",
       "       '2304x1296', '1152x864', '3200x1800', '2112x1188', '2224x1668',\n",
       "       '2400x1350', '2000x1125', '1600x1000', '2560x1080', '1728x972',\n",
       "       '3000x2000', '1024x640', '3840x2400', '2304x1440', '1280x600',\n",
       "       '1400x1050', '1600x1200', '3201x1800', '1356x900', '1344x756',\n",
       "       '1624x1080', '1536x864', '1800x1125', '1920x1281', '2961x1442',\n",
       "       '1366x1024', '1344x840', '3360x1890', '1536x1152', '1200x675',\n",
       "       '1480x720', '2400x1600', '3200x2000', '1281x801', '960x640',\n",
       "       '1776x1000', '2048x1280', '2049x1152', '1138x640', '2160x1215',\n",
       "       '2880x1440', '0x0', '2520x1575', '5760x3240', '3843x2163',\n",
       "       '1184x720', '1440x810', '2076x1080', '1600x837', '1093x615',\n",
       "       '1281x721', '1152x648', '2392x1440', '2048x1080', '2735x1825',\n",
       "       '1680x945', '1805x1015', '5760x1080', '2816x1584', '4500x3000',\n",
       "       '1684x947', '1440x960', '1364x768', '3072x1728', '5040x3150',\n",
       "       '7500x5000', '768x576', '1768x992', '1658x946', '1200x720',\n",
       "       '1239x697', '1188x720', '1232x800', '1920x1280', '1264x924',\n",
       "       '1400x900', '3240x2160', '2961x1440', '1422x889', '1848x1155',\n",
       "       '3360x1050', '3840x1080', '2010x1080', '2160x1350', '1440x720',\n",
       "       '1280x712', '1512x945', '1296x774', '1368x768', '3520x1980',\n",
       "       '800x600', '1700x960', '2560x1800', '6400x3600', '2368x1440',\n",
       "       '1824x1026', '1912x1025', '600x450', '3840x1600', '1760x990',\n",
       "       '2700x1800', '1371x857', '1776x1080', '2552x1337', '3600x2250',\n",
       "       '2560x1700', '2816x1760', '1440x800', '1440x803', '1920x1018',\n",
       "       '6016x3384', '1280x620', '1281x720', '1720x1440', '1408x880',\n",
       "       '640x360', '1920x975', '976x600', '1062x630', '2800x1575',\n",
       "       '6720x3780', '1440x759', '1120x700', '1921x1081', '1280x1023',\n",
       "       '1279x1023', '1441x901', '1679x1049', '1680x1051', '2220x1081',\n",
       "       '1920x1079', '1919x1199', '1680x1049', '1365x768', '1919x1079',\n",
       "       '1919x1200', '1919x1080', '1366x767', '1584x990', '2880x1442',\n",
       "       '1281x800', '1229x691', '1600x1024', '1600x899', '1536x960',\n",
       "       '1502x844', '1920x1201', '1439x809', '1408x792', '1279x1024',\n",
       "       '1599x900', '1920x1081', '921x691', '3841x2161', '1921x1080',\n",
       "       '480x320', '1888x941', '2049x1536', '2160x1439', '1707x960',\n",
       "       '1024x767', '1365x767', '3001x2000', '3839x2160', '1916x901',\n",
       "       '3838x2158', '1599x899', '3199x1800', '1511x944', '2737x1825',\n",
       "       '2736x1823', '2735x1823', '2559x1439', '2400x1500', '2882x1442',\n",
       "       '1729x973', '1727x971', '1023x767', '1918x1080', '1439x900',\n",
       "       '4499x2999', '1280x740', '2999x2000', '1024x552', '1440x899',\n",
       "       '2255x1503', '1025x768', '1280x732', '3839x2159', '3840x2162',\n",
       "       '3696x2310', '2159x1439', '2256x1504', '1439x899', '2159x1440',\n",
       "       '1359x768', '1092x614', '2048x1278', '2591x1619', '4200x2625',\n",
       "       '2710x1440', '1272x960', '1023x768', '3838x2160', '2100x1312',\n",
       "       '1360x767', '1024x819', '1502x845', '2561x1442', '2559x1440',\n",
       "       '2160x1081', '1920x1279', '2160x1080', '1596x710', '1496x844',\n",
       "       '1280x900'], dtype=object)"
      ]
     },
     "execution_count": 162,
     "metadata": {},
     "output_type": "execute_result"
    }
   ],
   "source": [
    "df2['id_33'].fillna('unknown',inplace=True)\n",
    "df2['id_33'].unique()"
   ]
  },
  {
   "cell_type": "code",
   "execution_count": 163,
   "metadata": {},
   "outputs": [
    {
     "data": {
      "text/plain": [
       "array(['match_status:2', 'match_status:1', nan, 'match_status:0',\n",
       "       'match_status:-1'], dtype=object)"
      ]
     },
     "execution_count": 163,
     "metadata": {},
     "output_type": "execute_result"
    }
   ],
   "source": [
    "df2['id_34'].unique()"
   ]
  },
  {
   "cell_type": "code",
   "execution_count": 164,
   "metadata": {},
   "outputs": [
    {
     "data": {
      "text/plain": [
       "array(['match_status:2', 'match_status:1', 'unknown', 'match_status:0',\n",
       "       'match_status:-1'], dtype=object)"
      ]
     },
     "execution_count": 164,
     "metadata": {},
     "output_type": "execute_result"
    }
   ],
   "source": [
    "df2['id_34'].fillna('unknown',inplace=True)\n",
    "df2['id_34'].unique()"
   ]
  },
  {
   "cell_type": "code",
   "execution_count": 165,
   "metadata": {},
   "outputs": [
    {
     "data": {
      "text/plain": [
       "array(['T', 'F', nan], dtype=object)"
      ]
     },
     "execution_count": 165,
     "metadata": {},
     "output_type": "execute_result"
    }
   ],
   "source": [
    "df2['id_35'].unique()"
   ]
  },
  {
   "cell_type": "code",
   "execution_count": 166,
   "metadata": {},
   "outputs": [
    {
     "data": {
      "text/plain": [
       "array(['T', 'F', 'unknown'], dtype=object)"
      ]
     },
     "execution_count": 166,
     "metadata": {},
     "output_type": "execute_result"
    }
   ],
   "source": [
    "df2['id_35'].fillna('unknown',inplace=True)\n",
    "df2['id_35'].unique()"
   ]
  },
  {
   "cell_type": "code",
   "execution_count": 167,
   "metadata": {},
   "outputs": [
    {
     "data": {
      "text/plain": [
       "array(['F', nan, 'T'], dtype=object)"
      ]
     },
     "execution_count": 167,
     "metadata": {},
     "output_type": "execute_result"
    }
   ],
   "source": [
    "df2['id_36'].unique()"
   ]
  },
  {
   "cell_type": "code",
   "execution_count": 168,
   "metadata": {},
   "outputs": [
    {
     "data": {
      "text/plain": [
       "array(['F', 'unknown', 'T'], dtype=object)"
      ]
     },
     "execution_count": 168,
     "metadata": {},
     "output_type": "execute_result"
    }
   ],
   "source": [
    "df2['id_36'].fillna('unknown',inplace=True)\n",
    "df2['id_36'].unique()"
   ]
  },
  {
   "cell_type": "code",
   "execution_count": 169,
   "metadata": {},
   "outputs": [
    {
     "data": {
      "text/plain": [
       "array(['T', 'F', nan], dtype=object)"
      ]
     },
     "execution_count": 169,
     "metadata": {},
     "output_type": "execute_result"
    }
   ],
   "source": [
    "df2['id_37'].unique()"
   ]
  },
  {
   "cell_type": "code",
   "execution_count": 170,
   "metadata": {},
   "outputs": [
    {
     "data": {
      "text/plain": [
       "array(['T', 'F', 'unknown'], dtype=object)"
      ]
     },
     "execution_count": 170,
     "metadata": {},
     "output_type": "execute_result"
    }
   ],
   "source": [
    "df2['id_37'].fillna('unknown',inplace=True)\n",
    "df2['id_37'].unique()"
   ]
  },
  {
   "cell_type": "code",
   "execution_count": 171,
   "metadata": {},
   "outputs": [
    {
     "data": {
      "text/plain": [
       "array(['T', nan, 'F'], dtype=object)"
      ]
     },
     "execution_count": 171,
     "metadata": {},
     "output_type": "execute_result"
    }
   ],
   "source": [
    "df2['id_38'].unique()"
   ]
  },
  {
   "cell_type": "code",
   "execution_count": 172,
   "metadata": {},
   "outputs": [
    {
     "data": {
      "text/plain": [
       "array(['T', 'unknown', 'F'], dtype=object)"
      ]
     },
     "execution_count": 172,
     "metadata": {},
     "output_type": "execute_result"
    }
   ],
   "source": [
    "df2['id_38'].fillna('unknown',inplace=True)\n",
    "df2['id_38'].unique()"
   ]
  },
  {
   "cell_type": "code",
   "execution_count": 173,
   "metadata": {},
   "outputs": [
    {
     "data": {
      "text/plain": [
       "array(['SAMSUNG SM-G892A Build/NRD90M', 'iOS Device', 'Windows', ...,\n",
       "       'LDN-LX3 Build/HUAWEILDN-LX3', 'Z955A', 'LG-E975'], dtype=object)"
      ]
     },
     "execution_count": 173,
     "metadata": {},
     "output_type": "execute_result"
    }
   ],
   "source": [
    "df2['DeviceInfo'].unique()"
   ]
  },
  {
   "cell_type": "code",
   "execution_count": 174,
   "metadata": {
    "scrolled": true
   },
   "outputs": [
    {
     "data": {
      "image/png": "[encoded data removed]",
      "text/plain": [
       "<Figure size 1080x360 with 1 Axes>"
      ]
     },
     "metadata": {
      "needs_background": "light"
     },
     "output_type": "display_data"
    }
   ],
   "source": [
    "df2.groupby('DeviceInfo') \\\n",
    "    .count()['TransactionID'] \\\n",
    "    .sort_values(ascending=False) \\\n",
    "    .head(20) \\\n",
    "    .plot(kind='barh', figsize=(15, 5), title='Top 20 Devices in Train')\n",
    "plt.show()"
   ]
  },
  {
   "cell_type": "code",
   "execution_count": 175,
   "metadata": {},
   "outputs": [],
   "source": [
    "df2['device_name'] = df2['DeviceInfo'].str.split('/', expand=True)[0]\n",
    "df2.loc[df2['DeviceInfo'].str.contains('SM', na=False), 'device_name'] = 'Samsung' \n",
    "df2.loc[df2['DeviceInfo'].str.contains('SAMSUNG', na=False), 'device_name'] = 'Samsung' \n",
    "df2.loc[df2['DeviceInfo'].str.contains('GT-', na=False), 'device_name'] = 'Samsung' \n",
    "df2.loc[df2['DeviceInfo'].str.contains('Moto G', na=False), 'device_name'] = 'Motorola' \n",
    "df2.loc[df2['DeviceInfo'].str.contains('Moto', na=False), 'device_name'] = 'Motorola' \n",
    "df2.loc[df2['DeviceInfo'].str.contains('moto', na=False), 'device_name'] = 'Motorola' \n",
    "df2.loc[df2['DeviceInfo'].str.contains('LG-', na=False), 'device_name'] = 'LG' \n",
    "df2.loc[df2['DeviceInfo'].str.contains('rv:', na=False), 'device_name'] = 'RV' \n",
    "df2.loc[df2['DeviceInfo'].str.contains('HUAWEI', na=False), 'device_name'] = 'Huawei' \n",
    "df2.loc[df2['DeviceInfo'].str.contains('ALE-', na=False), 'device_name'] = 'Huawei' \n",
    "df2.loc[df2['DeviceInfo'].str.contains('-L', na=False), 'device_name'] = 'Huawei' \n",
    "df2.loc[df2['DeviceInfo'].str.contains('Blade', na=False), 'device_name'] = 'ZTE' \n",
    "df2.loc[df2['DeviceInfo'].str.contains('BLADE', na=False), 'device_name']= 'ZTE' \n",
    "df2.loc[df2['DeviceInfo'].str.contains('Linux', na=False), 'device_name'] = 'Linux' \n",
    "df2.loc[df2['DeviceInfo'].str.contains('XT', na=False), 'device_name'] = 'Sony' \n",
    "df2.loc[df2['DeviceInfo'].str.contains('HTC', na=False), 'device_name'] = 'HTC' \n",
    "df2.loc[df2['DeviceInfo'].str.contains('ASUS', na=False), 'device_name'] = 'Asus'\n",
    "df2.loc[df2.device_name.isin(df2.device_name.value_counts()[df2.device_name.value_counts() < 200].index), 'device_name'] = \"Others\""
   ]
  },
  {
   "cell_type": "code",
   "execution_count": 176,
   "metadata": {},
   "outputs": [
    {
     "data": {
      "image/png": "[encoded data removed]",
      "text/plain": [
       "<Figure size 1080x360 with 1 Axes>"
      ]
     },
     "metadata": {
      "needs_background": "light"
     },
     "output_type": "display_data"
    }
   ],
   "source": [
    "df2.groupby('device_name') \\\n",
    "    .count()['TransactionID'] \\\n",
    "    .sort_values(ascending=False) \\\n",
    "    .head(20) \\\n",
    "    .plot(kind='barh', figsize=(15, 5), title='Top 20 Devices in Train')\n",
    "plt.show()"
   ]
  },
  {
   "cell_type": "code",
   "execution_count": 177,
   "metadata": {},
   "outputs": [
    {
     "data": {
      "text/plain": [
       "array(['Samsung', 'iOS Device', 'Windows', nan, 'MacOS', 'ZTE', 'Sony',\n",
       "       'Others', 'RV', 'LG', 'Trident', 'Huawei', 'Motorola', 'HTC'],\n",
       "      dtype=object)"
      ]
     },
     "execution_count": 177,
     "metadata": {},
     "output_type": "execute_result"
    }
   ],
   "source": [
    "df2['device_name'].unique()"
   ]
  },
  {
   "cell_type": "code",
   "execution_count": 178,
   "metadata": {},
   "outputs": [],
   "source": [
    "# Top 10 to 1~10 and other to 11\n",
    "df2['device_name'] = df2['device_name'].replace(['Windows'],1)\n",
    "df2['device_name'] = df2['device_name'].replace(['iOS Device'],2)\n",
    "df2['device_name'] = df2['device_name'].replace(['MacOS'],3)\n",
    "df2['device_name'] = df2['device_name'].replace(['Samsung'],4)\n",
    "df2['device_name'] = df2['device_name'].replace(['Trident'],5)\n",
    "df2['device_name'] = df2['device_name'].replace(['RV'],6)\n",
    "df2['device_name'] = df2['device_name'].replace(['Moyotola'],7)\n",
    "df2['device_name'] = df2['device_name'].replace(['Huawei'],8)\n",
    "df2['device_name'] = df2['device_name'].replace(['Lg'],9)\n",
    "df2['device_name'] = df2['device_name'].replace(['Sony'],10)"
   ]
  },
  {
   "cell_type": "code",
   "execution_count": 179,
   "metadata": {},
   "outputs": [],
   "source": [
    "df2['device_name'] = np.where(df2['device_name'].isin([1,2,3,4,5,6,7,8,9,10]), df2['device_name'], 'Other')"
   ]
  },
  {
   "cell_type": "code",
   "execution_count": 180,
   "metadata": {},
   "outputs": [],
   "source": [
    "df2['device_name'] = df2['device_name'].replace(['Other'],11)"
   ]
  },
  {
   "cell_type": "code",
   "execution_count": 181,
   "metadata": {},
   "outputs": [],
   "source": [
    "del df2['DeviceInfo'] # device_name column replaces Device_info col"
   ]
  },
  {
   "cell_type": "code",
   "execution_count": 182,
   "metadata": {},
   "outputs": [
    {
     "data": {
      "text/html": [
       "<div>\n",
       "<style scoped>\n",
       "    .dataframe tbody tr th:only-of-type {\n",
       "        vertical-align: middle;\n",
       "    }\n",
       "\n",
       "    .dataframe tbody tr th {\n",
       "        vertical-align: top;\n",
       "    }\n",
       "\n",
       "    .dataframe thead th {\n",
       "        text-align: right;\n",
       "    }\n",
       "</style>\n",
       "<table border=\"1\" class=\"dataframe\">\n",
       "  <thead>\n",
       "    <tr style=\"text-align: right;\">\n",
       "      <th></th>\n",
       "      <th>TransactionID</th>\n",
       "      <th>id_01</th>\n",
       "      <th>id_02</th>\n",
       "      <th>id_03</th>\n",
       "      <th>id_04</th>\n",
       "      <th>id_05</th>\n",
       "      <th>id_06</th>\n",
       "      <th>id_07</th>\n",
       "      <th>id_08</th>\n",
       "      <th>id_09</th>\n",
       "      <th>...</th>\n",
       "      <th>id_31</th>\n",
       "      <th>id_32</th>\n",
       "      <th>id_33</th>\n",
       "      <th>id_34</th>\n",
       "      <th>id_35</th>\n",
       "      <th>id_36</th>\n",
       "      <th>id_37</th>\n",
       "      <th>id_38</th>\n",
       "      <th>DeviceType</th>\n",
       "      <th>device_name</th>\n",
       "    </tr>\n",
       "  </thead>\n",
       "  <tbody>\n",
       "    <tr>\n",
       "      <th>0</th>\n",
       "      <td>2987004</td>\n",
       "      <td>0.0</td>\n",
       "      <td>70787.0</td>\n",
       "      <td>NaN</td>\n",
       "      <td>NaN</td>\n",
       "      <td>NaN</td>\n",
       "      <td>NaN</td>\n",
       "      <td>NaN</td>\n",
       "      <td>NaN</td>\n",
       "      <td>NaN</td>\n",
       "      <td>...</td>\n",
       "      <td>6</td>\n",
       "      <td>32</td>\n",
       "      <td>2220x1080</td>\n",
       "      <td>match_status:2</td>\n",
       "      <td>T</td>\n",
       "      <td>F</td>\n",
       "      <td>T</td>\n",
       "      <td>T</td>\n",
       "      <td>mobile</td>\n",
       "      <td>4</td>\n",
       "    </tr>\n",
       "    <tr>\n",
       "      <th>1</th>\n",
       "      <td>2987008</td>\n",
       "      <td>-5.0</td>\n",
       "      <td>98945.0</td>\n",
       "      <td>NaN</td>\n",
       "      <td>NaN</td>\n",
       "      <td>0.0</td>\n",
       "      <td>-5.0</td>\n",
       "      <td>NaN</td>\n",
       "      <td>NaN</td>\n",
       "      <td>NaN</td>\n",
       "      <td>...</td>\n",
       "      <td>2</td>\n",
       "      <td>32</td>\n",
       "      <td>1334x750</td>\n",
       "      <td>match_status:1</td>\n",
       "      <td>T</td>\n",
       "      <td>F</td>\n",
       "      <td>F</td>\n",
       "      <td>T</td>\n",
       "      <td>mobile</td>\n",
       "      <td>2</td>\n",
       "    </tr>\n",
       "    <tr>\n",
       "      <th>2</th>\n",
       "      <td>2987010</td>\n",
       "      <td>-5.0</td>\n",
       "      <td>191631.0</td>\n",
       "      <td>0.0</td>\n",
       "      <td>0.0</td>\n",
       "      <td>0.0</td>\n",
       "      <td>0.0</td>\n",
       "      <td>NaN</td>\n",
       "      <td>NaN</td>\n",
       "      <td>0.0</td>\n",
       "      <td>...</td>\n",
       "      <td>1</td>\n",
       "      <td>unknown</td>\n",
       "      <td>unknown</td>\n",
       "      <td>unknown</td>\n",
       "      <td>F</td>\n",
       "      <td>F</td>\n",
       "      <td>T</td>\n",
       "      <td>T</td>\n",
       "      <td>desktop</td>\n",
       "      <td>1</td>\n",
       "    </tr>\n",
       "    <tr>\n",
       "      <th>3</th>\n",
       "      <td>2987011</td>\n",
       "      <td>-5.0</td>\n",
       "      <td>221832.0</td>\n",
       "      <td>NaN</td>\n",
       "      <td>NaN</td>\n",
       "      <td>0.0</td>\n",
       "      <td>-6.0</td>\n",
       "      <td>NaN</td>\n",
       "      <td>NaN</td>\n",
       "      <td>NaN</td>\n",
       "      <td>...</td>\n",
       "      <td>1</td>\n",
       "      <td>unknown</td>\n",
       "      <td>unknown</td>\n",
       "      <td>unknown</td>\n",
       "      <td>F</td>\n",
       "      <td>F</td>\n",
       "      <td>T</td>\n",
       "      <td>T</td>\n",
       "      <td>desktop</td>\n",
       "      <td>11</td>\n",
       "    </tr>\n",
       "    <tr>\n",
       "      <th>4</th>\n",
       "      <td>2987016</td>\n",
       "      <td>0.0</td>\n",
       "      <td>7460.0</td>\n",
       "      <td>0.0</td>\n",
       "      <td>0.0</td>\n",
       "      <td>1.0</td>\n",
       "      <td>0.0</td>\n",
       "      <td>NaN</td>\n",
       "      <td>NaN</td>\n",
       "      <td>0.0</td>\n",
       "      <td>...</td>\n",
       "      <td>1</td>\n",
       "      <td>24</td>\n",
       "      <td>1280x800</td>\n",
       "      <td>match_status:2</td>\n",
       "      <td>T</td>\n",
       "      <td>F</td>\n",
       "      <td>T</td>\n",
       "      <td>T</td>\n",
       "      <td>desktop</td>\n",
       "      <td>3</td>\n",
       "    </tr>\n",
       "  </tbody>\n",
       "</table>\n",
       "<p>5 rows × 41 columns</p>\n",
       "</div>"
      ],
      "text/plain": [
       "   TransactionID  id_01     id_02  id_03  id_04  id_05  id_06  id_07  id_08  \\\n",
       "0        2987004    0.0   70787.0    NaN    NaN    NaN    NaN    NaN    NaN   \n",
       "1        2987008   -5.0   98945.0    NaN    NaN    0.0   -5.0    NaN    NaN   \n",
       "2        2987010   -5.0  191631.0    0.0    0.0    0.0    0.0    NaN    NaN   \n",
       "3        2987011   -5.0  221832.0    NaN    NaN    0.0   -6.0    NaN    NaN   \n",
       "4        2987016    0.0    7460.0    0.0    0.0    1.0    0.0    NaN    NaN   \n",
       "\n",
       "   id_09  ...  id_31    id_32      id_33           id_34  id_35 id_36 id_37  \\\n",
       "0    NaN  ...      6       32  2220x1080  match_status:2      T     F     T   \n",
       "1    NaN  ...      2       32   1334x750  match_status:1      T     F     F   \n",
       "2    0.0  ...      1  unknown    unknown         unknown      F     F     T   \n",
       "3    NaN  ...      1  unknown    unknown         unknown      F     F     T   \n",
       "4    0.0  ...      1       24   1280x800  match_status:2      T     F     T   \n",
       "\n",
       "  id_38 DeviceType device_name  \n",
       "0     T     mobile           4  \n",
       "1     T     mobile           2  \n",
       "2     T    desktop           1  \n",
       "3     T    desktop          11  \n",
       "4     T    desktop           3  \n",
       "\n",
       "[5 rows x 41 columns]"
      ]
     },
     "execution_count": 182,
     "metadata": {},
     "output_type": "execute_result"
    }
   ],
   "source": [
    "df2.head()"
   ]
  },
  {
   "cell_type": "code",
   "execution_count": 183,
   "metadata": {},
   "outputs": [
    {
     "data": {
      "text/plain": [
       "array(['mobile', 'desktop', nan], dtype=object)"
      ]
     },
     "execution_count": 183,
     "metadata": {},
     "output_type": "execute_result"
    }
   ],
   "source": [
    "df2['DeviceType'].unique()"
   ]
  },
  {
   "cell_type": "code",
   "execution_count": 184,
   "metadata": {},
   "outputs": [
    {
     "data": {
      "text/plain": [
       "array(['mobile', 'desktop', 'unknown'], dtype=object)"
      ]
     },
     "execution_count": 184,
     "metadata": {},
     "output_type": "execute_result"
    }
   ],
   "source": [
    "df2['DeviceType'].fillna('unknown',inplace=True)\n",
    "df2['DeviceType'].unique()"
   ]
  },
  {
   "cell_type": "code",
   "execution_count": 185,
   "metadata": {},
   "outputs": [],
   "source": [
    "df2['id_12'] = df2['id_12'].astype('category')\n",
    "df2['id_13'] = df2['id_13'].astype('category')\n",
    "df2['id_14'] = df2['id_14'].astype('category')\n",
    "df2['id_15'] = df2['id_15'].astype('category')\n",
    "df2['id_16'] = df2['id_16'].astype('category')\n",
    "df2['id_17'] = df2['id_17'].astype('category')\n",
    "df2['id_18'] = df2['id_18'].astype('category')\n",
    "df2['id_19'] = df2['id_19'].astype('category')\n",
    "df2['id_20'] = df2['id_20'].astype('category')\n",
    "df2['id_21'] = df2['id_21'].astype('category')\n",
    "df2['id_22'] = df2['id_22'].astype('category')\n",
    "df2['id_23'] = df2['id_23'].astype('category')\n",
    "df2['id_24'] = df2['id_24'].astype('category')\n",
    "df2['id_25'] = df2['id_25'].astype('category')\n",
    "df2['id_26'] = df2['id_26'].astype('category')\n",
    "df2['id_27'] = df2['id_27'].astype('category')\n",
    "df2['id_28'] = df2['id_28'].astype('category')\n",
    "df2['id_29'] = df2['id_29'].astype('category')\n",
    "df2['id_32'] = df2['id_32'].astype('category')\n",
    "df2['id_33'] = df2['id_33'].astype('category')\n",
    "df2['id_34'] = df2['id_34'].astype('category')\n",
    "df2['id_35'] = df2['id_35'].astype('category')\n",
    "df2['id_36'] = df2['id_36'].astype('category')\n",
    "df2['id_37'] = df2['id_37'].astype('category')\n",
    "df2['id_38'] = df2['id_38'].astype('category')\n",
    "df2['DeviceType'] = df2['DeviceType'].astype('category')\n"
   ]
  },
  {
   "cell_type": "code",
   "execution_count": 186,
   "metadata": {},
   "outputs": [],
   "source": [
    "cat_columns = df2.select_dtypes(['category']).columns"
   ]
  },
  {
   "cell_type": "code",
   "execution_count": 187,
   "metadata": {},
   "outputs": [],
   "source": [
    "df2[cat_columns] = df2[cat_columns].apply(lambda x: x.cat.codes)"
   ]
  },
  {
   "cell_type": "code",
   "execution_count": 188,
   "metadata": {},
   "outputs": [],
   "source": [
    "df2 = df2.fillna(df2.median()) "
   ]
  },
  {
   "cell_type": "code",
   "execution_count": 189,
   "metadata": {},
   "outputs": [
    {
     "data": {
      "text/html": [
       "<div>\n",
       "<style scoped>\n",
       "    .dataframe tbody tr th:only-of-type {\n",
       "        vertical-align: middle;\n",
       "    }\n",
       "\n",
       "    .dataframe tbody tr th {\n",
       "        vertical-align: top;\n",
       "    }\n",
       "\n",
       "    .dataframe thead th {\n",
       "        text-align: right;\n",
       "    }\n",
       "</style>\n",
       "<table border=\"1\" class=\"dataframe\">\n",
       "  <thead>\n",
       "    <tr style=\"text-align: right;\">\n",
       "      <th></th>\n",
       "      <th>TransactionID</th>\n",
       "      <th>id_01</th>\n",
       "      <th>id_02</th>\n",
       "      <th>id_03</th>\n",
       "      <th>id_04</th>\n",
       "      <th>id_05</th>\n",
       "      <th>id_06</th>\n",
       "      <th>id_07</th>\n",
       "      <th>id_08</th>\n",
       "      <th>id_09</th>\n",
       "      <th>...</th>\n",
       "      <th>id_31</th>\n",
       "      <th>id_32</th>\n",
       "      <th>id_33</th>\n",
       "      <th>id_34</th>\n",
       "      <th>id_35</th>\n",
       "      <th>id_36</th>\n",
       "      <th>id_37</th>\n",
       "      <th>id_38</th>\n",
       "      <th>DeviceType</th>\n",
       "      <th>device_name</th>\n",
       "    </tr>\n",
       "  </thead>\n",
       "  <tbody>\n",
       "    <tr>\n",
       "      <th>0</th>\n",
       "      <td>2987004</td>\n",
       "      <td>0.0</td>\n",
       "      <td>70787.0</td>\n",
       "      <td>0.0</td>\n",
       "      <td>0.0</td>\n",
       "      <td>0.0</td>\n",
       "      <td>0.0</td>\n",
       "      <td>14.0</td>\n",
       "      <td>-34.0</td>\n",
       "      <td>0.0</td>\n",
       "      <td>...</td>\n",
       "      <td>6</td>\n",
       "      <td>3</td>\n",
       "      <td>164</td>\n",
       "      <td>3</td>\n",
       "      <td>1</td>\n",
       "      <td>0</td>\n",
       "      <td>1</td>\n",
       "      <td>1</td>\n",
       "      <td>1</td>\n",
       "      <td>4</td>\n",
       "    </tr>\n",
       "    <tr>\n",
       "      <th>1</th>\n",
       "      <td>2987008</td>\n",
       "      <td>-5.0</td>\n",
       "      <td>98945.0</td>\n",
       "      <td>0.0</td>\n",
       "      <td>0.0</td>\n",
       "      <td>0.0</td>\n",
       "      <td>-5.0</td>\n",
       "      <td>14.0</td>\n",
       "      <td>-34.0</td>\n",
       "      <td>0.0</td>\n",
       "      <td>...</td>\n",
       "      <td>2</td>\n",
       "      <td>3</td>\n",
       "      <td>48</td>\n",
       "      <td>2</td>\n",
       "      <td>1</td>\n",
       "      <td>0</td>\n",
       "      <td>0</td>\n",
       "      <td>1</td>\n",
       "      <td>1</td>\n",
       "      <td>2</td>\n",
       "    </tr>\n",
       "    <tr>\n",
       "      <th>2</th>\n",
       "      <td>2987010</td>\n",
       "      <td>-5.0</td>\n",
       "      <td>191631.0</td>\n",
       "      <td>0.0</td>\n",
       "      <td>0.0</td>\n",
       "      <td>0.0</td>\n",
       "      <td>0.0</td>\n",
       "      <td>14.0</td>\n",
       "      <td>-34.0</td>\n",
       "      <td>0.0</td>\n",
       "      <td>...</td>\n",
       "      <td>1</td>\n",
       "      <td>4</td>\n",
       "      <td>260</td>\n",
       "      <td>4</td>\n",
       "      <td>0</td>\n",
       "      <td>0</td>\n",
       "      <td>1</td>\n",
       "      <td>1</td>\n",
       "      <td>0</td>\n",
       "      <td>1</td>\n",
       "    </tr>\n",
       "    <tr>\n",
       "      <th>3</th>\n",
       "      <td>2987011</td>\n",
       "      <td>-5.0</td>\n",
       "      <td>221832.0</td>\n",
       "      <td>0.0</td>\n",
       "      <td>0.0</td>\n",
       "      <td>0.0</td>\n",
       "      <td>-6.0</td>\n",
       "      <td>14.0</td>\n",
       "      <td>-34.0</td>\n",
       "      <td>0.0</td>\n",
       "      <td>...</td>\n",
       "      <td>1</td>\n",
       "      <td>4</td>\n",
       "      <td>260</td>\n",
       "      <td>4</td>\n",
       "      <td>0</td>\n",
       "      <td>0</td>\n",
       "      <td>1</td>\n",
       "      <td>1</td>\n",
       "      <td>0</td>\n",
       "      <td>11</td>\n",
       "    </tr>\n",
       "    <tr>\n",
       "      <th>4</th>\n",
       "      <td>2987016</td>\n",
       "      <td>0.0</td>\n",
       "      <td>7460.0</td>\n",
       "      <td>0.0</td>\n",
       "      <td>0.0</td>\n",
       "      <td>1.0</td>\n",
       "      <td>0.0</td>\n",
       "      <td>14.0</td>\n",
       "      <td>-34.0</td>\n",
       "      <td>0.0</td>\n",
       "      <td>...</td>\n",
       "      <td>1</td>\n",
       "      <td>2</td>\n",
       "      <td>40</td>\n",
       "      <td>3</td>\n",
       "      <td>1</td>\n",
       "      <td>0</td>\n",
       "      <td>1</td>\n",
       "      <td>1</td>\n",
       "      <td>0</td>\n",
       "      <td>3</td>\n",
       "    </tr>\n",
       "  </tbody>\n",
       "</table>\n",
       "<p>5 rows × 41 columns</p>\n",
       "</div>"
      ],
      "text/plain": [
       "   TransactionID  id_01     id_02  id_03  id_04  id_05  id_06  id_07  id_08  \\\n",
       "0        2987004    0.0   70787.0    0.0    0.0    0.0    0.0   14.0  -34.0   \n",
       "1        2987008   -5.0   98945.0    0.0    0.0    0.0   -5.0   14.0  -34.0   \n",
       "2        2987010   -5.0  191631.0    0.0    0.0    0.0    0.0   14.0  -34.0   \n",
       "3        2987011   -5.0  221832.0    0.0    0.0    0.0   -6.0   14.0  -34.0   \n",
       "4        2987016    0.0    7460.0    0.0    0.0    1.0    0.0   14.0  -34.0   \n",
       "\n",
       "   id_09  ...  id_31  id_32  id_33  id_34  id_35  id_36  id_37  id_38  \\\n",
       "0    0.0  ...      6      3    164      3      1      0      1      1   \n",
       "1    0.0  ...      2      3     48      2      1      0      0      1   \n",
       "2    0.0  ...      1      4    260      4      0      0      1      1   \n",
       "3    0.0  ...      1      4    260      4      0      0      1      1   \n",
       "4    0.0  ...      1      2     40      3      1      0      1      1   \n",
       "\n",
       "   DeviceType  device_name  \n",
       "0           1            4  \n",
       "1           1            2  \n",
       "2           0            1  \n",
       "3           0           11  \n",
       "4           0            3  \n",
       "\n",
       "[5 rows x 41 columns]"
      ]
     },
     "execution_count": 189,
     "metadata": {},
     "output_type": "execute_result"
    }
   ],
   "source": [
    "df2.head()"
   ]
  },
  {
   "cell_type": "code",
   "execution_count": 190,
   "metadata": {},
   "outputs": [
    {
     "name": "stdout",
     "output_type": "stream",
     "text": [
      "590540 590540\n",
      "144233 144233\n"
     ]
    }
   ],
   "source": [
    "print(df['TransactionID'].nunique(), df.shape[0])\n",
    "print(df2['TransactionID'].nunique(), df2.shape[0])"
   ]
  },
  {
   "cell_type": "markdown",
   "metadata": {},
   "source": [
    "# Merge two dataframes (Train Transaction & Train Identity)"
   ]
  },
  {
   "cell_type": "code",
   "execution_count": 191,
   "metadata": {},
   "outputs": [],
   "source": [
    "df = pd.merge(df, df2, on='TransactionID')"
   ]
  },
  {
   "cell_type": "code",
   "execution_count": 192,
   "metadata": {
    "scrolled": true
   },
   "outputs": [
    {
     "data": {
      "text/html": [
       "<div>\n",
       "<style scoped>\n",
       "    .dataframe tbody tr th:only-of-type {\n",
       "        vertical-align: middle;\n",
       "    }\n",
       "\n",
       "    .dataframe tbody tr th {\n",
       "        vertical-align: top;\n",
       "    }\n",
       "\n",
       "    .dataframe thead th {\n",
       "        text-align: right;\n",
       "    }\n",
       "</style>\n",
       "<table border=\"1\" class=\"dataframe\">\n",
       "  <thead>\n",
       "    <tr style=\"text-align: right;\">\n",
       "      <th></th>\n",
       "      <th>TransactionID</th>\n",
       "      <th>isFraud</th>\n",
       "      <th>TransactionDT</th>\n",
       "      <th>TransactionAmt</th>\n",
       "      <th>ProductCD</th>\n",
       "      <th>card1</th>\n",
       "      <th>card2</th>\n",
       "      <th>card3</th>\n",
       "      <th>card4</th>\n",
       "      <th>card5</th>\n",
       "      <th>...</th>\n",
       "      <th>id_31</th>\n",
       "      <th>id_32</th>\n",
       "      <th>id_33</th>\n",
       "      <th>id_34</th>\n",
       "      <th>id_35</th>\n",
       "      <th>id_36</th>\n",
       "      <th>id_37</th>\n",
       "      <th>id_38</th>\n",
       "      <th>DeviceType</th>\n",
       "      <th>device_name</th>\n",
       "    </tr>\n",
       "  </thead>\n",
       "  <tbody>\n",
       "    <tr>\n",
       "      <th>0</th>\n",
       "      <td>2987004</td>\n",
       "      <td>0</td>\n",
       "      <td>86506</td>\n",
       "      <td>50.000</td>\n",
       "      <td>1</td>\n",
       "      <td>2712</td>\n",
       "      <td>413</td>\n",
       "      <td>42</td>\n",
       "      <td>2</td>\n",
       "      <td>2</td>\n",
       "      <td>...</td>\n",
       "      <td>6</td>\n",
       "      <td>3</td>\n",
       "      <td>164</td>\n",
       "      <td>3</td>\n",
       "      <td>1</td>\n",
       "      <td>0</td>\n",
       "      <td>1</td>\n",
       "      <td>1</td>\n",
       "      <td>1</td>\n",
       "      <td>4</td>\n",
       "    </tr>\n",
       "    <tr>\n",
       "      <th>1</th>\n",
       "      <td>2987008</td>\n",
       "      <td>0</td>\n",
       "      <td>86535</td>\n",
       "      <td>15.000</td>\n",
       "      <td>1</td>\n",
       "      <td>1412</td>\n",
       "      <td>0</td>\n",
       "      <td>42</td>\n",
       "      <td>4</td>\n",
       "      <td>108</td>\n",
       "      <td>...</td>\n",
       "      <td>2</td>\n",
       "      <td>3</td>\n",
       "      <td>48</td>\n",
       "      <td>2</td>\n",
       "      <td>1</td>\n",
       "      <td>0</td>\n",
       "      <td>0</td>\n",
       "      <td>1</td>\n",
       "      <td>1</td>\n",
       "      <td>2</td>\n",
       "    </tr>\n",
       "    <tr>\n",
       "      <th>2</th>\n",
       "      <td>2987010</td>\n",
       "      <td>0</td>\n",
       "      <td>86549</td>\n",
       "      <td>75.887</td>\n",
       "      <td>0</td>\n",
       "      <td>12071</td>\n",
       "      <td>251</td>\n",
       "      <td>11</td>\n",
       "      <td>2</td>\n",
       "      <td>30</td>\n",
       "      <td>...</td>\n",
       "      <td>1</td>\n",
       "      <td>4</td>\n",
       "      <td>260</td>\n",
       "      <td>4</td>\n",
       "      <td>0</td>\n",
       "      <td>0</td>\n",
       "      <td>1</td>\n",
       "      <td>1</td>\n",
       "      <td>0</td>\n",
       "      <td>1</td>\n",
       "    </tr>\n",
       "    <tr>\n",
       "      <th>3</th>\n",
       "      <td>2987011</td>\n",
       "      <td>0</td>\n",
       "      <td>86555</td>\n",
       "      <td>16.495</td>\n",
       "      <td>0</td>\n",
       "      <td>2684</td>\n",
       "      <td>274</td>\n",
       "      <td>73</td>\n",
       "      <td>2</td>\n",
       "      <td>106</td>\n",
       "      <td>...</td>\n",
       "      <td>1</td>\n",
       "      <td>4</td>\n",
       "      <td>260</td>\n",
       "      <td>4</td>\n",
       "      <td>0</td>\n",
       "      <td>0</td>\n",
       "      <td>1</td>\n",
       "      <td>1</td>\n",
       "      <td>0</td>\n",
       "      <td>11</td>\n",
       "    </tr>\n",
       "    <tr>\n",
       "      <th>4</th>\n",
       "      <td>2987016</td>\n",
       "      <td>0</td>\n",
       "      <td>86620</td>\n",
       "      <td>30.000</td>\n",
       "      <td>1</td>\n",
       "      <td>631</td>\n",
       "      <td>454</td>\n",
       "      <td>42</td>\n",
       "      <td>4</td>\n",
       "      <td>108</td>\n",
       "      <td>...</td>\n",
       "      <td>1</td>\n",
       "      <td>2</td>\n",
       "      <td>40</td>\n",
       "      <td>3</td>\n",
       "      <td>1</td>\n",
       "      <td>0</td>\n",
       "      <td>1</td>\n",
       "      <td>1</td>\n",
       "      <td>0</td>\n",
       "      <td>3</td>\n",
       "    </tr>\n",
       "    <tr>\n",
       "      <th>...</th>\n",
       "      <td>...</td>\n",
       "      <td>...</td>\n",
       "      <td>...</td>\n",
       "      <td>...</td>\n",
       "      <td>...</td>\n",
       "      <td>...</td>\n",
       "      <td>...</td>\n",
       "      <td>...</td>\n",
       "      <td>...</td>\n",
       "      <td>...</td>\n",
       "      <td>...</td>\n",
       "      <td>...</td>\n",
       "      <td>...</td>\n",
       "      <td>...</td>\n",
       "      <td>...</td>\n",
       "      <td>...</td>\n",
       "      <td>...</td>\n",
       "      <td>...</td>\n",
       "      <td>...</td>\n",
       "      <td>...</td>\n",
       "      <td>...</td>\n",
       "    </tr>\n",
       "    <tr>\n",
       "      <th>144228</th>\n",
       "      <td>3577521</td>\n",
       "      <td>0</td>\n",
       "      <td>15810802</td>\n",
       "      <td>48.877</td>\n",
       "      <td>0</td>\n",
       "      <td>8606</td>\n",
       "      <td>204</td>\n",
       "      <td>4</td>\n",
       "      <td>2</td>\n",
       "      <td>106</td>\n",
       "      <td>...</td>\n",
       "      <td>1</td>\n",
       "      <td>4</td>\n",
       "      <td>260</td>\n",
       "      <td>4</td>\n",
       "      <td>0</td>\n",
       "      <td>0</td>\n",
       "      <td>1</td>\n",
       "      <td>0</td>\n",
       "      <td>1</td>\n",
       "      <td>11</td>\n",
       "    </tr>\n",
       "    <tr>\n",
       "      <th>144229</th>\n",
       "      <td>3577526</td>\n",
       "      <td>1</td>\n",
       "      <td>15810876</td>\n",
       "      <td>250.000</td>\n",
       "      <td>2</td>\n",
       "      <td>172</td>\n",
       "      <td>73</td>\n",
       "      <td>42</td>\n",
       "      <td>4</td>\n",
       "      <td>108</td>\n",
       "      <td>...</td>\n",
       "      <td>1</td>\n",
       "      <td>3</td>\n",
       "      <td>255</td>\n",
       "      <td>3</td>\n",
       "      <td>1</td>\n",
       "      <td>0</td>\n",
       "      <td>1</td>\n",
       "      <td>0</td>\n",
       "      <td>1</td>\n",
       "      <td>11</td>\n",
       "    </tr>\n",
       "    <tr>\n",
       "      <th>144230</th>\n",
       "      <td>3577529</td>\n",
       "      <td>0</td>\n",
       "      <td>15810912</td>\n",
       "      <td>73.838</td>\n",
       "      <td>0</td>\n",
       "      <td>3169</td>\n",
       "      <td>454</td>\n",
       "      <td>73</td>\n",
       "      <td>2</td>\n",
       "      <td>33</td>\n",
       "      <td>...</td>\n",
       "      <td>1</td>\n",
       "      <td>4</td>\n",
       "      <td>260</td>\n",
       "      <td>4</td>\n",
       "      <td>0</td>\n",
       "      <td>0</td>\n",
       "      <td>1</td>\n",
       "      <td>0</td>\n",
       "      <td>1</td>\n",
       "      <td>11</td>\n",
       "    </tr>\n",
       "    <tr>\n",
       "      <th>144231</th>\n",
       "      <td>3577531</td>\n",
       "      <td>0</td>\n",
       "      <td>15810935</td>\n",
       "      <td>400.000</td>\n",
       "      <td>2</td>\n",
       "      <td>3886</td>\n",
       "      <td>482</td>\n",
       "      <td>42</td>\n",
       "      <td>4</td>\n",
       "      <td>108</td>\n",
       "      <td>...</td>\n",
       "      <td>1</td>\n",
       "      <td>2</td>\n",
       "      <td>183</td>\n",
       "      <td>3</td>\n",
       "      <td>1</td>\n",
       "      <td>0</td>\n",
       "      <td>1</td>\n",
       "      <td>0</td>\n",
       "      <td>0</td>\n",
       "      <td>3</td>\n",
       "    </tr>\n",
       "    <tr>\n",
       "      <th>144232</th>\n",
       "      <td>3577534</td>\n",
       "      <td>0</td>\n",
       "      <td>15811030</td>\n",
       "      <td>67.505</td>\n",
       "      <td>0</td>\n",
       "      <td>3723</td>\n",
       "      <td>307</td>\n",
       "      <td>73</td>\n",
       "      <td>2</td>\n",
       "      <td>106</td>\n",
       "      <td>...</td>\n",
       "      <td>1</td>\n",
       "      <td>4</td>\n",
       "      <td>260</td>\n",
       "      <td>4</td>\n",
       "      <td>0</td>\n",
       "      <td>0</td>\n",
       "      <td>1</td>\n",
       "      <td>0</td>\n",
       "      <td>1</td>\n",
       "      <td>8</td>\n",
       "    </tr>\n",
       "  </tbody>\n",
       "</table>\n",
       "<p>144233 rows × 435 columns</p>\n",
       "</div>"
      ],
      "text/plain": [
       "        TransactionID  isFraud  TransactionDT  TransactionAmt  ProductCD  \\\n",
       "0             2987004        0          86506          50.000          1   \n",
       "1             2987008        0          86535          15.000          1   \n",
       "2             2987010        0          86549          75.887          0   \n",
       "3             2987011        0          86555          16.495          0   \n",
       "4             2987016        0          86620          30.000          1   \n",
       "...               ...      ...            ...             ...        ...   \n",
       "144228        3577521        0       15810802          48.877          0   \n",
       "144229        3577526        1       15810876         250.000          2   \n",
       "144230        3577529        0       15810912          73.838          0   \n",
       "144231        3577531        0       15810935         400.000          2   \n",
       "144232        3577534        0       15811030          67.505          0   \n",
       "\n",
       "        card1  card2  card3  card4  card5  ...  id_31  id_32  id_33  id_34  \\\n",
       "0        2712    413     42      2      2  ...      6      3    164      3   \n",
       "1        1412      0     42      4    108  ...      2      3     48      2   \n",
       "2       12071    251     11      2     30  ...      1      4    260      4   \n",
       "3        2684    274     73      2    106  ...      1      4    260      4   \n",
       "4         631    454     42      4    108  ...      1      2     40      3   \n",
       "...       ...    ...    ...    ...    ...  ...    ...    ...    ...    ...   \n",
       "144228   8606    204      4      2    106  ...      1      4    260      4   \n",
       "144229    172     73     42      4    108  ...      1      3    255      3   \n",
       "144230   3169    454     73      2     33  ...      1      4    260      4   \n",
       "144231   3886    482     42      4    108  ...      1      2    183      3   \n",
       "144232   3723    307     73      2    106  ...      1      4    260      4   \n",
       "\n",
       "        id_35  id_36  id_37  id_38  DeviceType  device_name  \n",
       "0           1      0      1      1           1            4  \n",
       "1           1      0      0      1           1            2  \n",
       "2           0      0      1      1           0            1  \n",
       "3           0      0      1      1           0           11  \n",
       "4           1      0      1      1           0            3  \n",
       "...       ...    ...    ...    ...         ...          ...  \n",
       "144228      0      0      1      0           1           11  \n",
       "144229      1      0      1      0           1           11  \n",
       "144230      0      0      1      0           1           11  \n",
       "144231      1      0      1      0           0            3  \n",
       "144232      0      0      1      0           1            8  \n",
       "\n",
       "[144233 rows x 435 columns]"
      ]
     },
     "execution_count": 192,
     "metadata": {},
     "output_type": "execute_result"
    }
   ],
   "source": [
    "df"
   ]
  },
  {
   "cell_type": "code",
   "execution_count": 193,
   "metadata": {},
   "outputs": [],
   "source": [
    "corr_matrix = df[df['isFraud'].notnull()].corr().abs()"
   ]
  },
  {
   "cell_type": "code",
   "execution_count": 194,
   "metadata": {},
   "outputs": [],
   "source": [
    "upper = corr_matrix.where(np.triu(np.ones(corr_matrix.shape), k=1).astype(np.bool))"
   ]
  },
  {
   "cell_type": "code",
   "execution_count": 193,
   "metadata": {},
   "outputs": [],
   "source": [
    "to_drop = [column for column in upper.columns if any(upper[column] > 0.9)]\n",
    "\n",
    "to_drop.remove('TransactionDT')"
   ]
  },
  {
   "cell_type": "code",
   "execution_count": 195,
   "metadata": {},
   "outputs": [
    {
     "ename": "NameError",
     "evalue": "name 'to_drop' is not defined",
     "output_type": "error",
     "traceback": [
      "\u001b[1;31m---------------------------------------------------------------------------\u001b[0m",
      "\u001b[1;31mNameError\u001b[0m                                 Traceback (most recent call last)",
      "\u001b[1;32m<ipython-input-195-ba448a623489>\u001b[0m in \u001b[0;36m<module>\u001b[1;34m\u001b[0m\n\u001b[1;32m----> 1\u001b[1;33m \u001b[0mdf_prep\u001b[0m \u001b[1;33m=\u001b[0m \u001b[0mdf\u001b[0m\u001b[1;33m.\u001b[0m\u001b[0mdrop\u001b[0m\u001b[1;33m(\u001b[0m\u001b[0mcolumns\u001b[0m \u001b[1;33m=\u001b[0m \u001b[0mto_drop\u001b[0m\u001b[1;33m)\u001b[0m\u001b[1;33m\u001b[0m\u001b[1;33m\u001b[0m\u001b[0m\n\u001b[0m",
      "\u001b[1;31mNameError\u001b[0m: name 'to_drop' is not defined"
     ]
    }
   ],
   "source": [
    "df_prep = df.drop(columns = to_drop)"
   ]
  },
  {
   "cell_type": "code",
   "execution_count": null,
   "metadata": {},
   "outputs": [],
   "source": [
    "cols = ['TransactionDT'] + ['V'+str(x) for x in range(1,340)]\n",
    "cols.remove('V107')\n",
    "df2 = df[cols].sample(frac=0.2)\n",
    "plt.figure(figsize=(15,15))\n",
    "sns.heatmap(df2[cols].corr(), cmap='RdBu_r', annot=False, center=0.0)\n",
    "plt.title('V1-V339 ALL',fontsize=14)\n",
    "plt.show()"
   ]
  },
  {
   "cell_type": "code",
   "execution_count": 196,
   "metadata": {},
   "outputs": [],
   "source": [
    "df['Trans_min_mean'] = df['TransactionAmt'] - df['TransactionAmt'].mean()\n",
    "df['Trans_min_std'] = df['Trans_min_mean'] / df['TransactionAmt'].std()\n",
    "\n",
    "df['TransactionAmt_to_mean_card1'] = df['TransactionAmt'] / \\\n",
    "    df.groupby(['card1'])['TransactionAmt'].transform('mean')\n",
    "df['TransactionAmt_to_mean_card4'] = df['TransactionAmt'] / \\\n",
    "    df.groupby(['card4'])['TransactionAmt'].transform('mean')\n",
    "df['TransactionAmt_to_std_card1'] = df['TransactionAmt'] / \\\n",
    "    df.groupby(['card1'])['TransactionAmt'].transform('std')\n",
    "df['TransactionAmt_to_std_card4'] = df['TransactionAmt'] / \\\n",
    "    df.groupby(['card4'])['TransactionAmt'].transform('std')"
   ]
  },
  {
   "cell_type": "code",
   "execution_count": 197,
   "metadata": {},
   "outputs": [],
   "source": [
    "df.drop(df[df.TransactionAmt>10000].index, axis=0, inplace=True)"
   ]
  },
  {
   "cell_type": "code",
   "execution_count": 197,
   "metadata": {},
   "outputs": [
    {
     "data": {
      "text/html": [
       "<div>\n",
       "<style scoped>\n",
       "    .dataframe tbody tr th:only-of-type {\n",
       "        vertical-align: middle;\n",
       "    }\n",
       "\n",
       "    .dataframe tbody tr th {\n",
       "        vertical-align: top;\n",
       "    }\n",
       "\n",
       "    .dataframe thead th {\n",
       "        text-align: right;\n",
       "    }\n",
       "</style>\n",
       "<table border=\"1\" class=\"dataframe\">\n",
       "  <thead>\n",
       "    <tr style=\"text-align: right;\">\n",
       "      <th></th>\n",
       "      <th>TransactionID</th>\n",
       "      <th>isFraud</th>\n",
       "      <th>TransactionDT</th>\n",
       "      <th>TransactionAmt</th>\n",
       "      <th>ProductCD</th>\n",
       "      <th>card1</th>\n",
       "      <th>card2</th>\n",
       "      <th>card3</th>\n",
       "      <th>card4</th>\n",
       "      <th>card5</th>\n",
       "      <th>...</th>\n",
       "      <th>id_37</th>\n",
       "      <th>id_38</th>\n",
       "      <th>DeviceType</th>\n",
       "      <th>device_name</th>\n",
       "      <th>Trans_min_mean</th>\n",
       "      <th>Trans_min_std</th>\n",
       "      <th>TransactionAmt_to_mean_card1</th>\n",
       "      <th>TransactionAmt_to_mean_card4</th>\n",
       "      <th>TransactionAmt_to_std_card1</th>\n",
       "      <th>TransactionAmt_to_std_card4</th>\n",
       "    </tr>\n",
       "  </thead>\n",
       "  <tbody>\n",
       "    <tr>\n",
       "      <th>0</th>\n",
       "      <td>2987004</td>\n",
       "      <td>0</td>\n",
       "      <td>86506</td>\n",
       "      <td>50.000</td>\n",
       "      <td>1</td>\n",
       "      <td>2712</td>\n",
       "      <td>413</td>\n",
       "      <td>42</td>\n",
       "      <td>2</td>\n",
       "      <td>2</td>\n",
       "      <td>...</td>\n",
       "      <td>1</td>\n",
       "      <td>1</td>\n",
       "      <td>1</td>\n",
       "      <td>4</td>\n",
       "      <td>-33.554533</td>\n",
       "      <td>-0.336049</td>\n",
       "      <td>0.606061</td>\n",
       "      <td>0.700202</td>\n",
       "      <td>0.633724</td>\n",
       "      <td>0.566274</td>\n",
       "    </tr>\n",
       "    <tr>\n",
       "      <th>1</th>\n",
       "      <td>2987008</td>\n",
       "      <td>0</td>\n",
       "      <td>86535</td>\n",
       "      <td>15.000</td>\n",
       "      <td>1</td>\n",
       "      <td>1412</td>\n",
       "      <td>0</td>\n",
       "      <td>42</td>\n",
       "      <td>4</td>\n",
       "      <td>108</td>\n",
       "      <td>...</td>\n",
       "      <td>0</td>\n",
       "      <td>1</td>\n",
       "      <td>1</td>\n",
       "      <td>2</td>\n",
       "      <td>-68.554533</td>\n",
       "      <td>-0.686573</td>\n",
       "      <td>0.180093</td>\n",
       "      <td>0.185831</td>\n",
       "      <td>0.212693</td>\n",
       "      <td>0.161859</td>\n",
       "    </tr>\n",
       "    <tr>\n",
       "      <th>2</th>\n",
       "      <td>2987010</td>\n",
       "      <td>0</td>\n",
       "      <td>86549</td>\n",
       "      <td>75.887</td>\n",
       "      <td>0</td>\n",
       "      <td>12071</td>\n",
       "      <td>251</td>\n",
       "      <td>11</td>\n",
       "      <td>2</td>\n",
       "      <td>30</td>\n",
       "      <td>...</td>\n",
       "      <td>1</td>\n",
       "      <td>1</td>\n",
       "      <td>0</td>\n",
       "      <td>1</td>\n",
       "      <td>-7.667533</td>\n",
       "      <td>-0.076790</td>\n",
       "      <td>1.289521</td>\n",
       "      <td>1.062724</td>\n",
       "      <td>2.636139</td>\n",
       "      <td>0.859456</td>\n",
       "    </tr>\n",
       "    <tr>\n",
       "      <th>3</th>\n",
       "      <td>2987011</td>\n",
       "      <td>0</td>\n",
       "      <td>86555</td>\n",
       "      <td>16.495</td>\n",
       "      <td>0</td>\n",
       "      <td>2684</td>\n",
       "      <td>274</td>\n",
       "      <td>73</td>\n",
       "      <td>2</td>\n",
       "      <td>106</td>\n",
       "      <td>...</td>\n",
       "      <td>1</td>\n",
       "      <td>1</td>\n",
       "      <td>0</td>\n",
       "      <td>11</td>\n",
       "      <td>-67.059533</td>\n",
       "      <td>-0.671601</td>\n",
       "      <td>0.417514</td>\n",
       "      <td>0.230996</td>\n",
       "      <td>0.437795</td>\n",
       "      <td>0.186814</td>\n",
       "    </tr>\n",
       "    <tr>\n",
       "      <th>4</th>\n",
       "      <td>2987016</td>\n",
       "      <td>0</td>\n",
       "      <td>86620</td>\n",
       "      <td>30.000</td>\n",
       "      <td>1</td>\n",
       "      <td>631</td>\n",
       "      <td>454</td>\n",
       "      <td>42</td>\n",
       "      <td>4</td>\n",
       "      <td>108</td>\n",
       "      <td>...</td>\n",
       "      <td>1</td>\n",
       "      <td>1</td>\n",
       "      <td>0</td>\n",
       "      <td>3</td>\n",
       "      <td>-53.554533</td>\n",
       "      <td>-0.536348</td>\n",
       "      <td>0.692308</td>\n",
       "      <td>0.371663</td>\n",
       "      <td>2.598076</td>\n",
       "      <td>0.323718</td>\n",
       "    </tr>\n",
       "  </tbody>\n",
       "</table>\n",
       "<p>5 rows × 441 columns</p>\n",
       "</div>"
      ],
      "text/plain": [
       "   TransactionID  isFraud  TransactionDT  TransactionAmt  ProductCD  card1  \\\n",
       "0        2987004        0          86506          50.000          1   2712   \n",
       "1        2987008        0          86535          15.000          1   1412   \n",
       "2        2987010        0          86549          75.887          0  12071   \n",
       "3        2987011        0          86555          16.495          0   2684   \n",
       "4        2987016        0          86620          30.000          1    631   \n",
       "\n",
       "   card2  card3  card4  card5  ...  id_37  id_38  DeviceType  device_name  \\\n",
       "0    413     42      2      2  ...      1      1           1            4   \n",
       "1      0     42      4    108  ...      0      1           1            2   \n",
       "2    251     11      2     30  ...      1      1           0            1   \n",
       "3    274     73      2    106  ...      1      1           0           11   \n",
       "4    454     42      4    108  ...      1      1           0            3   \n",
       "\n",
       "   Trans_min_mean  Trans_min_std  TransactionAmt_to_mean_card1  \\\n",
       "0      -33.554533      -0.336049                      0.606061   \n",
       "1      -68.554533      -0.686573                      0.180093   \n",
       "2       -7.667533      -0.076790                      1.289521   \n",
       "3      -67.059533      -0.671601                      0.417514   \n",
       "4      -53.554533      -0.536348                      0.692308   \n",
       "\n",
       "   TransactionAmt_to_mean_card4  TransactionAmt_to_std_card1  \\\n",
       "0                      0.700202                     0.633724   \n",
       "1                      0.185831                     0.212693   \n",
       "2                      1.062724                     2.636139   \n",
       "3                      0.230996                     0.437795   \n",
       "4                      0.371663                     2.598076   \n",
       "\n",
       "   TransactionAmt_to_std_card4  \n",
       "0                     0.566274  \n",
       "1                     0.161859  \n",
       "2                     0.859456  \n",
       "3                     0.186814  \n",
       "4                     0.323718  \n",
       "\n",
       "[5 rows x 441 columns]"
      ]
     },
     "execution_count": 197,
     "metadata": {},
     "output_type": "execute_result"
    }
   ],
   "source": [
    "df.head()"
   ]
  },
  {
   "cell_type": "markdown",
   "metadata": {},
   "source": [
    "# LightGMB"
   ]
  },
  {
   "cell_type": "code",
   "execution_count": 198,
   "metadata": {
    "scrolled": true
   },
   "outputs": [
    {
     "data": {
      "text/plain": [
       "((144233, 439), 144233)"
      ]
     },
     "execution_count": 198,
     "metadata": {},
     "output_type": "execute_result"
    }
   ],
   "source": [
    "features = [f for f in df.columns if f not in ['TransactionID','isFraud']]\n",
    "X = df[features]\n",
    "y = df['isFraud']\n",
    "X.shape,len(y)"
   ]
  },
  {
   "cell_type": "code",
   "execution_count": 199,
   "metadata": {
    "scrolled": true
   },
   "outputs": [
    {
     "name": "stdout",
     "output_type": "stream",
     "text": [
      "(129809, 439) (14424, 439) 129809 14424\n"
     ]
    }
   ],
   "source": [
    "from sklearn.model_selection import train_test_split\n",
    "from sklearn.metrics import f1_score,precision_recall_fscore_support,classification_report,confusion_matrix\n",
    "import lightgbm as lgb \n",
    "\n",
    "X_train,X_valid, y_train,y_valid = train_test_split(X,y,shuffle=True,random_state=10, test_size=0.1)\n",
    "print(X_train.shape,X_valid.shape,len(y_train),len(y_valid))"
   ]
  },
  {
   "cell_type": "code",
   "execution_count": 200,
   "metadata": {},
   "outputs": [
    {
     "name": "stdout",
     "output_type": "stream",
     "text": [
      "(129809, 439) (14424, 439) 129809 14424\n"
     ]
    }
   ],
   "source": [
    "#split out for some test set as if it is future unseen data, using train_test_split for now\n",
    "X_train,X_test, y_train,y_test = train_test_split(X,y,shuffle=True,random_state=10, test_size=0.1)\n",
    "print(X_train.shape,X_test.shape,len(y_train),len(y_test))"
   ]
  },
  {
   "cell_type": "code",
   "execution_count": 201,
   "metadata": {},
   "outputs": [],
   "source": [
    "# we better to reindex the data\n",
    "X_train.reset_index(drop=True,inplace=True)\n",
    "X_test.reset_index(drop=True,inplace=True)\n",
    "y_train.reset_index(drop=True,inplace=True)\n",
    "y_test.reset_index(drop=True,inplace=True)"
   ]
  },
  {
   "cell_type": "code",
   "execution_count": 201,
   "metadata": {},
   "outputs": [],
   "source": [
    "model_lgb = lgb.LGBMClassifier(\n",
    "            n_jobs=4,\n",
    "            n_estimators=100000,\n",
    "            boost_from_average='false',\n",
    "            learning_rate=0.01,\n",
    "            num_leaves=64,\n",
    "            num_threads=4,\n",
    "            max_depth=-1,\n",
    "            tree_learner = \"serial\",\n",
    "            feature_fraction = 0.7,\n",
    "            bagging_freq = 5,\n",
    "            bagging_fraction = 0.7,\n",
    "            min_data_in_leaf=100,\n",
    "            silent=-1,\n",
    "            verbose=-1,\n",
    "            max_bin = 255,\n",
    "            bagging_seed = 11,\n",
    "            )"
   ]
  },
  {
   "cell_type": "code",
   "execution_count": 202,
   "metadata": {
    "scrolled": false
   },
   "outputs": [
    {
     "name": "stdout",
     "output_type": "stream",
     "text": [
      "[LightGBM] [Warning] feature_fraction is set=0.7, colsample_bytree=1.0 will be ignored. Current value: feature_fraction=0.7\n",
      "[LightGBM] [Warning] min_data_in_leaf is set=100, min_child_samples=20 will be ignored. Current value: min_data_in_leaf=100\n",
      "[LightGBM] [Warning] bagging_fraction is set=0.7, subsample=1.0 will be ignored. Current value: bagging_fraction=0.7\n",
      "[LightGBM] [Warning] num_threads is set=4, n_jobs=4 will be ignored. Current value: num_threads=4\n",
      "[LightGBM] [Warning] bagging_freq is set=5, subsample_freq=0 will be ignored. Current value: bagging_freq=5\n",
      "Training until validation scores don't improve for 300 rounds\n",
      "[200]\ttraining's auc: 0.94537\ttraining's binary_logloss: 0.163848\tvalid_1's auc: 0.947381\tvalid_1's binary_logloss: 0.165698\n",
      "[400]\ttraining's auc: 0.963328\ttraining's binary_logloss: 0.105064\tvalid_1's auc: 0.961075\tvalid_1's binary_logloss: 0.109952\n",
      "[600]\ttraining's auc: 0.975583\ttraining's binary_logloss: 0.0848689\tvalid_1's auc: 0.970629\tvalid_1's binary_logloss: 0.093711\n",
      "[800]\ttraining's auc: 0.982655\ttraining's binary_logloss: 0.0728596\tvalid_1's auc: 0.97556\tvalid_1's binary_logloss: 0.0856228\n",
      "[1000]\ttraining's auc: 0.987491\ttraining's binary_logloss: 0.0641628\tvalid_1's auc: 0.978295\tvalid_1's binary_logloss: 0.0802311\n",
      "[1200]\ttraining's auc: 0.990745\ttraining's binary_logloss: 0.0573247\tvalid_1's auc: 0.980164\tvalid_1's binary_logloss: 0.0763273\n",
      "[1400]\ttraining's auc: 0.99311\ttraining's binary_logloss: 0.0516992\tvalid_1's auc: 0.981561\tvalid_1's binary_logloss: 0.0732624\n",
      "[1600]\ttraining's auc: 0.994845\ttraining's binary_logloss: 0.0469033\tvalid_1's auc: 0.982555\tvalid_1's binary_logloss: 0.0705995\n",
      "[1800]\ttraining's auc: 0.996181\ttraining's binary_logloss: 0.0426992\tvalid_1's auc: 0.98342\tvalid_1's binary_logloss: 0.0683264\n",
      "[2000]\ttraining's auc: 0.99714\ttraining's binary_logloss: 0.0389894\tvalid_1's auc: 0.984093\tvalid_1's binary_logloss: 0.0665356\n",
      "[2200]\ttraining's auc: 0.997915\ttraining's binary_logloss: 0.0356425\tvalid_1's auc: 0.984636\tvalid_1's binary_logloss: 0.0650086\n",
      "[2400]\ttraining's auc: 0.9985\ttraining's binary_logloss: 0.0325814\tvalid_1's auc: 0.985174\tvalid_1's binary_logloss: 0.0634302\n",
      "[2600]\ttraining's auc: 0.998917\ttraining's binary_logloss: 0.0298905\tvalid_1's auc: 0.985488\tvalid_1's binary_logloss: 0.0622547\n",
      "[2800]\ttraining's auc: 0.999242\ttraining's binary_logloss: 0.0273842\tvalid_1's auc: 0.985728\tvalid_1's binary_logloss: 0.0612116\n",
      "[3000]\ttraining's auc: 0.999473\ttraining's binary_logloss: 0.0251076\tvalid_1's auc: 0.985942\tvalid_1's binary_logloss: 0.0603243\n",
      "[3200]\ttraining's auc: 0.999629\ttraining's binary_logloss: 0.0230775\tvalid_1's auc: 0.986157\tvalid_1's binary_logloss: 0.0595023\n",
      "[3400]\ttraining's auc: 0.999738\ttraining's binary_logloss: 0.0212372\tvalid_1's auc: 0.986303\tvalid_1's binary_logloss: 0.0587417\n",
      "[3600]\ttraining's auc: 0.999821\ttraining's binary_logloss: 0.019515\tvalid_1's auc: 0.986499\tvalid_1's binary_logloss: 0.0580332\n",
      "[3800]\ttraining's auc: 0.99989\ttraining's binary_logloss: 0.0179144\tvalid_1's auc: 0.986609\tvalid_1's binary_logloss: 0.0575314\n",
      "[4000]\ttraining's auc: 0.999935\ttraining's binary_logloss: 0.016468\tvalid_1's auc: 0.986711\tvalid_1's binary_logloss: 0.0570168\n",
      "[4200]\ttraining's auc: 0.999958\ttraining's binary_logloss: 0.0151535\tvalid_1's auc: 0.986802\tvalid_1's binary_logloss: 0.0566229\n",
      "[4400]\ttraining's auc: 0.999976\ttraining's binary_logloss: 0.0139289\tvalid_1's auc: 0.986884\tvalid_1's binary_logloss: 0.0562185\n",
      "[4600]\ttraining's auc: 0.999987\ttraining's binary_logloss: 0.0128498\tvalid_1's auc: 0.987032\tvalid_1's binary_logloss: 0.0558741\n",
      "[4800]\ttraining's auc: 0.999993\ttraining's binary_logloss: 0.011829\tvalid_1's auc: 0.987032\tvalid_1's binary_logloss: 0.0556283\n",
      "[5000]\ttraining's auc: 0.999997\ttraining's binary_logloss: 0.0108927\tvalid_1's auc: 0.987009\tvalid_1's binary_logloss: 0.0554854\n",
      "Early stopping, best iteration is:\n",
      "[4829]\ttraining's auc: 0.999994\ttraining's binary_logloss: 0.0116799\tvalid_1's auc: 0.987063\tvalid_1's binary_logloss: 0.0555697\n"
     ]
    },
    {
     "data": {
      "text/plain": [
       "LGBMClassifier(bagging_fraction=0.7, bagging_freq=5, bagging_seed=11,\n",
       "               boost_from_average='false', feature_fraction=0.7,\n",
       "               learning_rate=0.01, max_bin=255, min_data_in_leaf=100,\n",
       "               n_estimators=100000, n_jobs=4, num_leaves=64, num_threads=4,\n",
       "               silent=-1, tree_learner='serial', verbose=-1)"
      ]
     },
     "execution_count": 202,
     "metadata": {},
     "output_type": "execute_result"
    }
   ],
   "source": [
    "model_lgb.fit(X_train, y_train, eval_set=[(X_train, y_train), (X_valid, y_valid)], eval_metric = 'auc', verbose=200, early_stopping_rounds = 300)"
   ]
  },
  {
   "cell_type": "code",
   "execution_count": 449,
   "metadata": {},
   "outputs": [],
   "source": [
    "preds = model_lgb.predict(X_valid)"
   ]
  },
  {
   "cell_type": "code",
   "execution_count": 450,
   "metadata": {},
   "outputs": [],
   "source": [
    "y_valid_lgb = model_lgb.predict_proba(X_valid,num_iteration=model_lgb.best_iteration_)[:,1]"
   ]
  },
  {
   "cell_type": "code",
   "execution_count": 451,
   "metadata": {},
   "outputs": [
    {
     "name": "stdout",
     "output_type": "stream",
     "text": [
      "0.8876860622462788 0.27\n"
     ]
    }
   ],
   "source": [
    "best_f1 = -np.inf\n",
    "best_thred = 0\n",
    "v = [i*0.01 for i in range(50)]\n",
    "for thred in v:\n",
    "    preds = (y_valid_lgb>thred).astype(int)\n",
    "    f1 = f1_score(y_valid,preds)\n",
    "#     print(thred,f1)\n",
    "    if f1>best_f1:\n",
    "        best_f1 = f1\n",
    "        best_thred = thred\n",
    "print(best_f1,best_thred)"
   ]
  },
  {
   "cell_type": "code",
   "execution_count": 452,
   "metadata": {},
   "outputs": [],
   "source": [
    "y_pred_lgb = (y_valid_lgb>best_thred).astype(int)"
   ]
  },
  {
   "cell_type": "code",
   "execution_count": 453,
   "metadata": {
    "scrolled": true
   },
   "outputs": [
    {
     "data": {
      "text/plain": [
       "array([[13191,   109],\n",
       "       [  140,   984]], dtype=int64)"
      ]
     },
     "execution_count": 453,
     "metadata": {},
     "output_type": "execute_result"
    }
   ],
   "source": [
    "confusion_matrix(y_valid,y_pred_lgb)"
   ]
  },
  {
   "cell_type": "code",
   "execution_count": 454,
   "metadata": {},
   "outputs": [
    {
     "data": {
      "text/plain": [
       "0.8876860622462788"
      ]
     },
     "execution_count": 454,
     "metadata": {},
     "output_type": "execute_result"
    }
   ],
   "source": [
    "f1_score(y_valid,y_pred_lgb)"
   ]
  },
  {
   "cell_type": "code",
   "execution_count": 455,
   "metadata": {
    "scrolled": true
   },
   "outputs": [
    {
     "name": "stdout",
     "output_type": "stream",
     "text": [
      "              precision    recall  f1-score   support\n",
      "\n",
      "           0       0.99      0.99      0.99     13300\n",
      "           1       0.90      0.88      0.89      1124\n",
      "\n",
      "    accuracy                           0.98     14424\n",
      "   macro avg       0.94      0.93      0.94     14424\n",
      "weighted avg       0.98      0.98      0.98     14424\n",
      "\n"
     ]
    }
   ],
   "source": [
    "print(classification_report(y_valid,y_pred_lgb))"
   ]
  },
  {
   "cell_type": "code",
   "execution_count": 483,
   "metadata": {},
   "outputs": [],
   "source": [
    "from sklearn.metrics import roc_curve\n",
    "from sklearn.metrics import roc_auc_score\n",
    "from matplotlib import pyplot"
   ]
  },
  {
   "cell_type": "code",
   "execution_count": 476,
   "metadata": {},
   "outputs": [],
   "source": [
    "ns_probs = [0 for _ in range(len(y_valid))]"
   ]
  },
  {
   "cell_type": "code",
   "execution_count": 477,
   "metadata": {},
   "outputs": [],
   "source": [
    "ns_auc = roc_auc_score(y_valid, ns_probs)\n",
    "lr_auc = roc_auc_score(y_valid, y_pred_lgb)"
   ]
  },
  {
   "cell_type": "code",
   "execution_count": 478,
   "metadata": {},
   "outputs": [
    {
     "name": "stdout",
     "output_type": "stream",
     "text": [
      "No Skill: ROC AUC=0.500\n",
      "Logistic: ROC AUC=0.934\n"
     ]
    }
   ],
   "source": [
    "print('No Skill: ROC AUC=%.3f' % (ns_auc))\n",
    "print('Logistic: ROC AUC=%.3f' % (lr_auc))"
   ]
  },
  {
   "cell_type": "code",
   "execution_count": 481,
   "metadata": {},
   "outputs": [],
   "source": [
    "ns_fpr, ns_tpr, _ = roc_curve(y_valid, ns_probs)\n",
    "lr_fpr, lr_tpr, _ = roc_curve(y_valid, y_pred_lgb)"
   ]
  },
  {
   "cell_type": "code",
   "execution_count": 485,
   "metadata": {},
   "outputs": [
    {
     "data": {
      "text/plain": [
       "Text(0, 0.5, 'True Positive Rate')"
      ]
     },
     "execution_count": 485,
     "metadata": {},
     "output_type": "execute_result"
    },
    {
     "data": {
      "image/png": "[encoded data removed]",
      "text/plain": [
       "<Figure size 432x288 with 1 Axes>"
      ]
     },
     "metadata": {
      "needs_background": "light"
     },
     "output_type": "display_data"
    }
   ],
   "source": [
    "pyplot.plot(ns_fpr, ns_tpr, linestyle='--', label='No Skill')\n",
    "pyplot.plot(lr_fpr, lr_tpr, marker='.', label='Logistic')\n",
    "pyplot.xlabel('False Positive Rate')\n",
    "pyplot.ylabel('True Positive Rate')"
   ]
  },
  {
   "cell_type": "markdown",
   "metadata": {},
   "source": [
    "# StratifiedKFold"
   ]
  },
  {
   "cell_type": "code",
   "execution_count": 202,
   "metadata": {},
   "outputs": [],
   "source": [
    "from sklearn.preprocessing import LabelEncoder\n",
    "from sklearn.model_selection import train_test_split,KFold,StratifiedKFold\n",
    "from sklearn.metrics import roc_auc_score\n",
    "import glob\n",
    "import lightgbm as lgb # load lightGBM model"
   ]
  },
  {
   "cell_type": "code",
   "execution_count": 203,
   "metadata": {},
   "outputs": [
    {
     "data": {
      "text/plain": [
       "((144233, 438), 144233)"
      ]
     },
     "execution_count": 203,
     "metadata": {},
     "output_type": "execute_result"
    }
   ],
   "source": [
    "features = [f for f in df.columns if f not in ['TransactionID','isFraud','TransactionDT']]\n",
    "X = df[features]\n",
    "y = df['isFraud']\n",
    "X.shape,len(y)"
   ]
  },
  {
   "cell_type": "code",
   "execution_count": 204,
   "metadata": {},
   "outputs": [
    {
     "name": "stdout",
     "output_type": "stream",
     "text": [
      "(129809, 438) (14424, 438) 129809 14424\n"
     ]
    }
   ],
   "source": [
    "#split out for some test set as if it is future unseen data, using train_test_split for now\n",
    "X_train,X_test, y_train,y_test = train_test_split(X,y,shuffle=True,random_state=10, test_size=0.1)\n",
    "print(X_train.shape,X_test.shape,len(y_train),len(y_test))"
   ]
  },
  {
   "cell_type": "code",
   "execution_count": 205,
   "metadata": {},
   "outputs": [],
   "source": [
    "# we better to reindex the data\n",
    "X_train.reset_index(drop=True,inplace=True)\n",
    "X_test.reset_index(drop=True,inplace=True)\n",
    "y_train.reset_index(drop=True,inplace=True)\n",
    "y_test.reset_index(drop=True,inplace=True)"
   ]
  },
  {
   "cell_type": "code",
   "execution_count": 206,
   "metadata": {},
   "outputs": [],
   "source": [
    "kf = StratifiedKFold(n_splits=5,shuffle=True,random_state=10)"
   ]
  },
  {
   "cell_type": "code",
   "execution_count": 207,
   "metadata": {},
   "outputs": [],
   "source": [
    "model_lgb = lgb.LGBMClassifier(\n",
    "            n_jobs=4,\n",
    "            n_estimators=100000,\n",
    "            boost_from_average='false',\n",
    "            learning_rate=0.01,\n",
    "            num_leaves=64,\n",
    "            num_threads=4,\n",
    "            max_depth=-1,\n",
    "            tree_learner = \"serial\",\n",
    "            feature_fraction = 0.7,\n",
    "            bagging_freq = 5,\n",
    "            bagging_fraction = 0.7,\n",
    "            min_data_in_leaf=100,\n",
    "            silent=-1,\n",
    "            verbose=-1,\n",
    "            max_bin = 255,\n",
    "            bagging_seed = 11,\n",
    "            )"
   ]
  },
  {
   "cell_type": "code",
   "execution_count": 208,
   "metadata": {
    "scrolled": false
   },
   "outputs": [
    {
     "name": "stdout",
     "output_type": "stream",
     "text": [
      "...... training 1th fold \n",
      "\n",
      "[LightGBM] [Warning] feature_fraction is set=0.7, colsample_bytree=1.0 will be ignored. Current value: feature_fraction=0.7\n",
      "[LightGBM] [Warning] min_data_in_leaf is set=100, min_child_samples=20 will be ignored. Current value: min_data_in_leaf=100\n",
      "[LightGBM] [Warning] bagging_fraction is set=0.7, subsample=1.0 will be ignored. Current value: bagging_fraction=0.7\n",
      "[LightGBM] [Warning] num_threads is set=4, n_jobs=4 will be ignored. Current value: num_threads=4\n",
      "[LightGBM] [Warning] bagging_freq is set=5, subsample_freq=0 will be ignored. Current value: bagging_freq=5\n",
      "Training until validation scores don't improve for 300 rounds\n",
      "[500]\ttraining's auc: 0.969392\ttraining's binary_logloss: 0.094519\tvalid_1's auc: 0.95834\tvalid_1's binary_logloss: 0.105022\n",
      "[1000]\ttraining's auc: 0.988407\ttraining's binary_logloss: 0.0636666\tvalid_1's auc: 0.970783\tvalid_1's binary_logloss: 0.0859101\n",
      "[1500]\ttraining's auc: 0.995157\ttraining's binary_logloss: 0.0477864\tvalid_1's auc: 0.974612\tvalid_1's binary_logloss: 0.0784497\n",
      "[2000]\ttraining's auc: 0.997991\ttraining's binary_logloss: 0.037031\tvalid_1's auc: 0.97644\tvalid_1's binary_logloss: 0.0741657\n",
      "[2500]\ttraining's auc: 0.999239\ttraining's binary_logloss: 0.0290697\tvalid_1's auc: 0.977498\tvalid_1's binary_logloss: 0.071474\n",
      "[3000]\ttraining's auc: 0.999755\ttraining's binary_logloss: 0.0228996\tvalid_1's auc: 0.978227\tvalid_1's binary_logloss: 0.0697733\n",
      "[3500]\ttraining's auc: 0.999935\ttraining's binary_logloss: 0.0181426\tvalid_1's auc: 0.978489\tvalid_1's binary_logloss: 0.0690195\n",
      "[4000]\ttraining's auc: 0.999987\ttraining's binary_logloss: 0.0144365\tvalid_1's auc: 0.978707\tvalid_1's binary_logloss: 0.0685225\n",
      "Early stopping, best iteration is:\n",
      "[3930]\ttraining's auc: 0.999982\ttraining's binary_logloss: 0.0149278\tvalid_1's auc: 0.978747\tvalid_1's binary_logloss: 0.0684898\n",
      "current best auc score is:0.9787471849820938\n",
      "...... training 2th fold \n",
      "\n",
      "[LightGBM] [Warning] feature_fraction is set=0.7, colsample_bytree=1.0 will be ignored. Current value: feature_fraction=0.7\n",
      "[LightGBM] [Warning] min_data_in_leaf is set=100, min_child_samples=20 will be ignored. Current value: min_data_in_leaf=100\n",
      "[LightGBM] [Warning] bagging_fraction is set=0.7, subsample=1.0 will be ignored. Current value: bagging_fraction=0.7\n",
      "[LightGBM] [Warning] num_threads is set=4, n_jobs=4 will be ignored. Current value: num_threads=4\n",
      "[LightGBM] [Warning] bagging_freq is set=5, subsample_freq=0 will be ignored. Current value: bagging_freq=5\n",
      "Training until validation scores don't improve for 300 rounds\n",
      "[500]\ttraining's auc: 0.969633\ttraining's binary_logloss: 0.0939513\tvalid_1's auc: 0.956265\tvalid_1's binary_logloss: 0.108007\n",
      "[1000]\ttraining's auc: 0.988607\ttraining's binary_logloss: 0.0635301\tvalid_1's auc: 0.970661\tvalid_1's binary_logloss: 0.0879039\n",
      "[1500]\ttraining's auc: 0.995176\ttraining's binary_logloss: 0.0478335\tvalid_1's auc: 0.974884\tvalid_1's binary_logloss: 0.0799488\n",
      "[2000]\ttraining's auc: 0.997853\ttraining's binary_logloss: 0.037262\tvalid_1's auc: 0.97689\tvalid_1's binary_logloss: 0.0754852\n",
      "[2500]\ttraining's auc: 0.999151\ttraining's binary_logloss: 0.029114\tvalid_1's auc: 0.978217\tvalid_1's binary_logloss: 0.0723087\n",
      "[3000]\ttraining's auc: 0.999686\ttraining's binary_logloss: 0.0230865\tvalid_1's auc: 0.978911\tvalid_1's binary_logloss: 0.0704382\n",
      "[3500]\ttraining's auc: 0.999907\ttraining's binary_logloss: 0.0183054\tvalid_1's auc: 0.979323\tvalid_1's binary_logloss: 0.0691396\n",
      "[4000]\ttraining's auc: 0.999973\ttraining's binary_logloss: 0.0145905\tvalid_1's auc: 0.979637\tvalid_1's binary_logloss: 0.0684048\n",
      "[4500]\ttraining's auc: 0.999994\ttraining's binary_logloss: 0.0116678\tvalid_1's auc: 0.979872\tvalid_1's binary_logloss: 0.0681254\n",
      "[5000]\ttraining's auc: 1\ttraining's binary_logloss: 0.0093146\tvalid_1's auc: 0.980063\tvalid_1's binary_logloss: 0.0681849\n",
      "Early stopping, best iteration is:\n",
      "[4729]\ttraining's auc: 0.999998\ttraining's binary_logloss: 0.0105141\tvalid_1's auc: 0.979939\tvalid_1's binary_logloss: 0.0680863\n",
      "current best auc score is:0.9799392144123011\n",
      "...... training 3th fold \n",
      "\n",
      "[LightGBM] [Warning] feature_fraction is set=0.7, colsample_bytree=1.0 will be ignored. Current value: feature_fraction=0.7\n",
      "[LightGBM] [Warning] min_data_in_leaf is set=100, min_child_samples=20 will be ignored. Current value: min_data_in_leaf=100\n",
      "[LightGBM] [Warning] bagging_fraction is set=0.7, subsample=1.0 will be ignored. Current value: bagging_fraction=0.7\n",
      "[LightGBM] [Warning] num_threads is set=4, n_jobs=4 will be ignored. Current value: num_threads=4\n",
      "[LightGBM] [Warning] bagging_freq is set=5, subsample_freq=0 will be ignored. Current value: bagging_freq=5\n",
      "Training until validation scores don't improve for 300 rounds\n",
      "[500]\ttraining's auc: 0.969568\ttraining's binary_logloss: 0.0941748\tvalid_1's auc: 0.957538\tvalid_1's binary_logloss: 0.106076\n",
      "[1000]\ttraining's auc: 0.988109\ttraining's binary_logloss: 0.0636814\tvalid_1's auc: 0.9703\tvalid_1's binary_logloss: 0.0869195\n",
      "[1500]\ttraining's auc: 0.994888\ttraining's binary_logloss: 0.0478891\tvalid_1's auc: 0.974512\tvalid_1's binary_logloss: 0.0794081\n",
      "[2000]\ttraining's auc: 0.997905\ttraining's binary_logloss: 0.0371185\tvalid_1's auc: 0.97669\tvalid_1's binary_logloss: 0.0752873\n",
      "[2500]\ttraining's auc: 0.99918\ttraining's binary_logloss: 0.0290998\tvalid_1's auc: 0.978115\tvalid_1's binary_logloss: 0.0723866\n",
      "[3000]\ttraining's auc: 0.999718\ttraining's binary_logloss: 0.0229197\tvalid_1's auc: 0.978915\tvalid_1's binary_logloss: 0.0706616\n",
      "[3500]\ttraining's auc: 0.999911\ttraining's binary_logloss: 0.0182129\tvalid_1's auc: 0.979196\tvalid_1's binary_logloss: 0.0697114\n",
      "[4000]\ttraining's auc: 0.999979\ttraining's binary_logloss: 0.0144721\tvalid_1's auc: 0.979479\tvalid_1's binary_logloss: 0.0691162\n",
      "[4500]\ttraining's auc: 0.999997\ttraining's binary_logloss: 0.0115388\tvalid_1's auc: 0.979577\tvalid_1's binary_logloss: 0.0691448\n",
      "Early stopping, best iteration is:\n",
      "[4203]\ttraining's auc: 0.99999\ttraining's binary_logloss: 0.0131885\tvalid_1's auc: 0.979519\tvalid_1's binary_logloss: 0.0690112\n",
      "current best auc score is:0.9795194230828487\n",
      "...... training 4th fold \n",
      "\n",
      "[LightGBM] [Warning] feature_fraction is set=0.7, colsample_bytree=1.0 will be ignored. Current value: feature_fraction=0.7\n",
      "[LightGBM] [Warning] min_data_in_leaf is set=100, min_child_samples=20 will be ignored. Current value: min_data_in_leaf=100\n",
      "[LightGBM] [Warning] bagging_fraction is set=0.7, subsample=1.0 will be ignored. Current value: bagging_fraction=0.7\n",
      "[LightGBM] [Warning] num_threads is set=4, n_jobs=4 will be ignored. Current value: num_threads=4\n",
      "[LightGBM] [Warning] bagging_freq is set=5, subsample_freq=0 will be ignored. Current value: bagging_freq=5\n",
      "Training until validation scores don't improve for 300 rounds\n",
      "[500]\ttraining's auc: 0.9697\ttraining's binary_logloss: 0.0945387\tvalid_1's auc: 0.957824\tvalid_1's binary_logloss: 0.103576\n",
      "[1000]\ttraining's auc: 0.988274\ttraining's binary_logloss: 0.0639016\tvalid_1's auc: 0.970036\tvalid_1's binary_logloss: 0.0852145\n",
      "[1500]\ttraining's auc: 0.994841\ttraining's binary_logloss: 0.0481692\tvalid_1's auc: 0.974171\tvalid_1's binary_logloss: 0.0781013\n",
      "[2000]\ttraining's auc: 0.997828\ttraining's binary_logloss: 0.0372149\tvalid_1's auc: 0.976432\tvalid_1's binary_logloss: 0.0737601\n",
      "[2500]\ttraining's auc: 0.999101\ttraining's binary_logloss: 0.0293069\tvalid_1's auc: 0.977459\tvalid_1's binary_logloss: 0.0711152\n",
      "[3000]\ttraining's auc: 0.999702\ttraining's binary_logloss: 0.0230409\tvalid_1's auc: 0.978125\tvalid_1's binary_logloss: 0.0694004\n",
      "[3500]\ttraining's auc: 0.999914\ttraining's binary_logloss: 0.0182648\tvalid_1's auc: 0.978479\tvalid_1's binary_logloss: 0.0683814\n",
      "[4000]\ttraining's auc: 0.99998\ttraining's binary_logloss: 0.0144888\tvalid_1's auc: 0.978747\tvalid_1's binary_logloss: 0.0679214\n",
      "[4500]\ttraining's auc: 0.999997\ttraining's binary_logloss: 0.011528\tvalid_1's auc: 0.97897\tvalid_1's binary_logloss: 0.0677779\n",
      "Early stopping, best iteration is:\n",
      "[4650]\ttraining's auc: 0.999999\ttraining's binary_logloss: 0.0107871\tvalid_1's auc: 0.979038\tvalid_1's binary_logloss: 0.0677246\n",
      "current best auc score is:0.9790381708750592\n",
      "...... training 5th fold \n",
      "\n",
      "[LightGBM] [Warning] feature_fraction is set=0.7, colsample_bytree=1.0 will be ignored. Current value: feature_fraction=0.7\n",
      "[LightGBM] [Warning] min_data_in_leaf is set=100, min_child_samples=20 will be ignored. Current value: min_data_in_leaf=100\n",
      "[LightGBM] [Warning] bagging_fraction is set=0.7, subsample=1.0 will be ignored. Current value: bagging_fraction=0.7\n",
      "[LightGBM] [Warning] num_threads is set=4, n_jobs=4 will be ignored. Current value: num_threads=4\n",
      "[LightGBM] [Warning] bagging_freq is set=5, subsample_freq=0 will be ignored. Current value: bagging_freq=5\n"
     ]
    },
    {
     "name": "stdout",
     "output_type": "stream",
     "text": [
      "Training until validation scores don't improve for 300 rounds\n",
      "[500]\ttraining's auc: 0.968513\ttraining's binary_logloss: 0.094515\tvalid_1's auc: 0.963066\tvalid_1's binary_logloss: 0.104739\n",
      "[1000]\ttraining's auc: 0.987931\ttraining's binary_logloss: 0.0640427\tvalid_1's auc: 0.974699\tvalid_1's binary_logloss: 0.0858756\n",
      "[1500]\ttraining's auc: 0.994764\ttraining's binary_logloss: 0.0482198\tvalid_1's auc: 0.978414\tvalid_1's binary_logloss: 0.0782983\n",
      "[2000]\ttraining's auc: 0.997738\ttraining's binary_logloss: 0.0374668\tvalid_1's auc: 0.980289\tvalid_1's binary_logloss: 0.0738636\n",
      "[2500]\ttraining's auc: 0.999101\ttraining's binary_logloss: 0.0294091\tvalid_1's auc: 0.981555\tvalid_1's binary_logloss: 0.0707787\n",
      "[3000]\ttraining's auc: 0.999676\ttraining's binary_logloss: 0.0232737\tvalid_1's auc: 0.98233\tvalid_1's binary_logloss: 0.0689147\n",
      "[3500]\ttraining's auc: 0.999901\ttraining's binary_logloss: 0.0184506\tvalid_1's auc: 0.982864\tvalid_1's binary_logloss: 0.0676034\n",
      "[4000]\ttraining's auc: 0.999977\ttraining's binary_logloss: 0.0147081\tvalid_1's auc: 0.983114\tvalid_1's binary_logloss: 0.0670078\n",
      "[4500]\ttraining's auc: 0.999997\ttraining's binary_logloss: 0.0116705\tvalid_1's auc: 0.983211\tvalid_1's binary_logloss: 0.066641\n",
      "[5000]\ttraining's auc: 1\ttraining's binary_logloss: 0.00936152\tvalid_1's auc: 0.98337\tvalid_1's binary_logloss: 0.0666634\n",
      "Early stopping, best iteration is:\n",
      "[4773]\ttraining's auc: 0.999999\ttraining's binary_logloss: 0.0103405\tvalid_1's auc: 0.983327\tvalid_1's binary_logloss: 0.066561\n",
      "current best auc score is:0.983326863579368\n"
     ]
    }
   ],
   "source": [
    "auc_scores = [] # save auc score for each fold\n",
    "models = [] #save model for each fold\n",
    "for i, (train_idx,valid_idx) in enumerate(kf.split(X_train,y_train)):\n",
    "    \n",
    "    print('...... training {}th fold \\n'.format(i+1))\n",
    "    tr_X = X_train.loc[train_idx]\n",
    "    tr_y = y_train.loc[train_idx]\n",
    "    \n",
    "    va_X = X_train.loc[valid_idx]\n",
    "    va_y = y_train.loc[valid_idx]\n",
    "    \n",
    "    model = model_lgb # you need to initialize your lgb model at each loop, otherwise it will overwrite\n",
    "    model.fit(tr_X, tr_y, eval_set=[(tr_X, tr_y), (va_X, va_y)], eval_metric = 'auc', verbose=500, early_stopping_rounds = 300)\n",
    "    \n",
    "    # calculate current auc after training the model\n",
    "    pred_va_y = model.predict_proba(va_X,num_iteration=model_lgb.best_iteration_)[:,1]\n",
    "    auc = roc_auc_score(va_y,pred_va_y)\n",
    "    print('current best auc score is:{}'.format(auc))\n",
    "    auc_scores.append(auc)\n",
    "    models.append(model)"
   ]
  },
  {
   "cell_type": "code",
   "execution_count": 209,
   "metadata": {},
   "outputs": [
    {
     "name": "stdout",
     "output_type": "stream",
     "text": [
      "the average mean auc is:0.9801141713863342\n"
     ]
    }
   ],
   "source": [
    "print('the average mean auc is:{}'.format(np.mean(auc_scores)))"
   ]
  }
 ],
 "metadata": {
  "kernelspec": {
   "display_name": "Python 3",
   "language": "python",
   "name": "python3"
  },
  "language_info": {
   "codemirror_mode": {
    "name": "ipython",
    "version": 3
   },
   "file_extension": ".py",
   "mimetype": "text/x-python",
   "name": "python",
   "nbconvert_exporter": "python",
   "pygments_lexer": "ipython3",
   "version": "3.8.3"
  }
 },
 "nbformat": 4,
 "nbformat_minor": 4
}
